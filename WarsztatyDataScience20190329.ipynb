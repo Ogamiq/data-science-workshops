{
  "nbformat": 4,
  "nbformat_minor": 0,
  "metadata": {
    "colab": {
      "name": "WarsztatyDataScience20190329",
      "version": "0.3.2",
      "provenance": [],
      "collapsed_sections": [
        "tt2pS15fxzx7"
      ],
      "toc_visible": true
    },
    "kernelspec": {
      "name": "python3",
      "display_name": "Python 3"
    },
    "accelerator": "TPU"
  },
  "cells": [
    {
      "metadata": {
        "id": "u9Cf85-Sounk",
        "colab_type": "text"
      },
      "cell_type": "markdown",
      "source": [
        "# Data Science Workshop with Coders Crew - 02.03.2019"
      ]
    },
    {
      "metadata": {
        "id": "Icoa2xKYbJ_p",
        "colab_type": "text"
      },
      "cell_type": "markdown",
      "source": [
        "\n",
        "\n",
        "*   Paula Moskalewicz\n",
        "\n"
      ]
    },
    {
      "metadata": {
        "id": "paMd19wasTUr",
        "colab_type": "text"
      },
      "cell_type": "markdown",
      "source": [
        "**Google Colab intro **\n",
        "- table of contents \n",
        "- install libraries\n",
        "- GPU / TPU"
      ]
    },
    {
      "metadata": {
        "id": "lJlZoStfpMK7",
        "colab_type": "text"
      },
      "cell_type": "markdown",
      "source": [
        "### Data Sources"
      ]
    },
    {
      "metadata": {
        "id": "AySmYvCZr3dj",
        "colab_type": "text"
      },
      "cell_type": "markdown",
      "source": [
        "- [Kaggle ](https://www.kaggle.com/datasets)\n",
        "- [UCI ML Repository](https://archive.ics.uci.edu/ml/datasets.html)\n",
        "- [World Bank](https://data.worldbank.org)  ( [mobile](https://data.worldbank.org/indicator/it.cel.sets.p2) )\n",
        "- Python libraries - [scikit-learn](https://scikit-learn.org/stable/datasets/index.html), [keras](https://keras.io/datasets/)\n",
        "- [Google Dataset Search](https://toolbox.google.com/datasetsearch/)"
      ]
    },
    {
      "metadata": {
        "id": "rFlNQpVDpN6O",
        "colab_type": "text"
      },
      "cell_type": "markdown",
      "source": [
        "# Numpy"
      ]
    },
    {
      "metadata": {
        "id": "Gb5cXBQiWy8G",
        "colab_type": "text"
      },
      "cell_type": "markdown",
      "source": [
        "**Why numpy instead of python lists?**\n",
        "\n",
        "\n",
        "\n",
        "*   Faster\n",
        "*   Vectorized\n",
        "*   Less memory needed\n",
        "\n"
      ]
    },
    {
      "metadata": {
        "id": "HD4lAho8XEZ1",
        "colab_type": "code",
        "colab": {}
      },
      "cell_type": "code",
      "source": [
        "import numpy as np"
      ],
      "execution_count": 0,
      "outputs": []
    },
    {
      "metadata": {
        "id": "l9BfXlccsI1r",
        "colab_type": "text"
      },
      "cell_type": "markdown",
      "source": [
        "### Arrays"
      ]
    },
    {
      "metadata": {
        "id": "dZWYQLY8siIZ",
        "colab_type": "code",
        "colab": {}
      },
      "cell_type": "code",
      "source": [
        "x = np.array([1,2,3,4,5])\n",
        "\n",
        "y = [1,2,3,4,5]"
      ],
      "execution_count": 0,
      "outputs": []
    },
    {
      "metadata": {
        "id": "lXfKHG6TZlz7",
        "colab_type": "text"
      },
      "cell_type": "markdown",
      "source": [
        "**Properties**"
      ]
    },
    {
      "metadata": {
        "id": "t2UiCaefZkbo",
        "colab_type": "code",
        "outputId": "e74e8d76-d3a9-4245-cc83-6fc640ed7bfc",
        "colab": {
          "base_uri": "https://localhost:8080/",
          "height": 33
        }
      },
      "cell_type": "code",
      "source": [
        "x.shape"
      ],
      "execution_count": 0,
      "outputs": [
        {
          "output_type": "execute_result",
          "data": {
            "text/plain": [
              "(5,)"
            ]
          },
          "metadata": {
            "tags": []
          },
          "execution_count": 6
        }
      ]
    },
    {
      "metadata": {
        "id": "WAWRoLJNZo4x",
        "colab_type": "code",
        "outputId": "f3cee66e-4163-445c-983a-ac7cfb08940f",
        "colab": {
          "base_uri": "https://localhost:8080/",
          "height": 33
        }
      },
      "cell_type": "code",
      "source": [
        "x[0]"
      ],
      "execution_count": 0,
      "outputs": [
        {
          "output_type": "execute_result",
          "data": {
            "text/plain": [
              "1"
            ]
          },
          "metadata": {
            "tags": []
          },
          "execution_count": 7
        }
      ]
    },
    {
      "metadata": {
        "id": "MAMK2M93aDGq",
        "colab_type": "code",
        "outputId": "d9333a90-58c6-40ec-9e07-1d7731ec25b7",
        "colab": {
          "base_uri": "https://localhost:8080/",
          "height": 33
        }
      },
      "cell_type": "code",
      "source": [
        "x[1:4]"
      ],
      "execution_count": 0,
      "outputs": [
        {
          "output_type": "execute_result",
          "data": {
            "text/plain": [
              "array([2, 3, 4])"
            ]
          },
          "metadata": {
            "tags": []
          },
          "execution_count": 8
        }
      ]
    },
    {
      "metadata": {
        "id": "cRsYk2F1aJvl",
        "colab_type": "code",
        "outputId": "f9591e21-e3b4-41d3-a66b-73cb6405b526",
        "colab": {
          "base_uri": "https://localhost:8080/",
          "height": 33
        }
      },
      "cell_type": "code",
      "source": [
        "x[-1]"
      ],
      "execution_count": 0,
      "outputs": [
        {
          "output_type": "execute_result",
          "data": {
            "text/plain": [
              "5"
            ]
          },
          "metadata": {
            "tags": []
          },
          "execution_count": 10
        }
      ]
    },
    {
      "metadata": {
        "id": "MUs7F-AFZhsp",
        "colab_type": "text"
      },
      "cell_type": "markdown",
      "source": [
        "**Arithmetic operations**"
      ]
    },
    {
      "metadata": {
        "id": "GM93yhNGXPPD",
        "colab_type": "code",
        "outputId": "8c7a39e0-323c-4621-e2e8-91d19ee713bc",
        "colab": {
          "base_uri": "https://localhost:8080/",
          "height": 33
        }
      },
      "cell_type": "code",
      "source": [
        "x*3"
      ],
      "execution_count": 0,
      "outputs": [
        {
          "output_type": "execute_result",
          "data": {
            "text/plain": [
              "array([ 3,  6,  9, 12, 15])"
            ]
          },
          "metadata": {
            "tags": []
          },
          "execution_count": 11
        }
      ]
    },
    {
      "metadata": {
        "id": "QE6J_kuQXWJM",
        "colab_type": "code",
        "outputId": "adf5ad7a-789a-41f7-86dc-990746cad49d",
        "colab": {
          "base_uri": "https://localhost:8080/",
          "height": 33
        }
      },
      "cell_type": "code",
      "source": [
        "y*3"
      ],
      "execution_count": 0,
      "outputs": [
        {
          "output_type": "execute_result",
          "data": {
            "text/plain": [
              "[1, 2, 3, 4, 5, 1, 2, 3, 4, 5, 1, 2, 3, 4, 5]"
            ]
          },
          "metadata": {
            "tags": []
          },
          "execution_count": 12
        }
      ]
    },
    {
      "metadata": {
        "id": "tKX34v3wd20a",
        "colab_type": "code",
        "colab": {}
      },
      "cell_type": "code",
      "source": [
        "z = np.array([-1,0,1,4,5])"
      ],
      "execution_count": 0,
      "outputs": []
    },
    {
      "metadata": {
        "id": "wm2CN7AIeDJi",
        "colab_type": "code",
        "outputId": "a5fa8fdc-b987-43ff-9871-83ec93cc77e8",
        "colab": {
          "base_uri": "https://localhost:8080/",
          "height": 66
        }
      },
      "cell_type": "code",
      "source": [
        "x/z"
      ],
      "execution_count": 0,
      "outputs": [
        {
          "output_type": "stream",
          "text": [
            "/usr/local/lib/python3.6/dist-packages/ipykernel_launcher.py:1: RuntimeWarning: divide by zero encountered in true_divide\n",
            "  \"\"\"Entry point for launching an IPython kernel.\n"
          ],
          "name": "stderr"
        },
        {
          "output_type": "execute_result",
          "data": {
            "text/plain": [
              "array([-1., inf,  3.,  1.,  1.])"
            ]
          },
          "metadata": {
            "tags": []
          },
          "execution_count": 15
        }
      ]
    },
    {
      "metadata": {
        "id": "FAqsppj9dzOw",
        "colab_type": "text"
      },
      "cell_type": "markdown",
      "source": [
        "**Select items**"
      ]
    },
    {
      "metadata": {
        "id": "7Th7iMCOXecq",
        "colab_type": "code",
        "outputId": "7edce641-dfd0-4fd4-85db-6e70b8be59bb",
        "colab": {
          "base_uri": "https://localhost:8080/",
          "height": 33
        }
      },
      "cell_type": "code",
      "source": [
        "x>3"
      ],
      "execution_count": 0,
      "outputs": [
        {
          "output_type": "execute_result",
          "data": {
            "text/plain": [
              "array([False, False, False,  True,  True])"
            ]
          },
          "metadata": {
            "tags": []
          },
          "execution_count": 16
        }
      ]
    },
    {
      "metadata": {
        "id": "BL4G3tpJXj9w",
        "colab_type": "code",
        "outputId": "bb5638f4-2143-4a30-be0a-da9d7a3d2582",
        "colab": {
          "base_uri": "https://localhost:8080/",
          "height": 161
        }
      },
      "cell_type": "code",
      "source": [
        "y>3"
      ],
      "execution_count": 0,
      "outputs": [
        {
          "output_type": "error",
          "ename": "TypeError",
          "evalue": "ignored",
          "traceback": [
            "\u001b[0;31m---------------------------------------------------------------------------\u001b[0m",
            "\u001b[0;31mTypeError\u001b[0m                                 Traceback (most recent call last)",
            "\u001b[0;32m<ipython-input-17-311233423dc9>\u001b[0m in \u001b[0;36m<module>\u001b[0;34m()\u001b[0m\n\u001b[0;32m----> 1\u001b[0;31m \u001b[0my\u001b[0m\u001b[0;34m>\u001b[0m\u001b[0;36m3\u001b[0m\u001b[0;34m\u001b[0m\u001b[0;34m\u001b[0m\u001b[0m\n\u001b[0m",
            "\u001b[0;31mTypeError\u001b[0m: '>' not supported between instances of 'list' and 'int'"
          ]
        }
      ]
    },
    {
      "metadata": {
        "id": "VZi1lpjGYiFN",
        "colab_type": "code",
        "outputId": "544ba0cd-5a5c-459e-8c9d-4c129d3c71bb",
        "colab": {
          "base_uri": "https://localhost:8080/",
          "height": 33
        }
      },
      "cell_type": "code",
      "source": [
        "x[x>3]"
      ],
      "execution_count": 0,
      "outputs": [
        {
          "output_type": "execute_result",
          "data": {
            "text/plain": [
              "array([4, 5])"
            ]
          },
          "metadata": {
            "tags": []
          },
          "execution_count": 18
        }
      ]
    },
    {
      "metadata": {
        "id": "MMvCelQsYpLO",
        "colab_type": "code",
        "outputId": "588e199f-39d3-493a-8157-4a198161ab0a",
        "colab": {
          "base_uri": "https://localhost:8080/",
          "height": 33
        }
      },
      "cell_type": "code",
      "source": [
        "[item for item in y if item>3]"
      ],
      "execution_count": 0,
      "outputs": [
        {
          "output_type": "execute_result",
          "data": {
            "text/plain": [
              "[4, 5]"
            ]
          },
          "metadata": {
            "tags": []
          },
          "execution_count": 19
        }
      ]
    },
    {
      "metadata": {
        "id": "_fUozPyfZRfM",
        "colab_type": "code",
        "outputId": "e98f6d24-f229-4483-e0fc-9881809d3550",
        "colab": {
          "base_uri": "https://localhost:8080/",
          "height": 33
        }
      },
      "cell_type": "code",
      "source": [
        "x**2"
      ],
      "execution_count": 0,
      "outputs": [
        {
          "output_type": "execute_result",
          "data": {
            "text/plain": [
              "array([ 1,  4,  9, 16, 25])"
            ]
          },
          "metadata": {
            "tags": []
          },
          "execution_count": 20
        }
      ]
    },
    {
      "metadata": {
        "id": "H2E3aThVZWRS",
        "colab_type": "code",
        "outputId": "814ba420-84af-49be-a7b0-554149b64046",
        "colab": {
          "base_uri": "https://localhost:8080/",
          "height": 161
        }
      },
      "cell_type": "code",
      "source": [
        "y**2"
      ],
      "execution_count": 0,
      "outputs": [
        {
          "output_type": "error",
          "ename": "TypeError",
          "evalue": "ignored",
          "traceback": [
            "\u001b[0;31m---------------------------------------------------------------------------\u001b[0m",
            "\u001b[0;31mTypeError\u001b[0m                                 Traceback (most recent call last)",
            "\u001b[0;32m<ipython-input-21-51f0edc9bfb9>\u001b[0m in \u001b[0;36m<module>\u001b[0;34m()\u001b[0m\n\u001b[0;32m----> 1\u001b[0;31m \u001b[0my\u001b[0m\u001b[0;34m**\u001b[0m\u001b[0;36m2\u001b[0m\u001b[0;34m\u001b[0m\u001b[0;34m\u001b[0m\u001b[0m\n\u001b[0m",
            "\u001b[0;31mTypeError\u001b[0m: unsupported operand type(s) for ** or pow(): 'list' and 'int'"
          ]
        }
      ]
    },
    {
      "metadata": {
        "id": "aNSVuUm3ZYJ4",
        "colab_type": "code",
        "outputId": "72e92803-14ac-4878-d2aa-c972f09cd324",
        "colab": {
          "base_uri": "https://localhost:8080/",
          "height": 33
        }
      },
      "cell_type": "code",
      "source": [
        "[item**2 for item in y]"
      ],
      "execution_count": 0,
      "outputs": [
        {
          "output_type": "execute_result",
          "data": {
            "text/plain": [
              "[1, 4, 9, 16, 25]"
            ]
          },
          "metadata": {
            "tags": []
          },
          "execution_count": 22
        }
      ]
    },
    {
      "metadata": {
        "id": "7vqi2C7rZ0--",
        "colab_type": "text"
      },
      "cell_type": "markdown",
      "source": [
        "**Other**"
      ]
    },
    {
      "metadata": {
        "id": "8p053IMGZ3DR",
        "colab_type": "code",
        "outputId": "5d853d0e-6e75-4801-978f-66e75a39c9d2",
        "colab": {
          "base_uri": "https://localhost:8080/",
          "height": 33
        }
      },
      "cell_type": "code",
      "source": [
        "x.argmin()"
      ],
      "execution_count": 0,
      "outputs": [
        {
          "output_type": "execute_result",
          "data": {
            "text/plain": [
              "0"
            ]
          },
          "metadata": {
            "tags": []
          },
          "execution_count": 23
        }
      ]
    },
    {
      "metadata": {
        "id": "iTjAkUS3Z5k3",
        "colab_type": "code",
        "outputId": "8b2cd051-d2f5-4ca7-f4af-d509bfda04a5",
        "colab": {
          "base_uri": "https://localhost:8080/",
          "height": 33
        }
      },
      "cell_type": "code",
      "source": [
        "x.argmax()"
      ],
      "execution_count": 0,
      "outputs": [
        {
          "output_type": "execute_result",
          "data": {
            "text/plain": [
              "4"
            ]
          },
          "metadata": {
            "tags": []
          },
          "execution_count": 24
        }
      ]
    },
    {
      "metadata": {
        "id": "S-b8p5IfZ7dm",
        "colab_type": "code",
        "outputId": "a774a581-b3b4-40b7-a90c-770b5c882ca3",
        "colab": {
          "base_uri": "https://localhost:8080/",
          "height": 33
        }
      },
      "cell_type": "code",
      "source": [
        "x.min()"
      ],
      "execution_count": 0,
      "outputs": [
        {
          "output_type": "execute_result",
          "data": {
            "text/plain": [
              "1"
            ]
          },
          "metadata": {
            "tags": []
          },
          "execution_count": 25
        }
      ]
    },
    {
      "metadata": {
        "id": "peKmSwP8Z9pv",
        "colab_type": "code",
        "outputId": "61489e3a-32eb-4663-c4a9-209c4cb4f45c",
        "colab": {
          "base_uri": "https://localhost:8080/",
          "height": 33
        }
      },
      "cell_type": "code",
      "source": [
        "x.max()"
      ],
      "execution_count": 0,
      "outputs": [
        {
          "output_type": "execute_result",
          "data": {
            "text/plain": [
              "5"
            ]
          },
          "metadata": {
            "tags": []
          },
          "execution_count": 26
        }
      ]
    },
    {
      "metadata": {
        "id": "JTjsNJj8fQc7",
        "colab_type": "code",
        "outputId": "034f3ce4-8f23-4e88-d9aa-d323e9eab01d",
        "colab": {
          "base_uri": "https://localhost:8080/",
          "height": 33
        }
      },
      "cell_type": "code",
      "source": [
        "x"
      ],
      "execution_count": 0,
      "outputs": [
        {
          "output_type": "execute_result",
          "data": {
            "text/plain": [
              "array([1, 2, 3, 4, 5])"
            ]
          },
          "metadata": {
            "tags": []
          },
          "execution_count": 28
        }
      ]
    },
    {
      "metadata": {
        "id": "8fKJvs_9Z_WC",
        "colab_type": "code",
        "outputId": "16e8d827-f6c4-4df5-b375-d2c969280389",
        "colab": {
          "base_uri": "https://localhost:8080/",
          "height": 33
        }
      },
      "cell_type": "code",
      "source": [
        "x.cumsum()"
      ],
      "execution_count": 0,
      "outputs": [
        {
          "output_type": "execute_result",
          "data": {
            "text/plain": [
              "array([ 1,  3,  6, 10, 15])"
            ]
          },
          "metadata": {
            "tags": []
          },
          "execution_count": 27
        }
      ]
    },
    {
      "metadata": {
        "id": "0wiXjj7O9p_L",
        "colab_type": "text"
      },
      "cell_type": "markdown",
      "source": [
        "**Broadcasting**"
      ]
    },
    {
      "metadata": {
        "id": "h1X6zNIAaBnE",
        "colab_type": "code",
        "colab": {}
      },
      "cell_type": "code",
      "source": [
        "a = np.array([[1,2,3], [4,5,6], [7,8,9], [10, 11, 12]])\n",
        "b = np.array([1, 0, 1])"
      ],
      "execution_count": 0,
      "outputs": []
    },
    {
      "metadata": {
        "id": "y2yjX0n49wag",
        "colab_type": "code",
        "outputId": "381d3b14-a48a-4545-b96d-3b723d39fafc",
        "colab": {
          "base_uri": "https://localhost:8080/",
          "height": 83
        }
      },
      "cell_type": "code",
      "source": [
        "a"
      ],
      "execution_count": 0,
      "outputs": [
        {
          "output_type": "execute_result",
          "data": {
            "text/plain": [
              "array([[ 1,  2,  3],\n",
              "       [ 4,  5,  6],\n",
              "       [ 7,  8,  9],\n",
              "       [10, 11, 12]])"
            ]
          },
          "metadata": {
            "tags": []
          },
          "execution_count": 30
        }
      ]
    },
    {
      "metadata": {
        "id": "lYZ0IKj5faAE",
        "colab_type": "code",
        "outputId": "53336946-0f5e-4cc0-d2d9-363fd67b9863",
        "colab": {
          "base_uri": "https://localhost:8080/",
          "height": 33
        }
      },
      "cell_type": "code",
      "source": [
        "b"
      ],
      "execution_count": 0,
      "outputs": [
        {
          "output_type": "execute_result",
          "data": {
            "text/plain": [
              "array([1, 0, 1])"
            ]
          },
          "metadata": {
            "tags": []
          },
          "execution_count": 31
        }
      ]
    },
    {
      "metadata": {
        "id": "oqWkEKJ-9xv0",
        "colab_type": "code",
        "outputId": "9a9ce567-a432-4652-e33f-154d14bf107a",
        "colab": {
          "base_uri": "https://localhost:8080/",
          "height": 83
        }
      },
      "cell_type": "code",
      "source": [
        "a + b"
      ],
      "execution_count": 0,
      "outputs": [
        {
          "output_type": "execute_result",
          "data": {
            "text/plain": [
              "array([[ 2,  2,  4],\n",
              "       [ 5,  5,  7],\n",
              "       [ 8,  8, 10],\n",
              "       [11, 11, 13]])"
            ]
          },
          "metadata": {
            "tags": []
          },
          "execution_count": 32
        }
      ]
    },
    {
      "metadata": {
        "id": "ykL1IUDsZErB",
        "colab_type": "text"
      },
      "cell_type": "markdown",
      "source": [
        "**Create arrays**"
      ]
    },
    {
      "metadata": {
        "id": "r1IezN_hcFzG",
        "colab_type": "text"
      },
      "cell_type": "markdown",
      "source": [
        "Arange"
      ]
    },
    {
      "metadata": {
        "id": "Eb3zXh3hZG8m",
        "colab_type": "code",
        "outputId": "400723bf-9f11-48b1-b951-ab37e77971d0",
        "colab": {
          "base_uri": "https://localhost:8080/",
          "height": 33
        }
      },
      "cell_type": "code",
      "source": [
        "np.arange(0,10,2) #(start, end, step)"
      ],
      "execution_count": 0,
      "outputs": [
        {
          "output_type": "execute_result",
          "data": {
            "text/plain": [
              "array([0, 2, 4, 6, 8])"
            ]
          },
          "metadata": {
            "tags": []
          },
          "execution_count": 33
        }
      ]
    },
    {
      "metadata": {
        "id": "ybzKRjIUZMU0",
        "colab_type": "code",
        "outputId": "ff96f585-6f39-40bc-fef0-9a11576275f9",
        "colab": {
          "base_uri": "https://localhost:8080/",
          "height": 50
        }
      },
      "cell_type": "code",
      "source": [
        "np.arange(-10,90,5)"
      ],
      "execution_count": 0,
      "outputs": [
        {
          "output_type": "execute_result",
          "data": {
            "text/plain": [
              "array([-10,  -5,   0,   5,  10,  15,  20,  25,  30,  35,  40,  45,  50,\n",
              "        55,  60,  65,  70,  75,  80,  85])"
            ]
          },
          "metadata": {
            "tags": []
          },
          "execution_count": 34
        }
      ]
    },
    {
      "metadata": {
        "id": "4BGVyTEPgqE2",
        "colab_type": "code",
        "outputId": "aa2d067a-01db-4403-c258-9209c28d858b",
        "colab": {
          "base_uri": "https://localhost:8080/",
          "height": 83
        }
      },
      "cell_type": "code",
      "source": [
        "np.arange(-10,90,5).reshape(4,5)"
      ],
      "execution_count": 0,
      "outputs": [
        {
          "output_type": "execute_result",
          "data": {
            "text/plain": [
              "array([[-10,  -5,   0,   5,  10],\n",
              "       [ 15,  20,  25,  30,  35],\n",
              "       [ 40,  45,  50,  55,  60],\n",
              "       [ 65,  70,  75,  80,  85]])"
            ]
          },
          "metadata": {
            "tags": []
          },
          "execution_count": 35
        }
      ]
    },
    {
      "metadata": {
        "id": "0mCLEcU2dnQU",
        "colab_type": "text"
      },
      "cell_type": "markdown",
      "source": [
        "Linspace"
      ]
    },
    {
      "metadata": {
        "id": "ke0WlHtfcx99",
        "colab_type": "code",
        "outputId": "7807a2e5-12cb-4b54-b53b-0a68f715321c",
        "colab": {
          "base_uri": "https://localhost:8080/",
          "height": 350
        }
      },
      "cell_type": "code",
      "source": [
        "np.linspace(0,1,100)"
      ],
      "execution_count": 0,
      "outputs": [
        {
          "output_type": "execute_result",
          "data": {
            "text/plain": [
              "array([0.        , 0.01010101, 0.02020202, 0.03030303, 0.04040404,\n",
              "       0.05050505, 0.06060606, 0.07070707, 0.08080808, 0.09090909,\n",
              "       0.1010101 , 0.11111111, 0.12121212, 0.13131313, 0.14141414,\n",
              "       0.15151515, 0.16161616, 0.17171717, 0.18181818, 0.19191919,\n",
              "       0.2020202 , 0.21212121, 0.22222222, 0.23232323, 0.24242424,\n",
              "       0.25252525, 0.26262626, 0.27272727, 0.28282828, 0.29292929,\n",
              "       0.3030303 , 0.31313131, 0.32323232, 0.33333333, 0.34343434,\n",
              "       0.35353535, 0.36363636, 0.37373737, 0.38383838, 0.39393939,\n",
              "       0.4040404 , 0.41414141, 0.42424242, 0.43434343, 0.44444444,\n",
              "       0.45454545, 0.46464646, 0.47474747, 0.48484848, 0.49494949,\n",
              "       0.50505051, 0.51515152, 0.52525253, 0.53535354, 0.54545455,\n",
              "       0.55555556, 0.56565657, 0.57575758, 0.58585859, 0.5959596 ,\n",
              "       0.60606061, 0.61616162, 0.62626263, 0.63636364, 0.64646465,\n",
              "       0.65656566, 0.66666667, 0.67676768, 0.68686869, 0.6969697 ,\n",
              "       0.70707071, 0.71717172, 0.72727273, 0.73737374, 0.74747475,\n",
              "       0.75757576, 0.76767677, 0.77777778, 0.78787879, 0.7979798 ,\n",
              "       0.80808081, 0.81818182, 0.82828283, 0.83838384, 0.84848485,\n",
              "       0.85858586, 0.86868687, 0.87878788, 0.88888889, 0.8989899 ,\n",
              "       0.90909091, 0.91919192, 0.92929293, 0.93939394, 0.94949495,\n",
              "       0.95959596, 0.96969697, 0.97979798, 0.98989899, 1.        ])"
            ]
          },
          "metadata": {
            "tags": []
          },
          "execution_count": 37
        }
      ]
    },
    {
      "metadata": {
        "id": "qSnLQNVKc_3j",
        "colab_type": "code",
        "outputId": "64a00464-5d14-4096-ffb1-515ed20fc57c",
        "colab": {
          "base_uri": "https://localhost:8080/",
          "height": 346
        }
      },
      "cell_type": "code",
      "source": [
        "import matplotlib.pyplot as plt\n",
        "lin = np.linspace(-1,1,100)\n",
        "plt.plot(lin,lin**3)\n",
        "plt.show()"
      ],
      "execution_count": 0,
      "outputs": [
        {
          "output_type": "display_data",
          "data": {
            "image/png": "[encoded data removed]",
            "text/plain": [
              "<Figure size 576x396 with 1 Axes>"
            ]
          },
          "metadata": {
            "tags": []
          }
        }
      ]
    },
    {
      "metadata": {
        "id": "Mu_OWIp1dpQp",
        "colab_type": "text"
      },
      "cell_type": "markdown",
      "source": [
        "Zeros and ones"
      ]
    },
    {
      "metadata": {
        "id": "skVdPKWFcEiA",
        "colab_type": "code",
        "outputId": "2eb957ed-fb04-4c91-9796-e76a366694ce",
        "colab": {
          "base_uri": "https://localhost:8080/",
          "height": 50
        }
      },
      "cell_type": "code",
      "source": [
        "np.zeros((2,3)) #+3"
      ],
      "execution_count": 0,
      "outputs": [
        {
          "output_type": "execute_result",
          "data": {
            "text/plain": [
              "array([[0., 0., 0.],\n",
              "       [0., 0., 0.]])"
            ]
          },
          "metadata": {
            "tags": []
          },
          "execution_count": 40
        }
      ]
    },
    {
      "metadata": {
        "id": "6VXYA4p_cI-3",
        "colab_type": "code",
        "outputId": "b798be6c-3356-4037-d145-521d1eb4e2b5",
        "colab": {
          "base_uri": "https://localhost:8080/",
          "height": 50
        }
      },
      "cell_type": "code",
      "source": [
        "np.ones((2,3))"
      ],
      "execution_count": 0,
      "outputs": [
        {
          "output_type": "execute_result",
          "data": {
            "text/plain": [
              "array([[1., 1., 1.],\n",
              "       [1., 1., 1.]])"
            ]
          },
          "metadata": {
            "tags": []
          },
          "execution_count": 41
        }
      ]
    },
    {
      "metadata": {
        "id": "mVfnUPsQru_C",
        "colab_type": "text"
      },
      "cell_type": "markdown",
      "source": [
        "### Random numbers generators"
      ]
    },
    {
      "metadata": {
        "id": "7CBH0u0YpP_F",
        "colab_type": "code",
        "outputId": "bf0105a4-2107-4639-a6ea-decb2b1e9e6e",
        "colab": {
          "base_uri": "https://localhost:8080/",
          "height": 50
        }
      },
      "cell_type": "code",
      "source": [
        "np.random.rand(2,5)"
      ],
      "execution_count": 0,
      "outputs": [
        {
          "output_type": "execute_result",
          "data": {
            "text/plain": [
              "array([[0.96962504, 0.79560785, 0.92551081, 0.73247104, 0.5336237 ],\n",
              "       [0.98382456, 0.01304159, 0.49667376, 0.57095534, 0.18468514]])"
            ]
          },
          "metadata": {
            "tags": []
          },
          "execution_count": 2
        }
      ]
    },
    {
      "metadata": {
        "id": "UxFY_fIHeTqH",
        "colab_type": "code",
        "outputId": "d1ce6b74-f7cd-41dd-ce3d-49e813cb76ce",
        "colab": {
          "base_uri": "https://localhost:8080/",
          "height": 50
        }
      },
      "cell_type": "code",
      "source": [
        "np.random.randn(2,5)"
      ],
      "execution_count": 0,
      "outputs": [
        {
          "output_type": "execute_result",
          "data": {
            "text/plain": [
              "array([[-0.69309396, -0.41067566, -1.42376533,  1.90899672,  0.35023661],\n",
              "       [ 1.13751497, -1.32995083,  0.67864517, -0.9659171 ,  1.68304566]])"
            ]
          },
          "metadata": {
            "tags": []
          },
          "execution_count": 3
        }
      ]
    },
    {
      "metadata": {
        "id": "X-zsjWD5f-ys",
        "colab_type": "code",
        "outputId": "88d57fb8-36bb-4ec6-ea31-5aca104d3761",
        "colab": {
          "base_uri": "https://localhost:8080/",
          "height": 363
        }
      },
      "cell_type": "code",
      "source": [
        "plt.scatter(np.random.rand(200), np.random.rand(200))"
      ],
      "execution_count": 0,
      "outputs": [
        {
          "output_type": "execute_result",
          "data": {
            "text/plain": [
              "<matplotlib.collections.PathCollection at 0x7fad76997da0>"
            ]
          },
          "metadata": {
            "tags": []
          },
          "execution_count": 8
        },
        {
          "output_type": "display_data",
          "data": {
            "image/png": "[encoded data removed]",
            "text/plain": [
              "<Figure size 576x396 with 1 Axes>"
            ]
          },
          "metadata": {
            "tags": []
          }
        }
      ]
    },
    {
      "metadata": {
        "id": "75Jexx0CgN5R",
        "colab_type": "code",
        "outputId": "8d8f919e-7b0b-4c86-bd84-9059e88471cc",
        "colab": {
          "base_uri": "https://localhost:8080/",
          "height": 365
        }
      },
      "cell_type": "code",
      "source": [
        "plt.scatter(np.random.randn(500), np.random.randn(500))"
      ],
      "execution_count": 0,
      "outputs": [
        {
          "output_type": "execute_result",
          "data": {
            "text/plain": [
              "<matplotlib.collections.PathCollection at 0x7fad768e20b8>"
            ]
          },
          "metadata": {
            "tags": []
          },
          "execution_count": 10
        },
        {
          "output_type": "display_data",
          "data": {
            "image/png": "[encoded data removed]",
            "text/plain": [
              "<Figure size 576x396 with 1 Axes>"
            ]
          },
          "metadata": {
            "tags": []
          }
        }
      ]
    },
    {
      "metadata": {
        "id": "83taWZXPeXPu",
        "colab_type": "code",
        "outputId": "41ccee13-e90e-48f4-f54a-27178c35c3e3",
        "colab": {
          "base_uri": "https://localhost:8080/",
          "height": 50
        }
      },
      "cell_type": "code",
      "source": [
        "np.random.randint(1,100,(2,5))"
      ],
      "execution_count": 0,
      "outputs": [
        {
          "output_type": "execute_result",
          "data": {
            "text/plain": [
              "array([[85, 37, 74, 45, 42],\n",
              "       [52, 16, 96, 96, 28]])"
            ]
          },
          "metadata": {
            "tags": []
          },
          "execution_count": 11
        }
      ]
    },
    {
      "metadata": {
        "id": "HB-cWDiZ_-hz",
        "colab_type": "text"
      },
      "cell_type": "markdown",
      "source": [
        "**How to represent missing values and infinite?**"
      ]
    },
    {
      "metadata": {
        "id": "BmATfwf1ABNu",
        "colab_type": "code",
        "outputId": "596f031b-55bc-4303-fc02-b2106e877fe9",
        "colab": {
          "base_uri": "https://localhost:8080/",
          "height": 83
        }
      },
      "cell_type": "code",
      "source": [
        "x = np.random.rand(4,3)\n",
        "x"
      ],
      "execution_count": 0,
      "outputs": [
        {
          "output_type": "execute_result",
          "data": {
            "text/plain": [
              "array([[0.78921655, 0.76046209, 0.96655226],\n",
              "       [0.16462968, 0.83970908, 0.77469028],\n",
              "       [0.33799492, 0.0843722 , 0.21446771],\n",
              "       [0.7337826 , 0.97154558, 0.28517368]])"
            ]
          },
          "metadata": {
            "tags": []
          },
          "execution_count": 12
        }
      ]
    },
    {
      "metadata": {
        "id": "pBlwXMr2AL6b",
        "colab_type": "code",
        "colab": {}
      },
      "cell_type": "code",
      "source": [
        "x[0,0] = np.inf\n",
        "x[1,2] = np.nan\n",
        "x[2,1] = -np.inf"
      ],
      "execution_count": 0,
      "outputs": []
    },
    {
      "metadata": {
        "id": "SQFimxXgAlpz",
        "colab_type": "code",
        "outputId": "031324b3-a6b0-425c-de28-9f1fd4e7bfdd",
        "colab": {
          "base_uri": "https://localhost:8080/",
          "height": 83
        }
      },
      "cell_type": "code",
      "source": [
        "x"
      ],
      "execution_count": 0,
      "outputs": [
        {
          "output_type": "execute_result",
          "data": {
            "text/plain": [
              "array([[       inf, 0.76046209, 0.96655226],\n",
              "       [0.16462968, 0.83970908,        nan],\n",
              "       [0.33799492,       -inf, 0.21446771],\n",
              "       [0.7337826 , 0.97154558, 0.28517368]])"
            ]
          },
          "metadata": {
            "tags": []
          },
          "execution_count": 14
        }
      ]
    },
    {
      "metadata": {
        "id": "W4aSeF1vBAx9",
        "colab_type": "code",
        "outputId": "a4860285-62c0-4584-ed20-3647746255b7",
        "colab": {
          "base_uri": "https://localhost:8080/",
          "height": 83
        }
      },
      "cell_type": "code",
      "source": [
        "np.isnan(x)"
      ],
      "execution_count": 0,
      "outputs": [
        {
          "output_type": "execute_result",
          "data": {
            "text/plain": [
              "array([[False, False, False],\n",
              "       [False, False,  True],\n",
              "       [False, False, False],\n",
              "       [False, False, False]])"
            ]
          },
          "metadata": {
            "tags": []
          },
          "execution_count": 15
        }
      ]
    },
    {
      "metadata": {
        "id": "02o4JEUPBNu_",
        "colab_type": "code",
        "outputId": "3fdf443b-1eee-42f4-9ec0-b25eb44091d1",
        "colab": {
          "base_uri": "https://localhost:8080/",
          "height": 83
        }
      },
      "cell_type": "code",
      "source": [
        "np.isinf(x)"
      ],
      "execution_count": 0,
      "outputs": [
        {
          "output_type": "execute_result",
          "data": {
            "text/plain": [
              "array([[ True, False, False],\n",
              "       [False, False, False],\n",
              "       [False,  True, False],\n",
              "       [False, False, False]])"
            ]
          },
          "metadata": {
            "tags": []
          },
          "execution_count": 16
        }
      ]
    },
    {
      "metadata": {
        "id": "O7s1SpJwBAk7",
        "colab_type": "code",
        "outputId": "dc9da779-f53e-4003-d6e0-bf65b5dcbf3d",
        "colab": {
          "base_uri": "https://localhost:8080/",
          "height": 83
        }
      },
      "cell_type": "code",
      "source": [
        "np.isposinf(x)"
      ],
      "execution_count": 0,
      "outputs": [
        {
          "output_type": "execute_result",
          "data": {
            "text/plain": [
              "array([[ True, False, False],\n",
              "       [False, False, False],\n",
              "       [False, False, False],\n",
              "       [False, False, False]])"
            ]
          },
          "metadata": {
            "tags": []
          },
          "execution_count": 17
        }
      ]
    },
    {
      "metadata": {
        "id": "xQnW53VtB_l9",
        "colab_type": "text"
      },
      "cell_type": "markdown",
      "source": [
        "**Stats**"
      ]
    },
    {
      "metadata": {
        "id": "O9GTEdeECUMx",
        "colab_type": "code",
        "outputId": "05f5e946-ebeb-43bd-a063-bf8040ea02fd",
        "colab": {
          "base_uri": "https://localhost:8080/",
          "height": 50
        }
      },
      "cell_type": "code",
      "source": [
        "x = np.random.randint(0,10,(2,4))\n",
        "x"
      ],
      "execution_count": 0,
      "outputs": [
        {
          "output_type": "execute_result",
          "data": {
            "text/plain": [
              "array([[0, 3, 0, 8],\n",
              "       [0, 3, 1, 4]])"
            ]
          },
          "metadata": {
            "tags": []
          },
          "execution_count": 51
        }
      ]
    },
    {
      "metadata": {
        "id": "tPF6np6tCd3m",
        "colab_type": "code",
        "outputId": "76798f74-2536-47b0-8888-3a38bf816a0c",
        "colab": {
          "base_uri": "https://localhost:8080/",
          "height": 33
        }
      },
      "cell_type": "code",
      "source": [
        "np.sum(x)"
      ],
      "execution_count": 0,
      "outputs": [
        {
          "output_type": "execute_result",
          "data": {
            "text/plain": [
              "19"
            ]
          },
          "metadata": {
            "tags": []
          },
          "execution_count": 52
        }
      ]
    },
    {
      "metadata": {
        "id": "dgJg77L3CDcp",
        "colab_type": "code",
        "outputId": "5a904a4c-92db-4b15-b119-06ec83026b73",
        "colab": {
          "base_uri": "https://localhost:8080/",
          "height": 33
        }
      },
      "cell_type": "code",
      "source": [
        "np.sum(x, axis=1)"
      ],
      "execution_count": 0,
      "outputs": [
        {
          "output_type": "execute_result",
          "data": {
            "text/plain": [
              "array([11,  8])"
            ]
          },
          "metadata": {
            "tags": []
          },
          "execution_count": 53
        }
      ]
    },
    {
      "metadata": {
        "id": "cjSKbVW3ChYR",
        "colab_type": "code",
        "outputId": "9850ae7f-7c1d-4799-81c2-97a0cdeb2fed",
        "colab": {
          "base_uri": "https://localhost:8080/",
          "height": 33
        }
      },
      "cell_type": "code",
      "source": [
        "np.sum(x, axis=0)"
      ],
      "execution_count": 0,
      "outputs": [
        {
          "output_type": "execute_result",
          "data": {
            "text/plain": [
              "array([ 0,  6,  1, 12])"
            ]
          },
          "metadata": {
            "tags": []
          },
          "execution_count": 54
        }
      ]
    },
    {
      "metadata": {
        "id": "8pmk8YVHCwnE",
        "colab_type": "code",
        "outputId": "efeb276d-495e-49b7-a1bf-99b5e5340217",
        "colab": {
          "base_uri": "https://localhost:8080/",
          "height": 33
        }
      },
      "cell_type": "code",
      "source": [
        "np.min(x, axis=1)"
      ],
      "execution_count": 0,
      "outputs": [
        {
          "output_type": "execute_result",
          "data": {
            "text/plain": [
              "array([0, 0])"
            ]
          },
          "metadata": {
            "tags": []
          },
          "execution_count": 55
        }
      ]
    },
    {
      "metadata": {
        "id": "36tY3Cy-gikI",
        "colab_type": "text"
      },
      "cell_type": "markdown",
      "source": [
        "### Exercises"
      ]
    },
    {
      "metadata": {
        "id": "8OYwH7XYgk0O",
        "colab_type": "code",
        "colab": {}
      },
      "cell_type": "code",
      "source": [
        "0 * np.nan\n",
        "#np.nan == np.nan\n",
        "#np.inf > np.nan\n",
        "#np.nan - np.nan\n",
        "#np.nan in set([np.nan])"
      ],
      "execution_count": 0,
      "outputs": []
    },
    {
      "metadata": {
        "id": "n_pdDvlypQlf",
        "colab_type": "text"
      },
      "cell_type": "markdown",
      "source": [
        "# Pandas"
      ]
    },
    {
      "metadata": {
        "id": "HnnOmhwMpRgw",
        "colab_type": "code",
        "colab": {}
      },
      "cell_type": "code",
      "source": [
        "import pandas as pd"
      ],
      "execution_count": 0,
      "outputs": []
    },
    {
      "metadata": {
        "id": "f4habqgIVXOG",
        "colab_type": "text"
      },
      "cell_type": "markdown",
      "source": [
        "**Data Science as a process**\n",
        "\n",
        "\n",
        "1.   Raw data collection\n",
        "2.   Data parsing\n",
        "3.   Data cleaning and preprocessing\n",
        "4.   Integration and transformation\n",
        "5.   Data models and algorithms\n",
        "6.   Visualization and reporting\n",
        "\n"
      ]
    },
    {
      "metadata": {
        "id": "dRH-wCldVgLR",
        "colab_type": "text"
      },
      "cell_type": "markdown",
      "source": [
        "**Data cleaning and preprocessing**\n",
        "\n",
        "\n",
        "1.   Data exploration\n",
        "2.   Data reduction\n",
        "3.   Errors detection\n",
        "4.   Outliers detestion\n",
        "5.   Data reconstruction / interpolation\n",
        "\n"
      ]
    },
    {
      "metadata": {
        "id": "8zUh8S2G2iiB",
        "colab_type": "text"
      },
      "cell_type": "markdown",
      "source": [
        "## Dataset 1 - tuberculosis cases"
      ]
    },
    {
      "metadata": {
        "id": "YS2BFQSuIPeH",
        "colab_type": "text"
      },
      "cell_type": "markdown",
      "source": [
        "### https://bit.ly/2U2LpJ0"
      ]
    },
    {
      "metadata": {
        "id": "zSWwWw4Q26pB",
        "colab_type": "text"
      },
      "cell_type": "markdown",
      "source": [
        "This dataset consists of tuberculosis case counts by country, year, gender, and age group"
      ]
    },
    {
      "metadata": {
        "id": "o1J3FKiG22cd",
        "colab_type": "code",
        "colab": {}
      },
      "cell_type": "code",
      "source": [
        "tb = pd.read_csv('https://assets.datacamp.com/production/course_2023/datasets/tb.csv')"
      ],
      "execution_count": 0,
      "outputs": []
    },
    {
      "metadata": {
        "id": "Bo4Y4ri3WJoV",
        "colab_type": "text"
      },
      "cell_type": "markdown",
      "source": [
        "**First steps after reading the data into pandas DataFrame**\n",
        "\n",
        "- Check how many rows and columns are in dataset\n",
        "- Check column types\n",
        "- How many missing values are in each colum?"
      ]
    },
    {
      "metadata": {
        "id": "cPkc7p9QyX5J",
        "colab_type": "text"
      },
      "cell_type": "markdown",
      "source": [
        "### IDA"
      ]
    },
    {
      "metadata": {
        "id": "rNCb3YB6yb4Q",
        "colab_type": "code",
        "outputId": "018182a8-a719-4cdf-cd63-04b0b738528a",
        "colab": {
          "base_uri": "https://localhost:8080/",
          "height": 33
        }
      },
      "cell_type": "code",
      "source": [
        "tb.shape"
      ],
      "execution_count": 0,
      "outputs": [
        {
          "output_type": "execute_result",
          "data": {
            "text/plain": [
              "(201, 18)"
            ]
          },
          "metadata": {
            "tags": []
          },
          "execution_count": 59
        }
      ]
    },
    {
      "metadata": {
        "id": "gHaQeCs52_1c",
        "colab_type": "code",
        "outputId": "1ca140fb-b385-41a0-ac0c-7c7f7ecc13e7",
        "colab": {
          "base_uri": "https://localhost:8080/",
          "height": 347
        }
      },
      "cell_type": "code",
      "source": [
        "tb.head()"
      ],
      "execution_count": 0,
      "outputs": [
        {
          "output_type": "execute_result",
          "data": {
            "text/html": [
              "<div>\n",
              "<style scoped>\n",
              "    .dataframe tbody tr th:only-of-type {\n",
              "        vertical-align: middle;\n",
              "    }\n",
              "\n",
              "    .dataframe tbody tr th {\n",
              "        vertical-align: top;\n",
              "    }\n",
              "\n",
              "    .dataframe thead th {\n",
              "        text-align: right;\n",
              "    }\n",
              "</style>\n",
              "<table border=\"1\" class=\"dataframe\">\n",
              "  <thead>\n",
              "    <tr style=\"text-align: right;\">\n",
              "      <th></th>\n",
              "      <th>country</th>\n",
              "      <th>year</th>\n",
              "      <th>m014</th>\n",
              "      <th>m1524</th>\n",
              "      <th>m2534</th>\n",
              "      <th>m3544</th>\n",
              "      <th>m4554</th>\n",
              "      <th>m5564</th>\n",
              "      <th>m65</th>\n",
              "      <th>mu</th>\n",
              "      <th>f014</th>\n",
              "      <th>f1524</th>\n",
              "      <th>f2534</th>\n",
              "      <th>f3544</th>\n",
              "      <th>f4554</th>\n",
              "      <th>f5564</th>\n",
              "      <th>f65</th>\n",
              "      <th>fu</th>\n",
              "    </tr>\n",
              "  </thead>\n",
              "  <tbody>\n",
              "    <tr>\n",
              "      <th>0</th>\n",
              "      <td>AD</td>\n",
              "      <td>2000</td>\n",
              "      <td>0.0</td>\n",
              "      <td>0.0</td>\n",
              "      <td>1.0</td>\n",
              "      <td>0.0</td>\n",
              "      <td>0.0</td>\n",
              "      <td>0.0</td>\n",
              "      <td>0.0</td>\n",
              "      <td>NaN</td>\n",
              "      <td>NaN</td>\n",
              "      <td>NaN</td>\n",
              "      <td>NaN</td>\n",
              "      <td>NaN</td>\n",
              "      <td>NaN</td>\n",
              "      <td>NaN</td>\n",
              "      <td>NaN</td>\n",
              "      <td>NaN</td>\n",
              "    </tr>\n",
              "    <tr>\n",
              "      <th>1</th>\n",
              "      <td>AE</td>\n",
              "      <td>2000</td>\n",
              "      <td>2.0</td>\n",
              "      <td>4.0</td>\n",
              "      <td>4.0</td>\n",
              "      <td>6.0</td>\n",
              "      <td>5.0</td>\n",
              "      <td>12.0</td>\n",
              "      <td>10.0</td>\n",
              "      <td>NaN</td>\n",
              "      <td>3.0</td>\n",
              "      <td>16.0</td>\n",
              "      <td>1.0</td>\n",
              "      <td>3.0</td>\n",
              "      <td>0.0</td>\n",
              "      <td>0.0</td>\n",
              "      <td>4.0</td>\n",
              "      <td>NaN</td>\n",
              "    </tr>\n",
              "    <tr>\n",
              "      <th>2</th>\n",
              "      <td>AF</td>\n",
              "      <td>2000</td>\n",
              "      <td>52.0</td>\n",
              "      <td>228.0</td>\n",
              "      <td>183.0</td>\n",
              "      <td>149.0</td>\n",
              "      <td>129.0</td>\n",
              "      <td>94.0</td>\n",
              "      <td>80.0</td>\n",
              "      <td>NaN</td>\n",
              "      <td>93.0</td>\n",
              "      <td>414.0</td>\n",
              "      <td>565.0</td>\n",
              "      <td>339.0</td>\n",
              "      <td>205.0</td>\n",
              "      <td>99.0</td>\n",
              "      <td>36.0</td>\n",
              "      <td>NaN</td>\n",
              "    </tr>\n",
              "    <tr>\n",
              "      <th>3</th>\n",
              "      <td>AG</td>\n",
              "      <td>2000</td>\n",
              "      <td>0.0</td>\n",
              "      <td>0.0</td>\n",
              "      <td>0.0</td>\n",
              "      <td>0.0</td>\n",
              "      <td>0.0</td>\n",
              "      <td>0.0</td>\n",
              "      <td>1.0</td>\n",
              "      <td>NaN</td>\n",
              "      <td>1.0</td>\n",
              "      <td>1.0</td>\n",
              "      <td>1.0</td>\n",
              "      <td>0.0</td>\n",
              "      <td>0.0</td>\n",
              "      <td>0.0</td>\n",
              "      <td>0.0</td>\n",
              "      <td>NaN</td>\n",
              "    </tr>\n",
              "    <tr>\n",
              "      <th>4</th>\n",
              "      <td>AL</td>\n",
              "      <td>2000</td>\n",
              "      <td>2.0</td>\n",
              "      <td>19.0</td>\n",
              "      <td>21.0</td>\n",
              "      <td>14.0</td>\n",
              "      <td>24.0</td>\n",
              "      <td>19.0</td>\n",
              "      <td>16.0</td>\n",
              "      <td>NaN</td>\n",
              "      <td>3.0</td>\n",
              "      <td>11.0</td>\n",
              "      <td>10.0</td>\n",
              "      <td>8.0</td>\n",
              "      <td>8.0</td>\n",
              "      <td>5.0</td>\n",
              "      <td>11.0</td>\n",
              "      <td>NaN</td>\n",
              "    </tr>\n",
              "    <tr>\n",
              "      <th>5</th>\n",
              "      <td>AM</td>\n",
              "      <td>2000</td>\n",
              "      <td>2.0</td>\n",
              "      <td>152.0</td>\n",
              "      <td>130.0</td>\n",
              "      <td>131.0</td>\n",
              "      <td>63.0</td>\n",
              "      <td>26.0</td>\n",
              "      <td>21.0</td>\n",
              "      <td>NaN</td>\n",
              "      <td>1.0</td>\n",
              "      <td>24.0</td>\n",
              "      <td>27.0</td>\n",
              "      <td>24.0</td>\n",
              "      <td>8.0</td>\n",
              "      <td>8.0</td>\n",
              "      <td>4.0</td>\n",
              "      <td>NaN</td>\n",
              "    </tr>\n",
              "    <tr>\n",
              "      <th>6</th>\n",
              "      <td>AN</td>\n",
              "      <td>2000</td>\n",
              "      <td>0.0</td>\n",
              "      <td>0.0</td>\n",
              "      <td>1.0</td>\n",
              "      <td>2.0</td>\n",
              "      <td>0.0</td>\n",
              "      <td>0.0</td>\n",
              "      <td>0.0</td>\n",
              "      <td>NaN</td>\n",
              "      <td>0.0</td>\n",
              "      <td>0.0</td>\n",
              "      <td>1.0</td>\n",
              "      <td>0.0</td>\n",
              "      <td>0.0</td>\n",
              "      <td>1.0</td>\n",
              "      <td>0.0</td>\n",
              "      <td>NaN</td>\n",
              "    </tr>\n",
              "    <tr>\n",
              "      <th>7</th>\n",
              "      <td>AO</td>\n",
              "      <td>2000</td>\n",
              "      <td>186.0</td>\n",
              "      <td>999.0</td>\n",
              "      <td>1003.0</td>\n",
              "      <td>912.0</td>\n",
              "      <td>482.0</td>\n",
              "      <td>312.0</td>\n",
              "      <td>194.0</td>\n",
              "      <td>NaN</td>\n",
              "      <td>247.0</td>\n",
              "      <td>1142.0</td>\n",
              "      <td>1091.0</td>\n",
              "      <td>844.0</td>\n",
              "      <td>417.0</td>\n",
              "      <td>200.0</td>\n",
              "      <td>120.0</td>\n",
              "      <td>NaN</td>\n",
              "    </tr>\n",
              "    <tr>\n",
              "      <th>8</th>\n",
              "      <td>AR</td>\n",
              "      <td>2000</td>\n",
              "      <td>97.0</td>\n",
              "      <td>278.0</td>\n",
              "      <td>594.0</td>\n",
              "      <td>402.0</td>\n",
              "      <td>419.0</td>\n",
              "      <td>368.0</td>\n",
              "      <td>330.0</td>\n",
              "      <td>NaN</td>\n",
              "      <td>121.0</td>\n",
              "      <td>544.0</td>\n",
              "      <td>479.0</td>\n",
              "      <td>262.0</td>\n",
              "      <td>230.0</td>\n",
              "      <td>179.0</td>\n",
              "      <td>216.0</td>\n",
              "      <td>NaN</td>\n",
              "    </tr>\n",
              "    <tr>\n",
              "      <th>9</th>\n",
              "      <td>AS</td>\n",
              "      <td>2000</td>\n",
              "      <td>NaN</td>\n",
              "      <td>NaN</td>\n",
              "      <td>NaN</td>\n",
              "      <td>NaN</td>\n",
              "      <td>1.0</td>\n",
              "      <td>1.0</td>\n",
              "      <td>NaN</td>\n",
              "      <td>NaN</td>\n",
              "      <td>NaN</td>\n",
              "      <td>NaN</td>\n",
              "      <td>NaN</td>\n",
              "      <td>NaN</td>\n",
              "      <td>1.0</td>\n",
              "      <td>NaN</td>\n",
              "      <td>NaN</td>\n",
              "      <td>NaN</td>\n",
              "    </tr>\n",
              "  </tbody>\n",
              "</table>\n",
              "</div>"
            ],
            "text/plain": [
              "  country  year   m014  m1524   m2534  m3544  m4554  m5564    m65  mu   f014  \\\n",
              "0      AD  2000    0.0    0.0     1.0    0.0    0.0    0.0    0.0 NaN    NaN   \n",
              "1      AE  2000    2.0    4.0     4.0    6.0    5.0   12.0   10.0 NaN    3.0   \n",
              "2      AF  2000   52.0  228.0   183.0  149.0  129.0   94.0   80.0 NaN   93.0   \n",
              "3      AG  2000    0.0    0.0     0.0    0.0    0.0    0.0    1.0 NaN    1.0   \n",
              "4      AL  2000    2.0   19.0    21.0   14.0   24.0   19.0   16.0 NaN    3.0   \n",
              "5      AM  2000    2.0  152.0   130.0  131.0   63.0   26.0   21.0 NaN    1.0   \n",
              "6      AN  2000    0.0    0.0     1.0    2.0    0.0    0.0    0.0 NaN    0.0   \n",
              "7      AO  2000  186.0  999.0  1003.0  912.0  482.0  312.0  194.0 NaN  247.0   \n",
              "8      AR  2000   97.0  278.0   594.0  402.0  419.0  368.0  330.0 NaN  121.0   \n",
              "9      AS  2000    NaN    NaN     NaN    NaN    1.0    1.0    NaN NaN    NaN   \n",
              "\n",
              "    f1524   f2534  f3544  f4554  f5564    f65  fu  \n",
              "0     NaN     NaN    NaN    NaN    NaN    NaN NaN  \n",
              "1    16.0     1.0    3.0    0.0    0.0    4.0 NaN  \n",
              "2   414.0   565.0  339.0  205.0   99.0   36.0 NaN  \n",
              "3     1.0     1.0    0.0    0.0    0.0    0.0 NaN  \n",
              "4    11.0    10.0    8.0    8.0    5.0   11.0 NaN  \n",
              "5    24.0    27.0   24.0    8.0    8.0    4.0 NaN  \n",
              "6     0.0     1.0    0.0    0.0    1.0    0.0 NaN  \n",
              "7  1142.0  1091.0  844.0  417.0  200.0  120.0 NaN  \n",
              "8   544.0   479.0  262.0  230.0  179.0  216.0 NaN  \n",
              "9     NaN     NaN    NaN    1.0    NaN    NaN NaN  "
            ]
          },
          "metadata": {
            "tags": []
          },
          "execution_count": 61
        }
      ]
    },
    {
      "metadata": {
        "id": "T0X4IV-a3zqt",
        "colab_type": "code",
        "outputId": "9964941a-50b2-4309-9efd-8ecf1281c0db",
        "colab": {
          "base_uri": "https://localhost:8080/",
          "height": 400
        }
      },
      "cell_type": "code",
      "source": [
        "tb.info()"
      ],
      "execution_count": 0,
      "outputs": [
        {
          "output_type": "stream",
          "text": [
            "<class 'pandas.core.frame.DataFrame'>\n",
            "RangeIndex: 201 entries, 0 to 200\n",
            "Data columns (total 18 columns):\n",
            "country    200 non-null object\n",
            "year       201 non-null int64\n",
            "m014       162 non-null float64\n",
            "m1524      163 non-null float64\n",
            "m2534      164 non-null float64\n",
            "m3544      164 non-null float64\n",
            "m4554      165 non-null float64\n",
            "m5564      166 non-null float64\n",
            "m65        164 non-null float64\n",
            "mu         0 non-null float64\n",
            "f014       160 non-null float64\n",
            "f1524      160 non-null float64\n",
            "f2534      162 non-null float64\n",
            "f3544      160 non-null float64\n",
            "f4554      161 non-null float64\n",
            "f5564      162 non-null float64\n",
            "f65        160 non-null float64\n",
            "fu         0 non-null float64\n",
            "dtypes: float64(16), int64(1), object(1)\n",
            "memory usage: 28.3+ KB\n"
          ],
          "name": "stdout"
        }
      ]
    },
    {
      "metadata": {
        "id": "G96pk73tRCD_",
        "colab_type": "text"
      },
      "cell_type": "markdown",
      "source": [
        "**Check missing values**"
      ]
    },
    {
      "metadata": {
        "id": "ssaIvAoQRFsK",
        "colab_type": "code",
        "outputId": "d7419605-5014-4061-f28f-f80852c8a6e4",
        "colab": {
          "base_uri": "https://localhost:8080/",
          "height": 333
        }
      },
      "cell_type": "code",
      "source": [
        "tb.isnull().sum()"
      ],
      "execution_count": 0,
      "outputs": [
        {
          "output_type": "execute_result",
          "data": {
            "text/plain": [
              "country      1\n",
              "year         0\n",
              "m014        39\n",
              "m1524       38\n",
              "m2534       37\n",
              "m3544       37\n",
              "m4554       36\n",
              "m5564       35\n",
              "m65         37\n",
              "mu         201\n",
              "f014        41\n",
              "f1524       41\n",
              "f2534       39\n",
              "f3544       41\n",
              "f4554       40\n",
              "f5564       39\n",
              "f65         41\n",
              "fu         201\n",
              "dtype: int64"
            ]
          },
          "metadata": {
            "tags": []
          },
          "execution_count": 68
        }
      ]
    },
    {
      "metadata": {
        "id": "pkuaHh01xUOX",
        "colab_type": "text"
      },
      "cell_type": "markdown",
      "source": [
        "### Data cleaning\n",
        "Transform data - **Tidy data** makes it easier to fix common data problems it is also better for analytics and reporting.\n",
        "\n",
        "\n",
        "*   Columns represent separate variables\n",
        "*   Rows represent individual observations\n",
        "\n"
      ]
    },
    {
      "metadata": {
        "id": "m_HoFJ9GxZt6",
        "colab_type": "text"
      },
      "cell_type": "markdown",
      "source": [
        "**Identified problems:**\n",
        "\n",
        "\n",
        "*   Column names are variables\n",
        "*   mu and fu columns are empty\n",
        "\n"
      ]
    },
    {
      "metadata": {
        "id": "ed4eS2744JAi",
        "colab_type": "code",
        "colab": {}
      },
      "cell_type": "code",
      "source": [
        "#tb.drop(['mu','fu'], axis=1, inplace=True)\n",
        "\n",
        "tb = tb.drop(['mu','fu'], axis=1)"
      ],
      "execution_count": 0,
      "outputs": []
    },
    {
      "metadata": {
        "id": "6fF6KXyD4XDa",
        "colab_type": "code",
        "outputId": "1803ede7-d485-48b9-f64f-9bffd07ae747",
        "colab": {
          "base_uri": "https://localhost:8080/",
          "height": 197
        }
      },
      "cell_type": "code",
      "source": [
        "tb.head()"
      ],
      "execution_count": 0,
      "outputs": [
        {
          "output_type": "execute_result",
          "data": {
            "text/html": [
              "<div>\n",
              "<style scoped>\n",
              "    .dataframe tbody tr th:only-of-type {\n",
              "        vertical-align: middle;\n",
              "    }\n",
              "\n",
              "    .dataframe tbody tr th {\n",
              "        vertical-align: top;\n",
              "    }\n",
              "\n",
              "    .dataframe thead th {\n",
              "        text-align: right;\n",
              "    }\n",
              "</style>\n",
              "<table border=\"1\" class=\"dataframe\">\n",
              "  <thead>\n",
              "    <tr style=\"text-align: right;\">\n",
              "      <th></th>\n",
              "      <th>country</th>\n",
              "      <th>year</th>\n",
              "      <th>m014</th>\n",
              "      <th>m1524</th>\n",
              "      <th>m2534</th>\n",
              "      <th>m3544</th>\n",
              "      <th>m4554</th>\n",
              "      <th>m5564</th>\n",
              "      <th>m65</th>\n",
              "      <th>f014</th>\n",
              "      <th>f1524</th>\n",
              "      <th>f2534</th>\n",
              "      <th>f3544</th>\n",
              "      <th>f4554</th>\n",
              "      <th>f5564</th>\n",
              "      <th>f65</th>\n",
              "    </tr>\n",
              "  </thead>\n",
              "  <tbody>\n",
              "    <tr>\n",
              "      <th>0</th>\n",
              "      <td>AD</td>\n",
              "      <td>2000</td>\n",
              "      <td>0.0</td>\n",
              "      <td>0.0</td>\n",
              "      <td>1.0</td>\n",
              "      <td>0.0</td>\n",
              "      <td>0.0</td>\n",
              "      <td>0.0</td>\n",
              "      <td>0.0</td>\n",
              "      <td>NaN</td>\n",
              "      <td>NaN</td>\n",
              "      <td>NaN</td>\n",
              "      <td>NaN</td>\n",
              "      <td>NaN</td>\n",
              "      <td>NaN</td>\n",
              "      <td>NaN</td>\n",
              "    </tr>\n",
              "    <tr>\n",
              "      <th>1</th>\n",
              "      <td>AE</td>\n",
              "      <td>2000</td>\n",
              "      <td>2.0</td>\n",
              "      <td>4.0</td>\n",
              "      <td>4.0</td>\n",
              "      <td>6.0</td>\n",
              "      <td>5.0</td>\n",
              "      <td>12.0</td>\n",
              "      <td>10.0</td>\n",
              "      <td>3.0</td>\n",
              "      <td>16.0</td>\n",
              "      <td>1.0</td>\n",
              "      <td>3.0</td>\n",
              "      <td>0.0</td>\n",
              "      <td>0.0</td>\n",
              "      <td>4.0</td>\n",
              "    </tr>\n",
              "    <tr>\n",
              "      <th>2</th>\n",
              "      <td>AF</td>\n",
              "      <td>2000</td>\n",
              "      <td>52.0</td>\n",
              "      <td>228.0</td>\n",
              "      <td>183.0</td>\n",
              "      <td>149.0</td>\n",
              "      <td>129.0</td>\n",
              "      <td>94.0</td>\n",
              "      <td>80.0</td>\n",
              "      <td>93.0</td>\n",
              "      <td>414.0</td>\n",
              "      <td>565.0</td>\n",
              "      <td>339.0</td>\n",
              "      <td>205.0</td>\n",
              "      <td>99.0</td>\n",
              "      <td>36.0</td>\n",
              "    </tr>\n",
              "    <tr>\n",
              "      <th>3</th>\n",
              "      <td>AG</td>\n",
              "      <td>2000</td>\n",
              "      <td>0.0</td>\n",
              "      <td>0.0</td>\n",
              "      <td>0.0</td>\n",
              "      <td>0.0</td>\n",
              "      <td>0.0</td>\n",
              "      <td>0.0</td>\n",
              "      <td>1.0</td>\n",
              "      <td>1.0</td>\n",
              "      <td>1.0</td>\n",
              "      <td>1.0</td>\n",
              "      <td>0.0</td>\n",
              "      <td>0.0</td>\n",
              "      <td>0.0</td>\n",
              "      <td>0.0</td>\n",
              "    </tr>\n",
              "    <tr>\n",
              "      <th>4</th>\n",
              "      <td>AL</td>\n",
              "      <td>2000</td>\n",
              "      <td>2.0</td>\n",
              "      <td>19.0</td>\n",
              "      <td>21.0</td>\n",
              "      <td>14.0</td>\n",
              "      <td>24.0</td>\n",
              "      <td>19.0</td>\n",
              "      <td>16.0</td>\n",
              "      <td>3.0</td>\n",
              "      <td>11.0</td>\n",
              "      <td>10.0</td>\n",
              "      <td>8.0</td>\n",
              "      <td>8.0</td>\n",
              "      <td>5.0</td>\n",
              "      <td>11.0</td>\n",
              "    </tr>\n",
              "  </tbody>\n",
              "</table>\n",
              "</div>"
            ],
            "text/plain": [
              "  country  year  m014  m1524  m2534  m3544  m4554  m5564   m65  f014  f1524  \\\n",
              "0      AD  2000   0.0    0.0    1.0    0.0    0.0    0.0   0.0   NaN    NaN   \n",
              "1      AE  2000   2.0    4.0    4.0    6.0    5.0   12.0  10.0   3.0   16.0   \n",
              "2      AF  2000  52.0  228.0  183.0  149.0  129.0   94.0  80.0  93.0  414.0   \n",
              "3      AG  2000   0.0    0.0    0.0    0.0    0.0    0.0   1.0   1.0    1.0   \n",
              "4      AL  2000   2.0   19.0   21.0   14.0   24.0   19.0  16.0   3.0   11.0   \n",
              "\n",
              "   f2534  f3544  f4554  f5564   f65  \n",
              "0    NaN    NaN    NaN    NaN   NaN  \n",
              "1    1.0    3.0    0.0    0.0   4.0  \n",
              "2  565.0  339.0  205.0   99.0  36.0  \n",
              "3    1.0    0.0    0.0    0.0   0.0  \n",
              "4   10.0    8.0    8.0    5.0  11.0  "
            ]
          },
          "metadata": {
            "tags": []
          },
          "execution_count": 71
        }
      ]
    },
    {
      "metadata": {
        "id": "Fl6sZP3nPNri",
        "colab_type": "text"
      },
      "cell_type": "markdown",
      "source": [
        "**Melt = gather columns into row**"
      ]
    },
    {
      "metadata": {
        "id": "hLoYMWdnypQv",
        "colab_type": "code",
        "outputId": "94360a81-76d6-45ca-ee8e-bdadc224afee",
        "colab": {
          "base_uri": "https://localhost:8080/",
          "height": 197
        }
      },
      "cell_type": "code",
      "source": [
        "tb_melt = pd.melt(tb, id_vars=['country', 'year'])\n",
        "tb_melt.head()"
      ],
      "execution_count": 0,
      "outputs": [
        {
          "output_type": "execute_result",
          "data": {
            "text/html": [
              "<div>\n",
              "<style scoped>\n",
              "    .dataframe tbody tr th:only-of-type {\n",
              "        vertical-align: middle;\n",
              "    }\n",
              "\n",
              "    .dataframe tbody tr th {\n",
              "        vertical-align: top;\n",
              "    }\n",
              "\n",
              "    .dataframe thead th {\n",
              "        text-align: right;\n",
              "    }\n",
              "</style>\n",
              "<table border=\"1\" class=\"dataframe\">\n",
              "  <thead>\n",
              "    <tr style=\"text-align: right;\">\n",
              "      <th></th>\n",
              "      <th>country</th>\n",
              "      <th>year</th>\n",
              "      <th>variable</th>\n",
              "      <th>value</th>\n",
              "    </tr>\n",
              "  </thead>\n",
              "  <tbody>\n",
              "    <tr>\n",
              "      <th>0</th>\n",
              "      <td>AD</td>\n",
              "      <td>2000</td>\n",
              "      <td>m014</td>\n",
              "      <td>0.0</td>\n",
              "    </tr>\n",
              "    <tr>\n",
              "      <th>1</th>\n",
              "      <td>AE</td>\n",
              "      <td>2000</td>\n",
              "      <td>m014</td>\n",
              "      <td>2.0</td>\n",
              "    </tr>\n",
              "    <tr>\n",
              "      <th>2</th>\n",
              "      <td>AF</td>\n",
              "      <td>2000</td>\n",
              "      <td>m014</td>\n",
              "      <td>52.0</td>\n",
              "    </tr>\n",
              "    <tr>\n",
              "      <th>3</th>\n",
              "      <td>AG</td>\n",
              "      <td>2000</td>\n",
              "      <td>m014</td>\n",
              "      <td>0.0</td>\n",
              "    </tr>\n",
              "    <tr>\n",
              "      <th>4</th>\n",
              "      <td>AL</td>\n",
              "      <td>2000</td>\n",
              "      <td>m014</td>\n",
              "      <td>2.0</td>\n",
              "    </tr>\n",
              "  </tbody>\n",
              "</table>\n",
              "</div>"
            ],
            "text/plain": [
              "  country  year variable  value\n",
              "0      AD  2000     m014    0.0\n",
              "1      AE  2000     m014    2.0\n",
              "2      AF  2000     m014   52.0\n",
              "3      AG  2000     m014    0.0\n",
              "4      AL  2000     m014    2.0"
            ]
          },
          "metadata": {
            "tags": []
          },
          "execution_count": 72
        }
      ]
    },
    {
      "metadata": {
        "id": "GgIuOoXmjv4D",
        "colab_type": "code",
        "outputId": "d2bed69f-a862-48ce-c60a-be90eb8fffb6",
        "colab": {
          "base_uri": "https://localhost:8080/",
          "height": 33
        }
      },
      "cell_type": "code",
      "source": [
        "tb.shape"
      ],
      "execution_count": 0,
      "outputs": [
        {
          "output_type": "execute_result",
          "data": {
            "text/plain": [
              "(201, 16)"
            ]
          },
          "metadata": {
            "tags": []
          },
          "execution_count": 74
        }
      ]
    },
    {
      "metadata": {
        "id": "2sbrFxRcjsFK",
        "colab_type": "code",
        "outputId": "5cafcd69-b8ed-49b5-a614-8cc25784a176",
        "colab": {
          "base_uri": "https://localhost:8080/",
          "height": 33
        }
      },
      "cell_type": "code",
      "source": [
        "tb_melt.shape"
      ],
      "execution_count": 0,
      "outputs": [
        {
          "output_type": "execute_result",
          "data": {
            "text/plain": [
              "(2814, 4)"
            ]
          },
          "metadata": {
            "tags": []
          },
          "execution_count": 73
        }
      ]
    },
    {
      "metadata": {
        "id": "yhywHZOOj4C0",
        "colab_type": "code",
        "colab": {}
      },
      "cell_type": "code",
      "source": [
        "tb_melt['gender'] = tb_melt.variable.str[0]\n",
        "tb_melt['age_group'] = tb_melt.variable.str[1:]"
      ],
      "execution_count": 0,
      "outputs": []
    },
    {
      "metadata": {
        "id": "pDQS1gJjkQdz",
        "colab_type": "code",
        "outputId": "d18bdd27-a726-49e1-eb94-48fa95b42c11",
        "colab": {
          "base_uri": "https://localhost:8080/",
          "height": 197
        }
      },
      "cell_type": "code",
      "source": [
        "tb_melt.head()"
      ],
      "execution_count": 0,
      "outputs": [
        {
          "output_type": "execute_result",
          "data": {
            "text/html": [
              "<div>\n",
              "<style scoped>\n",
              "    .dataframe tbody tr th:only-of-type {\n",
              "        vertical-align: middle;\n",
              "    }\n",
              "\n",
              "    .dataframe tbody tr th {\n",
              "        vertical-align: top;\n",
              "    }\n",
              "\n",
              "    .dataframe thead th {\n",
              "        text-align: right;\n",
              "    }\n",
              "</style>\n",
              "<table border=\"1\" class=\"dataframe\">\n",
              "  <thead>\n",
              "    <tr style=\"text-align: right;\">\n",
              "      <th></th>\n",
              "      <th>country</th>\n",
              "      <th>year</th>\n",
              "      <th>variable</th>\n",
              "      <th>value</th>\n",
              "      <th>gender</th>\n",
              "      <th>age_group</th>\n",
              "    </tr>\n",
              "  </thead>\n",
              "  <tbody>\n",
              "    <tr>\n",
              "      <th>0</th>\n",
              "      <td>AD</td>\n",
              "      <td>2000</td>\n",
              "      <td>m014</td>\n",
              "      <td>0.0</td>\n",
              "      <td>m</td>\n",
              "      <td>014</td>\n",
              "    </tr>\n",
              "    <tr>\n",
              "      <th>1</th>\n",
              "      <td>AE</td>\n",
              "      <td>2000</td>\n",
              "      <td>m014</td>\n",
              "      <td>2.0</td>\n",
              "      <td>m</td>\n",
              "      <td>014</td>\n",
              "    </tr>\n",
              "    <tr>\n",
              "      <th>2</th>\n",
              "      <td>AF</td>\n",
              "      <td>2000</td>\n",
              "      <td>m014</td>\n",
              "      <td>52.0</td>\n",
              "      <td>m</td>\n",
              "      <td>014</td>\n",
              "    </tr>\n",
              "    <tr>\n",
              "      <th>3</th>\n",
              "      <td>AG</td>\n",
              "      <td>2000</td>\n",
              "      <td>m014</td>\n",
              "      <td>0.0</td>\n",
              "      <td>m</td>\n",
              "      <td>014</td>\n",
              "    </tr>\n",
              "    <tr>\n",
              "      <th>4</th>\n",
              "      <td>AL</td>\n",
              "      <td>2000</td>\n",
              "      <td>m014</td>\n",
              "      <td>2.0</td>\n",
              "      <td>m</td>\n",
              "      <td>014</td>\n",
              "    </tr>\n",
              "  </tbody>\n",
              "</table>\n",
              "</div>"
            ],
            "text/plain": [
              "  country  year variable  value gender age_group\n",
              "0      AD  2000     m014    0.0      m       014\n",
              "1      AE  2000     m014    2.0      m       014\n",
              "2      AF  2000     m014   52.0      m       014\n",
              "3      AG  2000     m014    0.0      m       014\n",
              "4      AL  2000     m014    2.0      m       014"
            ]
          },
          "metadata": {
            "tags": []
          },
          "execution_count": 79
        }
      ]
    },
    {
      "metadata": {
        "id": "8TW_xYTHz07-",
        "colab_type": "text"
      },
      "cell_type": "markdown",
      "source": [
        "Next step - transform variable coulm into two independent columns - age and gender."
      ]
    },
    {
      "metadata": {
        "id": "61yqz7Z92oLK",
        "colab_type": "code",
        "colab": {}
      },
      "cell_type": "code",
      "source": [
        "# Create the 'gender' column\n",
        "tb_melt['gender'] = tb_melt.variable.str[0]\n",
        "\n",
        "# Create the 'age_group' column\n",
        "tb_melt['age_group'] = tb_melt.variable.str[1:]\n",
        "\n",
        "# Print the head of tb_melt\n",
        "tb_melt.head()"
      ],
      "execution_count": 0,
      "outputs": []
    },
    {
      "metadata": {
        "id": "k57Tzb_v_spZ",
        "colab_type": "text"
      },
      "cell_type": "markdown",
      "source": [
        "**Check age groups and map values**"
      ]
    },
    {
      "metadata": {
        "id": "1_c9IHzkkve7",
        "colab_type": "code",
        "outputId": "c079bb1d-4a47-47f4-cc4f-313769e0e02d",
        "colab": {
          "base_uri": "https://localhost:8080/",
          "height": 1050
        }
      },
      "cell_type": "code",
      "source": [
        "tb_melt['gender']\n",
        "#tb_melt.gender"
      ],
      "execution_count": 0,
      "outputs": [
        {
          "output_type": "execute_result",
          "data": {
            "text/plain": [
              "0       m\n",
              "1       m\n",
              "2       m\n",
              "3       m\n",
              "4       m\n",
              "5       m\n",
              "6       m\n",
              "7       m\n",
              "8       m\n",
              "9       m\n",
              "10      m\n",
              "11      m\n",
              "12      m\n",
              "13      m\n",
              "14      m\n",
              "15      m\n",
              "16      m\n",
              "17      m\n",
              "18      m\n",
              "19      m\n",
              "20      m\n",
              "21      m\n",
              "22      m\n",
              "23      m\n",
              "24      m\n",
              "25      m\n",
              "26      m\n",
              "27      m\n",
              "28      m\n",
              "29      m\n",
              "       ..\n",
              "2784    f\n",
              "2785    f\n",
              "2786    f\n",
              "2787    f\n",
              "2788    f\n",
              "2789    f\n",
              "2790    f\n",
              "2791    f\n",
              "2792    f\n",
              "2793    f\n",
              "2794    f\n",
              "2795    f\n",
              "2796    f\n",
              "2797    f\n",
              "2798    f\n",
              "2799    f\n",
              "2800    f\n",
              "2801    f\n",
              "2802    f\n",
              "2803    f\n",
              "2804    f\n",
              "2805    f\n",
              "2806    f\n",
              "2807    f\n",
              "2808    f\n",
              "2809    f\n",
              "2810    f\n",
              "2811    f\n",
              "2812    f\n",
              "2813    f\n",
              "Name: gender, Length: 2814, dtype: object"
            ]
          },
          "metadata": {
            "tags": []
          },
          "execution_count": 84
        }
      ]
    },
    {
      "metadata": {
        "id": "kKEJSQkr3gpj",
        "colab_type": "code",
        "outputId": "3f9c8e69-32f8-4467-9c53-a6f2879aed85",
        "colab": {
          "base_uri": "https://localhost:8080/",
          "height": 33
        }
      },
      "cell_type": "code",
      "source": [
        "tb_melt.age_group.unique()"
      ],
      "execution_count": 0,
      "outputs": [
        {
          "output_type": "execute_result",
          "data": {
            "text/plain": [
              "array(['014', '1524', '2534', '3544', '4554', '5564', '65'], dtype=object)"
            ]
          },
          "metadata": {
            "tags": []
          },
          "execution_count": 80
        }
      ]
    },
    {
      "metadata": {
        "id": "JsZGSEAc5OtP",
        "colab_type": "code",
        "outputId": "5adee8ce-0f59-4519-b2c1-ad5c5dc67b23",
        "colab": {
          "base_uri": "https://localhost:8080/",
          "height": 197
        }
      },
      "cell_type": "code",
      "source": [
        "age_dict = {'014': '0-14',\n",
        "            '1524': '15-24',\n",
        "            '2534': '25-34',\n",
        "            '3544': '35-44', \n",
        "            '4554': '45-54',\n",
        "            '5564': '55-64',\n",
        "            '65': '65+'}\n",
        "\n",
        "tb_melt.age_group = tb_melt.age_group.map(age_dict)\n",
        "\n",
        "tb_melt.head()"
      ],
      "execution_count": 0,
      "outputs": [
        {
          "output_type": "execute_result",
          "data": {
            "text/html": [
              "<div>\n",
              "<style scoped>\n",
              "    .dataframe tbody tr th:only-of-type {\n",
              "        vertical-align: middle;\n",
              "    }\n",
              "\n",
              "    .dataframe tbody tr th {\n",
              "        vertical-align: top;\n",
              "    }\n",
              "\n",
              "    .dataframe thead th {\n",
              "        text-align: right;\n",
              "    }\n",
              "</style>\n",
              "<table border=\"1\" class=\"dataframe\">\n",
              "  <thead>\n",
              "    <tr style=\"text-align: right;\">\n",
              "      <th></th>\n",
              "      <th>country</th>\n",
              "      <th>year</th>\n",
              "      <th>variable</th>\n",
              "      <th>value</th>\n",
              "      <th>gender</th>\n",
              "      <th>age_group</th>\n",
              "    </tr>\n",
              "  </thead>\n",
              "  <tbody>\n",
              "    <tr>\n",
              "      <th>0</th>\n",
              "      <td>AD</td>\n",
              "      <td>2000</td>\n",
              "      <td>m014</td>\n",
              "      <td>0.0</td>\n",
              "      <td>m</td>\n",
              "      <td>0-14</td>\n",
              "    </tr>\n",
              "    <tr>\n",
              "      <th>1</th>\n",
              "      <td>AE</td>\n",
              "      <td>2000</td>\n",
              "      <td>m014</td>\n",
              "      <td>2.0</td>\n",
              "      <td>m</td>\n",
              "      <td>0-14</td>\n",
              "    </tr>\n",
              "    <tr>\n",
              "      <th>2</th>\n",
              "      <td>AF</td>\n",
              "      <td>2000</td>\n",
              "      <td>m014</td>\n",
              "      <td>52.0</td>\n",
              "      <td>m</td>\n",
              "      <td>0-14</td>\n",
              "    </tr>\n",
              "    <tr>\n",
              "      <th>3</th>\n",
              "      <td>AG</td>\n",
              "      <td>2000</td>\n",
              "      <td>m014</td>\n",
              "      <td>0.0</td>\n",
              "      <td>m</td>\n",
              "      <td>0-14</td>\n",
              "    </tr>\n",
              "    <tr>\n",
              "      <th>4</th>\n",
              "      <td>AL</td>\n",
              "      <td>2000</td>\n",
              "      <td>m014</td>\n",
              "      <td>2.0</td>\n",
              "      <td>m</td>\n",
              "      <td>0-14</td>\n",
              "    </tr>\n",
              "  </tbody>\n",
              "</table>\n",
              "</div>"
            ],
            "text/plain": [
              "  country  year variable  value gender age_group\n",
              "0      AD  2000     m014    0.0      m      0-14\n",
              "1      AE  2000     m014    2.0      m      0-14\n",
              "2      AF  2000     m014   52.0      m      0-14\n",
              "3      AG  2000     m014    0.0      m      0-14\n",
              "4      AL  2000     m014    2.0      m      0-14"
            ]
          },
          "metadata": {
            "tags": []
          },
          "execution_count": 85
        }
      ]
    },
    {
      "metadata": {
        "id": "7mXwBgbkBnNz",
        "colab_type": "code",
        "outputId": "48849079-182c-4f3d-b24c-5cb37c7b0ccb",
        "colab": {
          "base_uri": "https://localhost:8080/",
          "height": 200
        }
      },
      "cell_type": "code",
      "source": [
        "tb_melt.info()"
      ],
      "execution_count": 0,
      "outputs": [
        {
          "output_type": "stream",
          "text": [
            "<class 'pandas.core.frame.DataFrame'>\n",
            "RangeIndex: 2814 entries, 0 to 2813\n",
            "Data columns (total 6 columns):\n",
            "country      2800 non-null object\n",
            "year         2814 non-null int64\n",
            "variable     2814 non-null object\n",
            "value        2273 non-null float64\n",
            "gender       2814 non-null object\n",
            "age_group    2814 non-null object\n",
            "dtypes: float64(1), int64(1), object(4)\n",
            "memory usage: 132.0+ KB\n"
          ],
          "name": "stdout"
        }
      ]
    },
    {
      "metadata": {
        "id": "6quhzOG5BtaK",
        "colab_type": "code",
        "outputId": "84574864-901d-4f56-d637-97dbcbc272c1",
        "colab": {
          "base_uri": "https://localhost:8080/",
          "height": 33
        }
      },
      "cell_type": "code",
      "source": [
        "tb_melt.shape"
      ],
      "execution_count": 0,
      "outputs": [
        {
          "output_type": "execute_result",
          "data": {
            "text/plain": [
              "(2814, 6)"
            ]
          },
          "metadata": {
            "tags": []
          },
          "execution_count": 87
        }
      ]
    },
    {
      "metadata": {
        "id": "6RGjLy2OBzmc",
        "colab_type": "code",
        "outputId": "b6e8245f-1c6f-4cd4-de00-e97cfd134432",
        "colab": {
          "base_uri": "https://localhost:8080/",
          "height": 287
        }
      },
      "cell_type": "code",
      "source": [
        "tb_melt.describe() # why so big max value?"
      ],
      "execution_count": 0,
      "outputs": [
        {
          "output_type": "execute_result",
          "data": {
            "text/html": [
              "<div>\n",
              "<style scoped>\n",
              "    .dataframe tbody tr th:only-of-type {\n",
              "        vertical-align: middle;\n",
              "    }\n",
              "\n",
              "    .dataframe tbody tr th {\n",
              "        vertical-align: top;\n",
              "    }\n",
              "\n",
              "    .dataframe thead th {\n",
              "        text-align: right;\n",
              "    }\n",
              "</style>\n",
              "<table border=\"1\" class=\"dataframe\">\n",
              "  <thead>\n",
              "    <tr style=\"text-align: right;\">\n",
              "      <th></th>\n",
              "      <th>year</th>\n",
              "      <th>value</th>\n",
              "    </tr>\n",
              "  </thead>\n",
              "  <tbody>\n",
              "    <tr>\n",
              "      <th>count</th>\n",
              "      <td>2814.0</td>\n",
              "      <td>2273.000000</td>\n",
              "    </tr>\n",
              "    <tr>\n",
              "      <th>mean</th>\n",
              "      <td>2000.0</td>\n",
              "      <td>504.979762</td>\n",
              "    </tr>\n",
              "    <tr>\n",
              "      <th>std</th>\n",
              "      <td>0.0</td>\n",
              "      <td>2072.562447</td>\n",
              "    </tr>\n",
              "    <tr>\n",
              "      <th>min</th>\n",
              "      <td>2000.0</td>\n",
              "      <td>0.000000</td>\n",
              "    </tr>\n",
              "    <tr>\n",
              "      <th>25%</th>\n",
              "      <td>2000.0</td>\n",
              "      <td>6.000000</td>\n",
              "    </tr>\n",
              "    <tr>\n",
              "      <th>50%</th>\n",
              "      <td>2000.0</td>\n",
              "      <td>38.000000</td>\n",
              "    </tr>\n",
              "    <tr>\n",
              "      <th>75%</th>\n",
              "      <td>2000.0</td>\n",
              "      <td>258.000000</td>\n",
              "    </tr>\n",
              "    <tr>\n",
              "      <th>max</th>\n",
              "      <td>2000.0</td>\n",
              "      <td>31090.000000</td>\n",
              "    </tr>\n",
              "  </tbody>\n",
              "</table>\n",
              "</div>"
            ],
            "text/plain": [
              "         year         value\n",
              "count  2814.0   2273.000000\n",
              "mean   2000.0    504.979762\n",
              "std       0.0   2072.562447\n",
              "min    2000.0      0.000000\n",
              "25%    2000.0      6.000000\n",
              "50%    2000.0     38.000000\n",
              "75%    2000.0    258.000000\n",
              "max    2000.0  31090.000000"
            ]
          },
          "metadata": {
            "tags": []
          },
          "execution_count": 88
        }
      ]
    },
    {
      "metadata": {
        "id": "PnPH_1ewVsu4",
        "colab_type": "text"
      },
      "cell_type": "markdown",
      "source": [
        "### EDA"
      ]
    },
    {
      "metadata": {
        "id": "me5esA_sChng",
        "colab_type": "code",
        "outputId": "58b3e01f-33fc-45d8-dd42-1b0759c15d42",
        "colab": {
          "base_uri": "https://localhost:8080/",
          "height": 197
        }
      },
      "cell_type": "code",
      "source": [
        "tb_melt.sort_values('value', ascending=False).head()"
      ],
      "execution_count": 0,
      "outputs": [
        {
          "output_type": "execute_result",
          "data": {
            "text/html": [
              "<div>\n",
              "<style scoped>\n",
              "    .dataframe tbody tr th:only-of-type {\n",
              "        vertical-align: middle;\n",
              "    }\n",
              "\n",
              "    .dataframe tbody tr th {\n",
              "        vertical-align: top;\n",
              "    }\n",
              "\n",
              "    .dataframe thead th {\n",
              "        text-align: right;\n",
              "    }\n",
              "</style>\n",
              "<table border=\"1\" class=\"dataframe\">\n",
              "  <thead>\n",
              "    <tr style=\"text-align: right;\">\n",
              "      <th></th>\n",
              "      <th>country</th>\n",
              "      <th>year</th>\n",
              "      <th>variable</th>\n",
              "      <th>value</th>\n",
              "      <th>gender</th>\n",
              "      <th>age_group</th>\n",
              "    </tr>\n",
              "  </thead>\n",
              "  <tbody>\n",
              "    <tr>\n",
              "      <th>482</th>\n",
              "      <td>IN</td>\n",
              "      <td>2000</td>\n",
              "      <td>m2534</td>\n",
              "      <td>31090.0</td>\n",
              "      <td>m</td>\n",
              "      <td>25-34</td>\n",
              "    </tr>\n",
              "    <tr>\n",
              "      <th>683</th>\n",
              "      <td>IN</td>\n",
              "      <td>2000</td>\n",
              "      <td>m3544</td>\n",
              "      <td>30829.0</td>\n",
              "      <td>m</td>\n",
              "      <td>35-44</td>\n",
              "    </tr>\n",
              "    <tr>\n",
              "      <th>442</th>\n",
              "      <td>CN</td>\n",
              "      <td>2000</td>\n",
              "      <td>m2534</td>\n",
              "      <td>29399.0</td>\n",
              "      <td>m</td>\n",
              "      <td>25-34</td>\n",
              "    </tr>\n",
              "    <tr>\n",
              "      <th>844</th>\n",
              "      <td>CN</td>\n",
              "      <td>2000</td>\n",
              "      <td>m4554</td>\n",
              "      <td>25593.0</td>\n",
              "      <td>m</td>\n",
              "      <td>45-54</td>\n",
              "    </tr>\n",
              "    <tr>\n",
              "      <th>643</th>\n",
              "      <td>CN</td>\n",
              "      <td>2000</td>\n",
              "      <td>m3544</td>\n",
              "      <td>25206.0</td>\n",
              "      <td>m</td>\n",
              "      <td>35-44</td>\n",
              "    </tr>\n",
              "  </tbody>\n",
              "</table>\n",
              "</div>"
            ],
            "text/plain": [
              "    country  year variable    value gender age_group\n",
              "482      IN  2000    m2534  31090.0      m     25-34\n",
              "683      IN  2000    m3544  30829.0      m     35-44\n",
              "442      CN  2000    m2534  29399.0      m     25-34\n",
              "844      CN  2000    m4554  25593.0      m     45-54\n",
              "643      CN  2000    m3544  25206.0      m     35-44"
            ]
          },
          "metadata": {
            "tags": []
          },
          "execution_count": 91
        }
      ]
    },
    {
      "metadata": {
        "id": "TT28FZbmRiBP",
        "colab_type": "text"
      },
      "cell_type": "markdown",
      "source": [
        "**Group by**"
      ]
    },
    {
      "metadata": {
        "id": "c9gHbIk8SAdg",
        "colab_type": "text"
      },
      "cell_type": "markdown",
      "source": [
        "Cases count per age group?"
      ]
    },
    {
      "metadata": {
        "id": "y_8HpQQamnxP",
        "colab_type": "code",
        "outputId": "8fed6d00-2a51-4853-834a-8f6d4a143410",
        "colab": {
          "base_uri": "https://localhost:8080/",
          "height": 467
        }
      },
      "cell_type": "code",
      "source": [
        "tb_melt.groupby(['age_group', 'gender'], as_index=False)[['value','year']].mean()"
      ],
      "execution_count": 0,
      "outputs": [
        {
          "output_type": "execute_result",
          "data": {
            "text/html": [
              "<div>\n",
              "<style scoped>\n",
              "    .dataframe tbody tr th:only-of-type {\n",
              "        vertical-align: middle;\n",
              "    }\n",
              "\n",
              "    .dataframe tbody tr th {\n",
              "        vertical-align: top;\n",
              "    }\n",
              "\n",
              "    .dataframe thead th {\n",
              "        text-align: right;\n",
              "    }\n",
              "</style>\n",
              "<table border=\"1\" class=\"dataframe\">\n",
              "  <thead>\n",
              "    <tr style=\"text-align: right;\">\n",
              "      <th></th>\n",
              "      <th>age_group</th>\n",
              "      <th>gender</th>\n",
              "      <th>value</th>\n",
              "      <th>year</th>\n",
              "    </tr>\n",
              "  </thead>\n",
              "  <tbody>\n",
              "    <tr>\n",
              "      <th>0</th>\n",
              "      <td>0-14</td>\n",
              "      <td>f</td>\n",
              "      <td>92.175000</td>\n",
              "      <td>2000</td>\n",
              "    </tr>\n",
              "    <tr>\n",
              "      <th>1</th>\n",
              "      <td>0-14</td>\n",
              "      <td>m</td>\n",
              "      <td>76.462963</td>\n",
              "      <td>2000</td>\n",
              "    </tr>\n",
              "    <tr>\n",
              "      <th>2</th>\n",
              "      <td>15-24</td>\n",
              "      <td>f</td>\n",
              "      <td>591.518750</td>\n",
              "      <td>2000</td>\n",
              "    </tr>\n",
              "    <tr>\n",
              "      <th>3</th>\n",
              "      <td>15-24</td>\n",
              "      <td>m</td>\n",
              "      <td>707.030675</td>\n",
              "      <td>2000</td>\n",
              "    </tr>\n",
              "    <tr>\n",
              "      <th>4</th>\n",
              "      <td>25-34</td>\n",
              "      <td>f</td>\n",
              "      <td>680.901235</td>\n",
              "      <td>2000</td>\n",
              "    </tr>\n",
              "    <tr>\n",
              "      <th>5</th>\n",
              "      <td>25-34</td>\n",
              "      <td>m</td>\n",
              "      <td>1054.262195</td>\n",
              "      <td>2000</td>\n",
              "    </tr>\n",
              "    <tr>\n",
              "      <th>6</th>\n",
              "      <td>35-44</td>\n",
              "      <td>f</td>\n",
              "      <td>466.918750</td>\n",
              "      <td>2000</td>\n",
              "    </tr>\n",
              "    <tr>\n",
              "      <th>7</th>\n",
              "      <td>35-44</td>\n",
              "      <td>m</td>\n",
              "      <td>952.853659</td>\n",
              "      <td>2000</td>\n",
              "    </tr>\n",
              "    <tr>\n",
              "      <th>8</th>\n",
              "      <td>45-54</td>\n",
              "      <td>f</td>\n",
              "      <td>309.459627</td>\n",
              "      <td>2000</td>\n",
              "    </tr>\n",
              "    <tr>\n",
              "      <th>9</th>\n",
              "      <td>45-54</td>\n",
              "      <td>m</td>\n",
              "      <td>735.018182</td>\n",
              "      <td>2000</td>\n",
              "    </tr>\n",
              "    <tr>\n",
              "      <th>10</th>\n",
              "      <td>55-64</td>\n",
              "      <td>f</td>\n",
              "      <td>208.024691</td>\n",
              "      <td>2000</td>\n",
              "    </tr>\n",
              "    <tr>\n",
              "      <th>11</th>\n",
              "      <td>55-64</td>\n",
              "      <td>m</td>\n",
              "      <td>499.036145</td>\n",
              "      <td>2000</td>\n",
              "    </tr>\n",
              "    <tr>\n",
              "      <th>12</th>\n",
              "      <td>65+</td>\n",
              "      <td>f</td>\n",
              "      <td>211.393750</td>\n",
              "      <td>2000</td>\n",
              "    </tr>\n",
              "    <tr>\n",
              "      <th>13</th>\n",
              "      <td>65+</td>\n",
              "      <td>m</td>\n",
              "      <td>458.237805</td>\n",
              "      <td>2000</td>\n",
              "    </tr>\n",
              "  </tbody>\n",
              "</table>\n",
              "</div>"
            ],
            "text/plain": [
              "   age_group gender        value  year\n",
              "0       0-14      f    92.175000  2000\n",
              "1       0-14      m    76.462963  2000\n",
              "2      15-24      f   591.518750  2000\n",
              "3      15-24      m   707.030675  2000\n",
              "4      25-34      f   680.901235  2000\n",
              "5      25-34      m  1054.262195  2000\n",
              "6      35-44      f   466.918750  2000\n",
              "7      35-44      m   952.853659  2000\n",
              "8      45-54      f   309.459627  2000\n",
              "9      45-54      m   735.018182  2000\n",
              "10     55-64      f   208.024691  2000\n",
              "11     55-64      m   499.036145  2000\n",
              "12       65+      f   211.393750  2000\n",
              "13       65+      m   458.237805  2000"
            ]
          },
          "metadata": {
            "tags": []
          },
          "execution_count": 97
        }
      ]
    },
    {
      "metadata": {
        "id": "OObZcMS3R_RS",
        "colab_type": "code",
        "outputId": "c6de155b-08e4-4648-c155-efe4ede04a15",
        "colab": {
          "base_uri": "https://localhost:8080/",
          "height": 287
        }
      },
      "cell_type": "code",
      "source": [
        "tb_melt.groupby(['age_group'])['value'].describe()"
      ],
      "execution_count": 0,
      "outputs": [
        {
          "output_type": "execute_result",
          "data": {
            "text/html": [
              "<div>\n",
              "<style scoped>\n",
              "    .dataframe tbody tr th:only-of-type {\n",
              "        vertical-align: middle;\n",
              "    }\n",
              "\n",
              "    .dataframe tbody tr th {\n",
              "        vertical-align: top;\n",
              "    }\n",
              "\n",
              "    .dataframe thead th {\n",
              "        text-align: right;\n",
              "    }\n",
              "</style>\n",
              "<table border=\"1\" class=\"dataframe\">\n",
              "  <thead>\n",
              "    <tr style=\"text-align: right;\">\n",
              "      <th></th>\n",
              "      <th>count</th>\n",
              "      <th>mean</th>\n",
              "      <th>std</th>\n",
              "      <th>min</th>\n",
              "      <th>25%</th>\n",
              "      <th>50%</th>\n",
              "      <th>75%</th>\n",
              "      <th>max</th>\n",
              "    </tr>\n",
              "    <tr>\n",
              "      <th>age_group</th>\n",
              "      <th></th>\n",
              "      <th></th>\n",
              "      <th></th>\n",
              "      <th></th>\n",
              "      <th></th>\n",
              "      <th></th>\n",
              "      <th></th>\n",
              "      <th></th>\n",
              "    </tr>\n",
              "  </thead>\n",
              "  <tbody>\n",
              "    <tr>\n",
              "      <th>0-14</th>\n",
              "      <td>322.0</td>\n",
              "      <td>84.270186</td>\n",
              "      <td>263.476479</td>\n",
              "      <td>0.0</td>\n",
              "      <td>1.00</td>\n",
              "      <td>6.0</td>\n",
              "      <td>38.75</td>\n",
              "      <td>2250.0</td>\n",
              "    </tr>\n",
              "    <tr>\n",
              "      <th>15-24</th>\n",
              "      <td>323.0</td>\n",
              "      <td>649.811146</td>\n",
              "      <td>2126.522783</td>\n",
              "      <td>0.0</td>\n",
              "      <td>9.00</td>\n",
              "      <td>73.0</td>\n",
              "      <td>457.00</td>\n",
              "      <td>20963.0</td>\n",
              "    </tr>\n",
              "    <tr>\n",
              "      <th>25-34</th>\n",
              "      <td>326.0</td>\n",
              "      <td>868.726994</td>\n",
              "      <td>2963.945454</td>\n",
              "      <td>0.0</td>\n",
              "      <td>9.25</td>\n",
              "      <td>99.0</td>\n",
              "      <td>564.75</td>\n",
              "      <td>31090.0</td>\n",
              "    </tr>\n",
              "    <tr>\n",
              "      <th>35-44</th>\n",
              "      <td>324.0</td>\n",
              "      <td>712.885802</td>\n",
              "      <td>2599.070189</td>\n",
              "      <td>0.0</td>\n",
              "      <td>10.00</td>\n",
              "      <td>77.5</td>\n",
              "      <td>442.50</td>\n",
              "      <td>30829.0</td>\n",
              "    </tr>\n",
              "    <tr>\n",
              "      <th>45-54</th>\n",
              "      <td>326.0</td>\n",
              "      <td>524.849693</td>\n",
              "      <td>2184.496532</td>\n",
              "      <td>0.0</td>\n",
              "      <td>7.00</td>\n",
              "      <td>48.0</td>\n",
              "      <td>283.50</td>\n",
              "      <td>25593.0</td>\n",
              "    </tr>\n",
              "    <tr>\n",
              "      <th>55-64</th>\n",
              "      <td>328.0</td>\n",
              "      <td>355.304878</td>\n",
              "      <td>1600.108912</td>\n",
              "      <td>0.0</td>\n",
              "      <td>5.00</td>\n",
              "      <td>31.5</td>\n",
              "      <td>179.00</td>\n",
              "      <td>21429.0</td>\n",
              "    </tr>\n",
              "    <tr>\n",
              "      <th>65+</th>\n",
              "      <td>324.0</td>\n",
              "      <td>336.339506</td>\n",
              "      <td>1491.187582</td>\n",
              "      <td>0.0</td>\n",
              "      <td>6.00</td>\n",
              "      <td>39.0</td>\n",
              "      <td>140.00</td>\n",
              "      <td>21771.0</td>\n",
              "    </tr>\n",
              "  </tbody>\n",
              "</table>\n",
              "</div>"
            ],
            "text/plain": [
              "           count        mean          std  min    25%   50%     75%      max\n",
              "age_group                                                                   \n",
              "0-14       322.0   84.270186   263.476479  0.0   1.00   6.0   38.75   2250.0\n",
              "15-24      323.0  649.811146  2126.522783  0.0   9.00  73.0  457.00  20963.0\n",
              "25-34      326.0  868.726994  2963.945454  0.0   9.25  99.0  564.75  31090.0\n",
              "35-44      324.0  712.885802  2599.070189  0.0  10.00  77.5  442.50  30829.0\n",
              "45-54      326.0  524.849693  2184.496532  0.0   7.00  48.0  283.50  25593.0\n",
              "55-64      328.0  355.304878  1600.108912  0.0   5.00  31.5  179.00  21429.0\n",
              "65+        324.0  336.339506  1491.187582  0.0   6.00  39.0  140.00  21771.0"
            ]
          },
          "metadata": {
            "tags": []
          },
          "execution_count": 92
        }
      ]
    },
    {
      "metadata": {
        "id": "xIltPWEEVzn2",
        "colab_type": "code",
        "outputId": "c337caca-181a-496c-d4b8-c14962b08dd8",
        "colab": {
          "base_uri": "https://localhost:8080/",
          "height": 1936
        }
      },
      "cell_type": "code",
      "source": [
        "tb_melt.groupby(['country'])['value'].describe()"
      ],
      "execution_count": 0,
      "outputs": [
        {
          "output_type": "execute_result",
          "data": {
            "text/html": [
              "<div>\n",
              "<style scoped>\n",
              "    .dataframe tbody tr th:only-of-type {\n",
              "        vertical-align: middle;\n",
              "    }\n",
              "\n",
              "    .dataframe tbody tr th {\n",
              "        vertical-align: top;\n",
              "    }\n",
              "\n",
              "    .dataframe thead th {\n",
              "        text-align: right;\n",
              "    }\n",
              "</style>\n",
              "<table border=\"1\" class=\"dataframe\">\n",
              "  <thead>\n",
              "    <tr style=\"text-align: right;\">\n",
              "      <th></th>\n",
              "      <th>count</th>\n",
              "      <th>mean</th>\n",
              "      <th>std</th>\n",
              "      <th>min</th>\n",
              "      <th>25%</th>\n",
              "      <th>50%</th>\n",
              "      <th>75%</th>\n",
              "      <th>max</th>\n",
              "    </tr>\n",
              "    <tr>\n",
              "      <th>country</th>\n",
              "      <th></th>\n",
              "      <th></th>\n",
              "      <th></th>\n",
              "      <th></th>\n",
              "      <th></th>\n",
              "      <th></th>\n",
              "      <th></th>\n",
              "      <th></th>\n",
              "    </tr>\n",
              "  </thead>\n",
              "  <tbody>\n",
              "    <tr>\n",
              "      <th>AD</th>\n",
              "      <td>7.0</td>\n",
              "      <td>0.142857</td>\n",
              "      <td>0.377964</td>\n",
              "      <td>0.0</td>\n",
              "      <td>0.00</td>\n",
              "      <td>0.0</td>\n",
              "      <td>0.00</td>\n",
              "      <td>1.0</td>\n",
              "    </tr>\n",
              "    <tr>\n",
              "      <th>AE</th>\n",
              "      <td>14.0</td>\n",
              "      <td>5.000000</td>\n",
              "      <td>4.657500</td>\n",
              "      <td>0.0</td>\n",
              "      <td>2.25</td>\n",
              "      <td>4.0</td>\n",
              "      <td>5.75</td>\n",
              "      <td>16.0</td>\n",
              "    </tr>\n",
              "    <tr>\n",
              "      <th>AF</th>\n",
              "      <td>14.0</td>\n",
              "      <td>190.428571</td>\n",
              "      <td>152.387519</td>\n",
              "      <td>36.0</td>\n",
              "      <td>93.25</td>\n",
              "      <td>139.0</td>\n",
              "      <td>222.25</td>\n",
              "      <td>565.0</td>\n",
              "    </tr>\n",
              "    <tr>\n",
              "      <th>AG</th>\n",
              "      <td>14.0</td>\n",
              "      <td>0.285714</td>\n",
              "      <td>0.468807</td>\n",
              "      <td>0.0</td>\n",
              "      <td>0.00</td>\n",
              "      <td>0.0</td>\n",
              "      <td>0.75</td>\n",
              "      <td>1.0</td>\n",
              "    </tr>\n",
              "    <tr>\n",
              "      <th>AL</th>\n",
              "      <td>14.0</td>\n",
              "      <td>12.214286</td>\n",
              "      <td>6.852047</td>\n",
              "      <td>2.0</td>\n",
              "      <td>8.00</td>\n",
              "      <td>11.0</td>\n",
              "      <td>18.25</td>\n",
              "      <td>24.0</td>\n",
              "    </tr>\n",
              "    <tr>\n",
              "      <th>AM</th>\n",
              "      <td>14.0</td>\n",
              "      <td>44.357143</td>\n",
              "      <td>53.158120</td>\n",
              "      <td>1.0</td>\n",
              "      <td>8.00</td>\n",
              "      <td>24.0</td>\n",
              "      <td>54.00</td>\n",
              "      <td>152.0</td>\n",
              "    </tr>\n",
              "    <tr>\n",
              "      <th>AN</th>\n",
              "      <td>14.0</td>\n",
              "      <td>0.357143</td>\n",
              "      <td>0.633324</td>\n",
              "      <td>0.0</td>\n",
              "      <td>0.00</td>\n",
              "      <td>0.0</td>\n",
              "      <td>0.75</td>\n",
              "      <td>2.0</td>\n",
              "    </tr>\n",
              "    <tr>\n",
              "      <th>AO</th>\n",
              "      <td>14.0</td>\n",
              "      <td>582.071429</td>\n",
              "      <td>391.293017</td>\n",
              "      <td>120.0</td>\n",
              "      <td>211.75</td>\n",
              "      <td>449.5</td>\n",
              "      <td>977.25</td>\n",
              "      <td>1142.0</td>\n",
              "    </tr>\n",
              "    <tr>\n",
              "      <th>AR</th>\n",
              "      <td>14.0</td>\n",
              "      <td>322.785714</td>\n",
              "      <td>152.569872</td>\n",
              "      <td>97.0</td>\n",
              "      <td>219.50</td>\n",
              "      <td>304.0</td>\n",
              "      <td>414.75</td>\n",
              "      <td>594.0</td>\n",
              "    </tr>\n",
              "    <tr>\n",
              "      <th>AS</th>\n",
              "      <td>3.0</td>\n",
              "      <td>1.000000</td>\n",
              "      <td>0.000000</td>\n",
              "      <td>1.0</td>\n",
              "      <td>1.00</td>\n",
              "      <td>1.0</td>\n",
              "      <td>1.00</td>\n",
              "      <td>1.0</td>\n",
              "    </tr>\n",
              "    <tr>\n",
              "      <th>AT</th>\n",
              "      <td>14.0</td>\n",
              "      <td>21.285714</td>\n",
              "      <td>16.854256</td>\n",
              "      <td>1.0</td>\n",
              "      <td>11.00</td>\n",
              "      <td>19.5</td>\n",
              "      <td>28.25</td>\n",
              "      <td>59.0</td>\n",
              "    </tr>\n",
              "    <tr>\n",
              "      <th>AU</th>\n",
              "      <td>14.0</td>\n",
              "      <td>17.928571</td>\n",
              "      <td>12.797021</td>\n",
              "      <td>0.0</td>\n",
              "      <td>12.50</td>\n",
              "      <td>15.5</td>\n",
              "      <td>22.75</td>\n",
              "      <td>49.0</td>\n",
              "    </tr>\n",
              "    <tr>\n",
              "      <th>AZ</th>\n",
              "      <td>14.0</td>\n",
              "      <td>10.928571</td>\n",
              "      <td>14.678421</td>\n",
              "      <td>0.0</td>\n",
              "      <td>0.00</td>\n",
              "      <td>3.0</td>\n",
              "      <td>20.25</td>\n",
              "      <td>42.0</td>\n",
              "    </tr>\n",
              "    <tr>\n",
              "      <th>BA</th>\n",
              "      <td>14.0</td>\n",
              "      <td>53.714286</td>\n",
              "      <td>34.336409</td>\n",
              "      <td>4.0</td>\n",
              "      <td>29.25</td>\n",
              "      <td>52.0</td>\n",
              "      <td>74.25</td>\n",
              "      <td>124.0</td>\n",
              "    </tr>\n",
              "    <tr>\n",
              "      <th>BB</th>\n",
              "      <td>14.0</td>\n",
              "      <td>0.214286</td>\n",
              "      <td>0.578934</td>\n",
              "      <td>0.0</td>\n",
              "      <td>0.00</td>\n",
              "      <td>0.0</td>\n",
              "      <td>0.00</td>\n",
              "      <td>2.0</td>\n",
              "    </tr>\n",
              "    <tr>\n",
              "      <th>BD</th>\n",
              "      <td>14.0</td>\n",
              "      <td>2713.071429</td>\n",
              "      <td>1888.230815</td>\n",
              "      <td>256.0</td>\n",
              "      <td>912.25</td>\n",
              "      <td>2933.0</td>\n",
              "      <td>3660.25</td>\n",
              "      <td>5750.0</td>\n",
              "    </tr>\n",
              "    <tr>\n",
              "      <th>BE</th>\n",
              "      <td>14.0</td>\n",
              "      <td>25.785714</td>\n",
              "      <td>19.248091</td>\n",
              "      <td>3.0</td>\n",
              "      <td>13.50</td>\n",
              "      <td>19.5</td>\n",
              "      <td>37.25</td>\n",
              "      <td>57.0</td>\n",
              "    </tr>\n",
              "    <tr>\n",
              "      <th>BF</th>\n",
              "      <td>14.0</td>\n",
              "      <td>91.928571</td>\n",
              "      <td>82.746568</td>\n",
              "      <td>7.0</td>\n",
              "      <td>39.75</td>\n",
              "      <td>66.5</td>\n",
              "      <td>121.25</td>\n",
              "      <td>274.0</td>\n",
              "    </tr>\n",
              "    <tr>\n",
              "      <th>BG</th>\n",
              "      <td>14.0</td>\n",
              "      <td>8.285714</td>\n",
              "      <td>6.081859</td>\n",
              "      <td>0.0</td>\n",
              "      <td>3.25</td>\n",
              "      <td>8.0</td>\n",
              "      <td>12.50</td>\n",
              "      <td>20.0</td>\n",
              "    </tr>\n",
              "    <tr>\n",
              "      <th>BH</th>\n",
              "      <td>14.0</td>\n",
              "      <td>1.642857</td>\n",
              "      <td>1.598420</td>\n",
              "      <td>0.0</td>\n",
              "      <td>0.25</td>\n",
              "      <td>1.0</td>\n",
              "      <td>2.75</td>\n",
              "      <td>5.0</td>\n",
              "    </tr>\n",
              "    <tr>\n",
              "      <th>BI</th>\n",
              "      <td>0.0</td>\n",
              "      <td>NaN</td>\n",
              "      <td>NaN</td>\n",
              "      <td>NaN</td>\n",
              "      <td>NaN</td>\n",
              "      <td>NaN</td>\n",
              "      <td>NaN</td>\n",
              "      <td>NaN</td>\n",
              "    </tr>\n",
              "    <tr>\n",
              "      <th>BJ</th>\n",
              "      <td>14.0</td>\n",
              "      <td>163.285714</td>\n",
              "      <td>130.104945</td>\n",
              "      <td>19.0</td>\n",
              "      <td>52.25</td>\n",
              "      <td>126.0</td>\n",
              "      <td>266.00</td>\n",
              "      <td>428.0</td>\n",
              "    </tr>\n",
              "    <tr>\n",
              "      <th>BM</th>\n",
              "      <td>0.0</td>\n",
              "      <td>NaN</td>\n",
              "      <td>NaN</td>\n",
              "      <td>NaN</td>\n",
              "      <td>NaN</td>\n",
              "      <td>NaN</td>\n",
              "      <td>NaN</td>\n",
              "      <td>NaN</td>\n",
              "    </tr>\n",
              "    <tr>\n",
              "      <th>BN</th>\n",
              "      <td>14.0</td>\n",
              "      <td>6.000000</td>\n",
              "      <td>4.523443</td>\n",
              "      <td>0.0</td>\n",
              "      <td>4.00</td>\n",
              "      <td>5.5</td>\n",
              "      <td>6.75</td>\n",
              "      <td>15.0</td>\n",
              "    </tr>\n",
              "    <tr>\n",
              "      <th>BO</th>\n",
              "      <td>14.0</td>\n",
              "      <td>461.285714</td>\n",
              "      <td>298.193646</td>\n",
              "      <td>166.0</td>\n",
              "      <td>238.25</td>\n",
              "      <td>353.0</td>\n",
              "      <td>570.50</td>\n",
              "      <td>1182.0</td>\n",
              "    </tr>\n",
              "    <tr>\n",
              "      <th>BR</th>\n",
              "      <td>14.0</td>\n",
              "      <td>5749.142857</td>\n",
              "      <td>3330.074932</td>\n",
              "      <td>1859.0</td>\n",
              "      <td>2767.50</td>\n",
              "      <td>5240.0</td>\n",
              "      <td>7254.75</td>\n",
              "      <td>11906.0</td>\n",
              "    </tr>\n",
              "    <tr>\n",
              "      <th>BS</th>\n",
              "      <td>14.0</td>\n",
              "      <td>4.000000</td>\n",
              "      <td>2.717465</td>\n",
              "      <td>1.0</td>\n",
              "      <td>2.00</td>\n",
              "      <td>3.0</td>\n",
              "      <td>6.50</td>\n",
              "      <td>9.0</td>\n",
              "    </tr>\n",
              "    <tr>\n",
              "      <th>BT</th>\n",
              "      <td>14.0</td>\n",
              "      <td>24.071429</td>\n",
              "      <td>20.401600</td>\n",
              "      <td>2.0</td>\n",
              "      <td>6.25</td>\n",
              "      <td>23.5</td>\n",
              "      <td>33.25</td>\n",
              "      <td>65.0</td>\n",
              "    </tr>\n",
              "    <tr>\n",
              "      <th>BW</th>\n",
              "      <td>14.0</td>\n",
              "      <td>221.071429</td>\n",
              "      <td>190.117561</td>\n",
              "      <td>25.0</td>\n",
              "      <td>66.75</td>\n",
              "      <td>160.0</td>\n",
              "      <td>318.00</td>\n",
              "      <td>605.0</td>\n",
              "    </tr>\n",
              "    <tr>\n",
              "      <th>BY</th>\n",
              "      <td>0.0</td>\n",
              "      <td>NaN</td>\n",
              "      <td>NaN</td>\n",
              "      <td>NaN</td>\n",
              "      <td>NaN</td>\n",
              "      <td>NaN</td>\n",
              "      <td>NaN</td>\n",
              "      <td>NaN</td>\n",
              "    </tr>\n",
              "    <tr>\n",
              "      <th>...</th>\n",
              "      <td>...</td>\n",
              "      <td>...</td>\n",
              "      <td>...</td>\n",
              "      <td>...</td>\n",
              "      <td>...</td>\n",
              "      <td>...</td>\n",
              "      <td>...</td>\n",
              "      <td>...</td>\n",
              "    </tr>\n",
              "    <tr>\n",
              "      <th>SY</th>\n",
              "      <td>14.0</td>\n",
              "      <td>105.857143</td>\n",
              "      <td>104.996599</td>\n",
              "      <td>8.0</td>\n",
              "      <td>40.00</td>\n",
              "      <td>65.5</td>\n",
              "      <td>119.00</td>\n",
              "      <td>359.0</td>\n",
              "    </tr>\n",
              "    <tr>\n",
              "      <th>SZ</th>\n",
              "      <td>14.0</td>\n",
              "      <td>113.785714</td>\n",
              "      <td>117.265103</td>\n",
              "      <td>5.0</td>\n",
              "      <td>18.75</td>\n",
              "      <td>62.0</td>\n",
              "      <td>183.00</td>\n",
              "      <td>352.0</td>\n",
              "    </tr>\n",
              "    <tr>\n",
              "      <th>TC</th>\n",
              "      <td>0.0</td>\n",
              "      <td>NaN</td>\n",
              "      <td>NaN</td>\n",
              "      <td>NaN</td>\n",
              "      <td>NaN</td>\n",
              "      <td>NaN</td>\n",
              "      <td>NaN</td>\n",
              "      <td>NaN</td>\n",
              "    </tr>\n",
              "    <tr>\n",
              "      <th>TG</th>\n",
              "      <td>14.0</td>\n",
              "      <td>70.142857</td>\n",
              "      <td>53.775684</td>\n",
              "      <td>4.0</td>\n",
              "      <td>27.00</td>\n",
              "      <td>49.0</td>\n",
              "      <td>108.50</td>\n",
              "      <td>168.0</td>\n",
              "    </tr>\n",
              "    <tr>\n",
              "      <th>TH</th>\n",
              "      <td>14.0</td>\n",
              "      <td>1268.214286</td>\n",
              "      <td>837.566914</td>\n",
              "      <td>27.0</td>\n",
              "      <td>799.75</td>\n",
              "      <td>1025.5</td>\n",
              "      <td>2064.75</td>\n",
              "      <td>2570.0</td>\n",
              "    </tr>\n",
              "    <tr>\n",
              "      <th>TJ</th>\n",
              "      <td>0.0</td>\n",
              "      <td>NaN</td>\n",
              "      <td>NaN</td>\n",
              "      <td>NaN</td>\n",
              "      <td>NaN</td>\n",
              "      <td>NaN</td>\n",
              "      <td>NaN</td>\n",
              "      <td>NaN</td>\n",
              "    </tr>\n",
              "    <tr>\n",
              "      <th>TK</th>\n",
              "      <td>0.0</td>\n",
              "      <td>NaN</td>\n",
              "      <td>NaN</td>\n",
              "      <td>NaN</td>\n",
              "      <td>NaN</td>\n",
              "      <td>NaN</td>\n",
              "      <td>NaN</td>\n",
              "      <td>NaN</td>\n",
              "    </tr>\n",
              "    <tr>\n",
              "      <th>TM</th>\n",
              "      <td>14.0</td>\n",
              "      <td>72.642857</td>\n",
              "      <td>57.479906</td>\n",
              "      <td>16.0</td>\n",
              "      <td>23.50</td>\n",
              "      <td>53.5</td>\n",
              "      <td>121.00</td>\n",
              "      <td>185.0</td>\n",
              "    </tr>\n",
              "    <tr>\n",
              "      <th>TN</th>\n",
              "      <td>14.0</td>\n",
              "      <td>76.500000</td>\n",
              "      <td>59.356485</td>\n",
              "      <td>7.0</td>\n",
              "      <td>26.50</td>\n",
              "      <td>62.0</td>\n",
              "      <td>107.00</td>\n",
              "      <td>208.0</td>\n",
              "    </tr>\n",
              "    <tr>\n",
              "      <th>TO</th>\n",
              "      <td>10.0</td>\n",
              "      <td>1.500000</td>\n",
              "      <td>1.269296</td>\n",
              "      <td>1.0</td>\n",
              "      <td>1.00</td>\n",
              "      <td>1.0</td>\n",
              "      <td>1.00</td>\n",
              "      <td>5.0</td>\n",
              "    </tr>\n",
              "    <tr>\n",
              "      <th>TR</th>\n",
              "      <td>0.0</td>\n",
              "      <td>NaN</td>\n",
              "      <td>NaN</td>\n",
              "      <td>NaN</td>\n",
              "      <td>NaN</td>\n",
              "      <td>NaN</td>\n",
              "      <td>NaN</td>\n",
              "      <td>NaN</td>\n",
              "    </tr>\n",
              "    <tr>\n",
              "      <th>TT</th>\n",
              "      <td>14.0</td>\n",
              "      <td>8.214286</td>\n",
              "      <td>7.566918</td>\n",
              "      <td>0.0</td>\n",
              "      <td>4.25</td>\n",
              "      <td>7.0</td>\n",
              "      <td>8.50</td>\n",
              "      <td>27.0</td>\n",
              "    </tr>\n",
              "    <tr>\n",
              "      <th>TV</th>\n",
              "      <td>0.0</td>\n",
              "      <td>NaN</td>\n",
              "      <td>NaN</td>\n",
              "      <td>NaN</td>\n",
              "      <td>NaN</td>\n",
              "      <td>NaN</td>\n",
              "      <td>NaN</td>\n",
              "      <td>NaN</td>\n",
              "    </tr>\n",
              "    <tr>\n",
              "      <th>TZ</th>\n",
              "      <td>14.0</td>\n",
              "      <td>1717.071429</td>\n",
              "      <td>1414.992115</td>\n",
              "      <td>200.0</td>\n",
              "      <td>579.00</td>\n",
              "      <td>1470.0</td>\n",
              "      <td>2294.25</td>\n",
              "      <td>4836.0</td>\n",
              "    </tr>\n",
              "    <tr>\n",
              "      <th>UA</th>\n",
              "      <td>14.0</td>\n",
              "      <td>767.000000</td>\n",
              "      <td>726.826717</td>\n",
              "      <td>21.0</td>\n",
              "      <td>324.75</td>\n",
              "      <td>509.5</td>\n",
              "      <td>969.75</td>\n",
              "      <td>2385.0</td>\n",
              "    </tr>\n",
              "    <tr>\n",
              "      <th>UG</th>\n",
              "      <td>14.0</td>\n",
              "      <td>1253.000000</td>\n",
              "      <td>1052.226211</td>\n",
              "      <td>163.0</td>\n",
              "      <td>396.25</td>\n",
              "      <td>975.0</td>\n",
              "      <td>1614.50</td>\n",
              "      <td>3497.0</td>\n",
              "    </tr>\n",
              "    <tr>\n",
              "      <th>US</th>\n",
              "      <td>14.0</td>\n",
              "      <td>420.285714</td>\n",
              "      <td>291.698851</td>\n",
              "      <td>6.0</td>\n",
              "      <td>247.75</td>\n",
              "      <td>370.5</td>\n",
              "      <td>595.75</td>\n",
              "      <td>906.0</td>\n",
              "    </tr>\n",
              "    <tr>\n",
              "      <th>UY</th>\n",
              "      <td>14.0</td>\n",
              "      <td>24.857143</td>\n",
              "      <td>15.175168</td>\n",
              "      <td>0.0</td>\n",
              "      <td>13.75</td>\n",
              "      <td>25.0</td>\n",
              "      <td>35.50</td>\n",
              "      <td>48.0</td>\n",
              "    </tr>\n",
              "    <tr>\n",
              "      <th>UZ</th>\n",
              "      <td>14.0</td>\n",
              "      <td>273.214286</td>\n",
              "      <td>214.199109</td>\n",
              "      <td>6.0</td>\n",
              "      <td>111.25</td>\n",
              "      <td>237.0</td>\n",
              "      <td>349.75</td>\n",
              "      <td>749.0</td>\n",
              "    </tr>\n",
              "    <tr>\n",
              "      <th>VC</th>\n",
              "      <td>14.0</td>\n",
              "      <td>0.642857</td>\n",
              "      <td>1.150728</td>\n",
              "      <td>0.0</td>\n",
              "      <td>0.00</td>\n",
              "      <td>0.0</td>\n",
              "      <td>1.00</td>\n",
              "      <td>4.0</td>\n",
              "    </tr>\n",
              "    <tr>\n",
              "      <th>VE</th>\n",
              "      <td>0.0</td>\n",
              "      <td>NaN</td>\n",
              "      <td>NaN</td>\n",
              "      <td>NaN</td>\n",
              "      <td>NaN</td>\n",
              "      <td>NaN</td>\n",
              "      <td>NaN</td>\n",
              "      <td>NaN</td>\n",
              "    </tr>\n",
              "    <tr>\n",
              "      <th>VG</th>\n",
              "      <td>1.0</td>\n",
              "      <td>1.000000</td>\n",
              "      <td>NaN</td>\n",
              "      <td>1.0</td>\n",
              "      <td>1.00</td>\n",
              "      <td>1.0</td>\n",
              "      <td>1.00</td>\n",
              "      <td>1.0</td>\n",
              "    </tr>\n",
              "    <tr>\n",
              "      <th>VN</th>\n",
              "      <td>14.0</td>\n",
              "      <td>3797.785714</td>\n",
              "      <td>2682.986086</td>\n",
              "      <td>51.0</td>\n",
              "      <td>2331.75</td>\n",
              "      <td>2800.5</td>\n",
              "      <td>5897.75</td>\n",
              "      <td>8209.0</td>\n",
              "    </tr>\n",
              "    <tr>\n",
              "      <th>VU</th>\n",
              "      <td>14.0</td>\n",
              "      <td>4.928571</td>\n",
              "      <td>3.872274</td>\n",
              "      <td>1.0</td>\n",
              "      <td>2.25</td>\n",
              "      <td>4.0</td>\n",
              "      <td>6.50</td>\n",
              "      <td>15.0</td>\n",
              "    </tr>\n",
              "    <tr>\n",
              "      <th>WS</th>\n",
              "      <td>14.0</td>\n",
              "      <td>0.928571</td>\n",
              "      <td>0.916875</td>\n",
              "      <td>0.0</td>\n",
              "      <td>0.00</td>\n",
              "      <td>1.0</td>\n",
              "      <td>1.00</td>\n",
              "      <td>3.0</td>\n",
              "    </tr>\n",
              "    <tr>\n",
              "      <th>YE</th>\n",
              "      <td>14.0</td>\n",
              "      <td>397.500000</td>\n",
              "      <td>253.178487</td>\n",
              "      <td>92.0</td>\n",
              "      <td>182.50</td>\n",
              "      <td>329.5</td>\n",
              "      <td>599.50</td>\n",
              "      <td>799.0</td>\n",
              "    </tr>\n",
              "    <tr>\n",
              "      <th>YU</th>\n",
              "      <td>0.0</td>\n",
              "      <td>NaN</td>\n",
              "      <td>NaN</td>\n",
              "      <td>NaN</td>\n",
              "      <td>NaN</td>\n",
              "      <td>NaN</td>\n",
              "      <td>NaN</td>\n",
              "      <td>NaN</td>\n",
              "    </tr>\n",
              "    <tr>\n",
              "      <th>ZA</th>\n",
              "      <td>14.0</td>\n",
              "      <td>820.714286</td>\n",
              "      <td>728.392585</td>\n",
              "      <td>80.0</td>\n",
              "      <td>178.25</td>\n",
              "      <td>579.0</td>\n",
              "      <td>1248.75</td>\n",
              "      <td>2135.0</td>\n",
              "    </tr>\n",
              "    <tr>\n",
              "      <th>ZM</th>\n",
              "      <td>14.0</td>\n",
              "      <td>923.357143</td>\n",
              "      <td>1007.081588</td>\n",
              "      <td>75.0</td>\n",
              "      <td>177.00</td>\n",
              "      <td>392.0</td>\n",
              "      <td>1258.25</td>\n",
              "      <td>3045.0</td>\n",
              "    </tr>\n",
              "    <tr>\n",
              "      <th>ZW</th>\n",
              "      <td>0.0</td>\n",
              "      <td>NaN</td>\n",
              "      <td>NaN</td>\n",
              "      <td>NaN</td>\n",
              "      <td>NaN</td>\n",
              "      <td>NaN</td>\n",
              "      <td>NaN</td>\n",
              "      <td>NaN</td>\n",
              "    </tr>\n",
              "  </tbody>\n",
              "</table>\n",
              "<p>200 rows × 8 columns</p>\n",
              "</div>"
            ],
            "text/plain": [
              "         count         mean          std     min      25%     50%      75%  \\\n",
              "country                                                                      \n",
              "AD         7.0     0.142857     0.377964     0.0     0.00     0.0     0.00   \n",
              "AE        14.0     5.000000     4.657500     0.0     2.25     4.0     5.75   \n",
              "AF        14.0   190.428571   152.387519    36.0    93.25   139.0   222.25   \n",
              "AG        14.0     0.285714     0.468807     0.0     0.00     0.0     0.75   \n",
              "AL        14.0    12.214286     6.852047     2.0     8.00    11.0    18.25   \n",
              "AM        14.0    44.357143    53.158120     1.0     8.00    24.0    54.00   \n",
              "AN        14.0     0.357143     0.633324     0.0     0.00     0.0     0.75   \n",
              "AO        14.0   582.071429   391.293017   120.0   211.75   449.5   977.25   \n",
              "AR        14.0   322.785714   152.569872    97.0   219.50   304.0   414.75   \n",
              "AS         3.0     1.000000     0.000000     1.0     1.00     1.0     1.00   \n",
              "AT        14.0    21.285714    16.854256     1.0    11.00    19.5    28.25   \n",
              "AU        14.0    17.928571    12.797021     0.0    12.50    15.5    22.75   \n",
              "AZ        14.0    10.928571    14.678421     0.0     0.00     3.0    20.25   \n",
              "BA        14.0    53.714286    34.336409     4.0    29.25    52.0    74.25   \n",
              "BB        14.0     0.214286     0.578934     0.0     0.00     0.0     0.00   \n",
              "BD        14.0  2713.071429  1888.230815   256.0   912.25  2933.0  3660.25   \n",
              "BE        14.0    25.785714    19.248091     3.0    13.50    19.5    37.25   \n",
              "BF        14.0    91.928571    82.746568     7.0    39.75    66.5   121.25   \n",
              "BG        14.0     8.285714     6.081859     0.0     3.25     8.0    12.50   \n",
              "BH        14.0     1.642857     1.598420     0.0     0.25     1.0     2.75   \n",
              "BI         0.0          NaN          NaN     NaN      NaN     NaN      NaN   \n",
              "BJ        14.0   163.285714   130.104945    19.0    52.25   126.0   266.00   \n",
              "BM         0.0          NaN          NaN     NaN      NaN     NaN      NaN   \n",
              "BN        14.0     6.000000     4.523443     0.0     4.00     5.5     6.75   \n",
              "BO        14.0   461.285714   298.193646   166.0   238.25   353.0   570.50   \n",
              "BR        14.0  5749.142857  3330.074932  1859.0  2767.50  5240.0  7254.75   \n",
              "BS        14.0     4.000000     2.717465     1.0     2.00     3.0     6.50   \n",
              "BT        14.0    24.071429    20.401600     2.0     6.25    23.5    33.25   \n",
              "BW        14.0   221.071429   190.117561    25.0    66.75   160.0   318.00   \n",
              "BY         0.0          NaN          NaN     NaN      NaN     NaN      NaN   \n",
              "...        ...          ...          ...     ...      ...     ...      ...   \n",
              "SY        14.0   105.857143   104.996599     8.0    40.00    65.5   119.00   \n",
              "SZ        14.0   113.785714   117.265103     5.0    18.75    62.0   183.00   \n",
              "TC         0.0          NaN          NaN     NaN      NaN     NaN      NaN   \n",
              "TG        14.0    70.142857    53.775684     4.0    27.00    49.0   108.50   \n",
              "TH        14.0  1268.214286   837.566914    27.0   799.75  1025.5  2064.75   \n",
              "TJ         0.0          NaN          NaN     NaN      NaN     NaN      NaN   \n",
              "TK         0.0          NaN          NaN     NaN      NaN     NaN      NaN   \n",
              "TM        14.0    72.642857    57.479906    16.0    23.50    53.5   121.00   \n",
              "TN        14.0    76.500000    59.356485     7.0    26.50    62.0   107.00   \n",
              "TO        10.0     1.500000     1.269296     1.0     1.00     1.0     1.00   \n",
              "TR         0.0          NaN          NaN     NaN      NaN     NaN      NaN   \n",
              "TT        14.0     8.214286     7.566918     0.0     4.25     7.0     8.50   \n",
              "TV         0.0          NaN          NaN     NaN      NaN     NaN      NaN   \n",
              "TZ        14.0  1717.071429  1414.992115   200.0   579.00  1470.0  2294.25   \n",
              "UA        14.0   767.000000   726.826717    21.0   324.75   509.5   969.75   \n",
              "UG        14.0  1253.000000  1052.226211   163.0   396.25   975.0  1614.50   \n",
              "US        14.0   420.285714   291.698851     6.0   247.75   370.5   595.75   \n",
              "UY        14.0    24.857143    15.175168     0.0    13.75    25.0    35.50   \n",
              "UZ        14.0   273.214286   214.199109     6.0   111.25   237.0   349.75   \n",
              "VC        14.0     0.642857     1.150728     0.0     0.00     0.0     1.00   \n",
              "VE         0.0          NaN          NaN     NaN      NaN     NaN      NaN   \n",
              "VG         1.0     1.000000          NaN     1.0     1.00     1.0     1.00   \n",
              "VN        14.0  3797.785714  2682.986086    51.0  2331.75  2800.5  5897.75   \n",
              "VU        14.0     4.928571     3.872274     1.0     2.25     4.0     6.50   \n",
              "WS        14.0     0.928571     0.916875     0.0     0.00     1.0     1.00   \n",
              "YE        14.0   397.500000   253.178487    92.0   182.50   329.5   599.50   \n",
              "YU         0.0          NaN          NaN     NaN      NaN     NaN      NaN   \n",
              "ZA        14.0   820.714286   728.392585    80.0   178.25   579.0  1248.75   \n",
              "ZM        14.0   923.357143  1007.081588    75.0   177.00   392.0  1258.25   \n",
              "ZW         0.0          NaN          NaN     NaN      NaN     NaN      NaN   \n",
              "\n",
              "             max  \n",
              "country           \n",
              "AD           1.0  \n",
              "AE          16.0  \n",
              "AF         565.0  \n",
              "AG           1.0  \n",
              "AL          24.0  \n",
              "AM         152.0  \n",
              "AN           2.0  \n",
              "AO        1142.0  \n",
              "AR         594.0  \n",
              "AS           1.0  \n",
              "AT          59.0  \n",
              "AU          49.0  \n",
              "AZ          42.0  \n",
              "BA         124.0  \n",
              "BB           2.0  \n",
              "BD        5750.0  \n",
              "BE          57.0  \n",
              "BF         274.0  \n",
              "BG          20.0  \n",
              "BH           5.0  \n",
              "BI           NaN  \n",
              "BJ         428.0  \n",
              "BM           NaN  \n",
              "BN          15.0  \n",
              "BO        1182.0  \n",
              "BR       11906.0  \n",
              "BS           9.0  \n",
              "BT          65.0  \n",
              "BW         605.0  \n",
              "BY           NaN  \n",
              "...          ...  \n",
              "SY         359.0  \n",
              "SZ         352.0  \n",
              "TC           NaN  \n",
              "TG         168.0  \n",
              "TH        2570.0  \n",
              "TJ           NaN  \n",
              "TK           NaN  \n",
              "TM         185.0  \n",
              "TN         208.0  \n",
              "TO           5.0  \n",
              "TR           NaN  \n",
              "TT          27.0  \n",
              "TV           NaN  \n",
              "TZ        4836.0  \n",
              "UA        2385.0  \n",
              "UG        3497.0  \n",
              "US         906.0  \n",
              "UY          48.0  \n",
              "UZ         749.0  \n",
              "VC           4.0  \n",
              "VE           NaN  \n",
              "VG           1.0  \n",
              "VN        8209.0  \n",
              "VU          15.0  \n",
              "WS           3.0  \n",
              "YE         799.0  \n",
              "YU           NaN  \n",
              "ZA        2135.0  \n",
              "ZM        3045.0  \n",
              "ZW           NaN  \n",
              "\n",
              "[200 rows x 8 columns]"
            ]
          },
          "metadata": {
            "tags": []
          },
          "execution_count": 95
        }
      ]
    },
    {
      "metadata": {
        "id": "98xM5h3C9Tb5",
        "colab_type": "text"
      },
      "cell_type": "markdown",
      "source": [
        "### Data visualization"
      ]
    },
    {
      "metadata": {
        "id": "yWE-U29Y9X4_",
        "colab_type": "text"
      },
      "cell_type": "markdown",
      "source": [
        "Boxplots are great when you have a numeric column that you want to compare across different categories. When you want to visualize two numeric columns, scatter plots are ideal."
      ]
    },
    {
      "metadata": {
        "id": "Bz7X--KgRgYO",
        "colab_type": "code",
        "outputId": "ece38b87-02cf-4e82-abfc-121694b7a0a8",
        "colab": {
          "base_uri": "https://localhost:8080/",
          "height": 257
        }
      },
      "cell_type": "code",
      "source": [
        "mean_cases = tb_melt.groupby(['age_group'], as_index=False)['value'].mean()\n",
        "mean_cases "
      ],
      "execution_count": 0,
      "outputs": [
        {
          "output_type": "execute_result",
          "data": {
            "text/html": [
              "<div>\n",
              "<style scoped>\n",
              "    .dataframe tbody tr th:only-of-type {\n",
              "        vertical-align: middle;\n",
              "    }\n",
              "\n",
              "    .dataframe tbody tr th {\n",
              "        vertical-align: top;\n",
              "    }\n",
              "\n",
              "    .dataframe thead th {\n",
              "        text-align: right;\n",
              "    }\n",
              "</style>\n",
              "<table border=\"1\" class=\"dataframe\">\n",
              "  <thead>\n",
              "    <tr style=\"text-align: right;\">\n",
              "      <th></th>\n",
              "      <th>age_group</th>\n",
              "      <th>value</th>\n",
              "    </tr>\n",
              "  </thead>\n",
              "  <tbody>\n",
              "    <tr>\n",
              "      <th>0</th>\n",
              "      <td>0-14</td>\n",
              "      <td>84.270186</td>\n",
              "    </tr>\n",
              "    <tr>\n",
              "      <th>1</th>\n",
              "      <td>15-24</td>\n",
              "      <td>649.811146</td>\n",
              "    </tr>\n",
              "    <tr>\n",
              "      <th>2</th>\n",
              "      <td>25-34</td>\n",
              "      <td>868.726994</td>\n",
              "    </tr>\n",
              "    <tr>\n",
              "      <th>3</th>\n",
              "      <td>35-44</td>\n",
              "      <td>712.885802</td>\n",
              "    </tr>\n",
              "    <tr>\n",
              "      <th>4</th>\n",
              "      <td>45-54</td>\n",
              "      <td>524.849693</td>\n",
              "    </tr>\n",
              "    <tr>\n",
              "      <th>5</th>\n",
              "      <td>55-64</td>\n",
              "      <td>355.304878</td>\n",
              "    </tr>\n",
              "    <tr>\n",
              "      <th>6</th>\n",
              "      <td>65+</td>\n",
              "      <td>336.339506</td>\n",
              "    </tr>\n",
              "  </tbody>\n",
              "</table>\n",
              "</div>"
            ],
            "text/plain": [
              "  age_group       value\n",
              "0      0-14   84.270186\n",
              "1     15-24  649.811146\n",
              "2     25-34  868.726994\n",
              "3     35-44  712.885802\n",
              "4     45-54  524.849693\n",
              "5     55-64  355.304878\n",
              "6       65+  336.339506"
            ]
          },
          "metadata": {
            "tags": []
          },
          "execution_count": 96
        }
      ]
    },
    {
      "metadata": {
        "id": "ATNwGnW9niY_",
        "colab_type": "code",
        "colab": {}
      },
      "cell_type": "code",
      "source": [
        "import matplotlib.pyplot as plt"
      ],
      "execution_count": 0,
      "outputs": []
    },
    {
      "metadata": {
        "id": "p53tmyyS9R3H",
        "colab_type": "code",
        "outputId": "06e29c72-47ee-40de-dd5e-5850f3d1be16",
        "colab": {
          "base_uri": "https://localhost:8080/",
          "height": 375
        }
      },
      "cell_type": "code",
      "source": [
        "plt.bar(mean_cases.age_group, mean_cases.value)\n",
        "plt.xlabel('Age group')\n",
        "plt.ylabel('Mean cases count')\n",
        "plt.title('Tuberculosis mean cases count by age group')\n",
        "plt.show()"
      ],
      "execution_count": 0,
      "outputs": [
        {
          "output_type": "display_data",
          "data": {
            "image/png": "[encoded data removed]",
            "text/plain": [
              "<Figure size 576x396 with 1 Axes>"
            ]
          },
          "metadata": {
            "tags": []
          }
        }
      ]
    },
    {
      "metadata": {
        "id": "KBEhiP9ax5NV",
        "colab_type": "text"
      },
      "cell_type": "markdown",
      "source": [
        "## Dataset 2 - Titanic disaster "
      ]
    },
    {
      "metadata": {
        "id": "tt2pS15fxzx7",
        "colab_type": "text"
      },
      "cell_type": "markdown",
      "source": [
        "#### **Import libraries**"
      ]
    },
    {
      "metadata": {
        "id": "mnDOcNUheikQ",
        "colab_type": "text"
      },
      "cell_type": "markdown",
      "source": [
        "**We need to install seaborn library in 0.9.0 version**\n",
        "\n",
        "\n",
        "1.   Uninstall library\n",
        "2.   Install new version \n",
        "3.   Restart runtime (ctrl + M)\n",
        "4.   Import all libraries\n",
        "5.   Check seaborn version\n",
        "\n"
      ]
    },
    {
      "metadata": {
        "id": "SBloe_NcSbPL",
        "colab_type": "code",
        "outputId": "c497a98d-0b1a-4c89-eff7-ddeb48cfe356",
        "colab": {
          "base_uri": "https://localhost:8080/",
          "height": 116
        }
      },
      "cell_type": "code",
      "source": [
        "!pip3 uninstall seaborn"
      ],
      "execution_count": 0,
      "outputs": [
        {
          "output_type": "stream",
          "text": [
            "Uninstalling seaborn-0.7.1:\n",
            "  Would remove:\n",
            "    /usr/local/lib/python3.6/dist-packages/seaborn-0.7.1-py3.6.egg-info\n",
            "    /usr/local/lib/python3.6/dist-packages/seaborn/*\n",
            "Proceed (y/n)? y\n",
            "  Successfully uninstalled seaborn-0.7.1\n"
          ],
          "name": "stdout"
        }
      ]
    },
    {
      "metadata": {
        "id": "mHh3ZOPSShH2",
        "colab_type": "code",
        "outputId": "966b43bf-39e6-4a33-f350-e5531f8ebdb0",
        "colab": {
          "base_uri": "https://localhost:8080/",
          "height": 303
        }
      },
      "cell_type": "code",
      "source": [
        "!pip3 --no-cache-dir install -U seaborn"
      ],
      "execution_count": 0,
      "outputs": [
        {
          "output_type": "stream",
          "text": [
            "Collecting seaborn\n",
            "\u001b[?25l  Downloading https://files.pythonhosted.org/packages/a8/76/220ba4420459d9c4c9c9587c6ce607bf56c25b3d3d2de62056efe482dadc/seaborn-0.9.0-py3-none-any.whl (208kB)\n",
            "\u001b[K    100% |████████████████████████████████| 215kB 59.1MB/s \n",
            "\u001b[?25hRequirement already satisfied, skipping upgrade: matplotlib>=1.4.3 in /usr/local/lib/python3.6/dist-packages (from seaborn) (3.0.3)\n",
            "Requirement already satisfied, skipping upgrade: numpy>=1.9.3 in /usr/local/lib/python3.6/dist-packages (from seaborn) (1.14.6)\n",
            "Requirement already satisfied, skipping upgrade: scipy>=0.14.0 in /usr/local/lib/python3.6/dist-packages (from seaborn) (1.1.0)\n",
            "Requirement already satisfied, skipping upgrade: pandas>=0.15.2 in /usr/local/lib/python3.6/dist-packages (from seaborn) (0.22.0)\n",
            "Requirement already satisfied, skipping upgrade: pyparsing!=2.0.4,!=2.1.2,!=2.1.6,>=2.0.1 in /usr/local/lib/python3.6/dist-packages (from matplotlib>=1.4.3->seaborn) (2.3.1)\n",
            "Requirement already satisfied, skipping upgrade: cycler>=0.10 in /usr/local/lib/python3.6/dist-packages (from matplotlib>=1.4.3->seaborn) (0.10.0)\n",
            "Requirement already satisfied, skipping upgrade: kiwisolver>=1.0.1 in /usr/local/lib/python3.6/dist-packages (from matplotlib>=1.4.3->seaborn) (1.0.1)\n",
            "Requirement already satisfied, skipping upgrade: python-dateutil>=2.1 in /usr/local/lib/python3.6/dist-packages (from matplotlib>=1.4.3->seaborn) (2.5.3)\n",
            "Requirement already satisfied, skipping upgrade: pytz>=2011k in /usr/local/lib/python3.6/dist-packages (from pandas>=0.15.2->seaborn) (2018.9)\n",
            "Requirement already satisfied, skipping upgrade: six in /usr/local/lib/python3.6/dist-packages (from cycler>=0.10->matplotlib>=1.4.3->seaborn) (1.11.0)\n",
            "Requirement already satisfied, skipping upgrade: setuptools in /usr/local/lib/python3.6/dist-packages (from kiwisolver>=1.0.1->matplotlib>=1.4.3->seaborn) (40.8.0)\n",
            "Installing collected packages: seaborn\n",
            "Successfully installed seaborn-0.9.0\n"
          ],
          "name": "stdout"
        }
      ]
    },
    {
      "metadata": {
        "id": "aBhIVsSwpAkR",
        "colab_type": "code",
        "colab": {}
      },
      "cell_type": "code",
      "source": [
        "import pandas as pd \n",
        "import numpy as np\n",
        "import matplotlib.pyplot as plt\n",
        "\n",
        "pd.set_option('display.width', 900)\n",
        "\n",
        "import seaborn as sns\n",
        "sns.set()"
      ],
      "execution_count": 0,
      "outputs": []
    },
    {
      "metadata": {
        "id": "mQm0dQukSnTd",
        "colab_type": "code",
        "outputId": "e805ba03-e080-416f-d31b-b43596580b0e",
        "colab": {
          "base_uri": "https://localhost:8080/",
          "height": 33
        }
      },
      "cell_type": "code",
      "source": [
        "sns.__version__"
      ],
      "execution_count": 0,
      "outputs": [
        {
          "output_type": "execute_result",
          "data": {
            "text/plain": [
              "'0.9.0'"
            ]
          },
          "metadata": {
            "tags": []
          },
          "execution_count": 2
        }
      ]
    },
    {
      "metadata": {
        "id": "CAe_T8otxw79",
        "colab_type": "text"
      },
      "cell_type": "markdown",
      "source": [
        "### **Import and inspect the data**"
      ]
    },
    {
      "metadata": {
        "id": "L11celwxxuFM",
        "colab_type": "code",
        "colab": {}
      },
      "cell_type": "code",
      "source": [
        "df = pd.read_csv('https://raw.githubusercontent.com/pcsanwald/kaggle-titanic/master/train.csv')"
      ],
      "execution_count": 0,
      "outputs": []
    },
    {
      "metadata": {
        "id": "iBvL3l9dLcV_",
        "colab_type": "text"
      },
      "cell_type": "markdown",
      "source": [
        "**pclass:** A proxy for socio-economic status (SES)\n",
        "1st = Upper\n",
        "2nd = Middle\n",
        "3rd = Lower\n",
        "\n",
        "**age:** Age is fractional if less than 1. If the age is estimated, is it in the form of xx.5\n",
        "\n",
        "**sibsp:** The dataset defines family relations in this way...\n",
        "Sibling = brother, sister, stepbrother, stepsister\n",
        "Spouse = husband, wife (mistresses and fiancés were ignored)\n",
        "\n",
        "**parch:** The dataset defines family relations in this way...\n",
        "Parent = mother, father\n",
        "Child = daughter, son, stepdaughter, stepson\n",
        "Some children travelled only with a nanny, therefore parch=0 for them."
      ]
    },
    {
      "metadata": {
        "id": "rXNh62eWpq7O",
        "colab_type": "code",
        "outputId": "ac934af6-3b83-4a5d-841c-dbe695c689d8",
        "colab": {
          "base_uri": "https://localhost:8080/",
          "height": 397
        }
      },
      "cell_type": "code",
      "source": [
        "df.head(n=10)"
      ],
      "execution_count": 0,
      "outputs": [
        {
          "output_type": "execute_result",
          "data": {
            "text/html": [
              "<div>\n",
              "<style scoped>\n",
              "    .dataframe tbody tr th:only-of-type {\n",
              "        vertical-align: middle;\n",
              "    }\n",
              "\n",
              "    .dataframe tbody tr th {\n",
              "        vertical-align: top;\n",
              "    }\n",
              "\n",
              "    .dataframe thead th {\n",
              "        text-align: right;\n",
              "    }\n",
              "</style>\n",
              "<table border=\"1\" class=\"dataframe\">\n",
              "  <thead>\n",
              "    <tr style=\"text-align: right;\">\n",
              "      <th></th>\n",
              "      <th>survived</th>\n",
              "      <th>pclass</th>\n",
              "      <th>name</th>\n",
              "      <th>sex</th>\n",
              "      <th>age</th>\n",
              "      <th>sibsp</th>\n",
              "      <th>parch</th>\n",
              "      <th>ticket</th>\n",
              "      <th>fare</th>\n",
              "      <th>cabin</th>\n",
              "      <th>embarked</th>\n",
              "    </tr>\n",
              "  </thead>\n",
              "  <tbody>\n",
              "    <tr>\n",
              "      <th>0</th>\n",
              "      <td>0</td>\n",
              "      <td>3</td>\n",
              "      <td>Braund, Mr. Owen Harris</td>\n",
              "      <td>male</td>\n",
              "      <td>22.0</td>\n",
              "      <td>1</td>\n",
              "      <td>0</td>\n",
              "      <td>A/5 21171</td>\n",
              "      <td>7.2500</td>\n",
              "      <td>NaN</td>\n",
              "      <td>S</td>\n",
              "    </tr>\n",
              "    <tr>\n",
              "      <th>1</th>\n",
              "      <td>1</td>\n",
              "      <td>1</td>\n",
              "      <td>Cumings, Mrs. John Bradley (Florence Briggs Th...</td>\n",
              "      <td>female</td>\n",
              "      <td>38.0</td>\n",
              "      <td>1</td>\n",
              "      <td>0</td>\n",
              "      <td>PC 17599</td>\n",
              "      <td>71.2833</td>\n",
              "      <td>C85</td>\n",
              "      <td>C</td>\n",
              "    </tr>\n",
              "    <tr>\n",
              "      <th>2</th>\n",
              "      <td>1</td>\n",
              "      <td>3</td>\n",
              "      <td>Heikkinen, Miss. Laina</td>\n",
              "      <td>female</td>\n",
              "      <td>26.0</td>\n",
              "      <td>0</td>\n",
              "      <td>0</td>\n",
              "      <td>STON/O2. 3101282</td>\n",
              "      <td>7.9250</td>\n",
              "      <td>NaN</td>\n",
              "      <td>S</td>\n",
              "    </tr>\n",
              "    <tr>\n",
              "      <th>3</th>\n",
              "      <td>1</td>\n",
              "      <td>1</td>\n",
              "      <td>Futrelle, Mrs. Jacques Heath (Lily May Peel)</td>\n",
              "      <td>female</td>\n",
              "      <td>35.0</td>\n",
              "      <td>1</td>\n",
              "      <td>0</td>\n",
              "      <td>113803</td>\n",
              "      <td>53.1000</td>\n",
              "      <td>C123</td>\n",
              "      <td>S</td>\n",
              "    </tr>\n",
              "    <tr>\n",
              "      <th>4</th>\n",
              "      <td>0</td>\n",
              "      <td>3</td>\n",
              "      <td>Allen, Mr. William Henry</td>\n",
              "      <td>male</td>\n",
              "      <td>35.0</td>\n",
              "      <td>0</td>\n",
              "      <td>0</td>\n",
              "      <td>373450</td>\n",
              "      <td>8.0500</td>\n",
              "      <td>NaN</td>\n",
              "      <td>S</td>\n",
              "    </tr>\n",
              "    <tr>\n",
              "      <th>5</th>\n",
              "      <td>0</td>\n",
              "      <td>3</td>\n",
              "      <td>Moran, Mr. James</td>\n",
              "      <td>male</td>\n",
              "      <td>NaN</td>\n",
              "      <td>0</td>\n",
              "      <td>0</td>\n",
              "      <td>330877</td>\n",
              "      <td>8.4583</td>\n",
              "      <td>NaN</td>\n",
              "      <td>Q</td>\n",
              "    </tr>\n",
              "    <tr>\n",
              "      <th>6</th>\n",
              "      <td>0</td>\n",
              "      <td>1</td>\n",
              "      <td>McCarthy, Mr. Timothy J</td>\n",
              "      <td>male</td>\n",
              "      <td>54.0</td>\n",
              "      <td>0</td>\n",
              "      <td>0</td>\n",
              "      <td>17463</td>\n",
              "      <td>51.8625</td>\n",
              "      <td>E46</td>\n",
              "      <td>S</td>\n",
              "    </tr>\n",
              "    <tr>\n",
              "      <th>7</th>\n",
              "      <td>0</td>\n",
              "      <td>3</td>\n",
              "      <td>Palsson, Master. Gosta Leonard</td>\n",
              "      <td>male</td>\n",
              "      <td>2.0</td>\n",
              "      <td>3</td>\n",
              "      <td>1</td>\n",
              "      <td>349909</td>\n",
              "      <td>21.0750</td>\n",
              "      <td>NaN</td>\n",
              "      <td>S</td>\n",
              "    </tr>\n",
              "    <tr>\n",
              "      <th>8</th>\n",
              "      <td>1</td>\n",
              "      <td>3</td>\n",
              "      <td>Johnson, Mrs. Oscar W (Elisabeth Vilhelmina Berg)</td>\n",
              "      <td>female</td>\n",
              "      <td>27.0</td>\n",
              "      <td>0</td>\n",
              "      <td>2</td>\n",
              "      <td>347742</td>\n",
              "      <td>11.1333</td>\n",
              "      <td>NaN</td>\n",
              "      <td>S</td>\n",
              "    </tr>\n",
              "    <tr>\n",
              "      <th>9</th>\n",
              "      <td>1</td>\n",
              "      <td>2</td>\n",
              "      <td>Nasser, Mrs. Nicholas (Adele Achem)</td>\n",
              "      <td>female</td>\n",
              "      <td>14.0</td>\n",
              "      <td>1</td>\n",
              "      <td>0</td>\n",
              "      <td>237736</td>\n",
              "      <td>30.0708</td>\n",
              "      <td>NaN</td>\n",
              "      <td>C</td>\n",
              "    </tr>\n",
              "  </tbody>\n",
              "</table>\n",
              "</div>"
            ],
            "text/plain": [
              "   survived  pclass                                               name     sex   age  sibsp  parch            ticket     fare cabin embarked\n",
              "0         0       3                            Braund, Mr. Owen Harris    male  22.0      1      0         A/5 21171   7.2500   NaN        S\n",
              "1         1       1  Cumings, Mrs. John Bradley (Florence Briggs Th...  female  38.0      1      0          PC 17599  71.2833   C85        C\n",
              "2         1       3                             Heikkinen, Miss. Laina  female  26.0      0      0  STON/O2. 3101282   7.9250   NaN        S\n",
              "3         1       1       Futrelle, Mrs. Jacques Heath (Lily May Peel)  female  35.0      1      0            113803  53.1000  C123        S\n",
              "4         0       3                           Allen, Mr. William Henry    male  35.0      0      0            373450   8.0500   NaN        S\n",
              "5         0       3                                   Moran, Mr. James    male   NaN      0      0            330877   8.4583   NaN        Q\n",
              "6         0       1                            McCarthy, Mr. Timothy J    male  54.0      0      0             17463  51.8625   E46        S\n",
              "7         0       3                     Palsson, Master. Gosta Leonard    male   2.0      3      1            349909  21.0750   NaN        S\n",
              "8         1       3  Johnson, Mrs. Oscar W (Elisabeth Vilhelmina Berg)  female  27.0      0      2            347742  11.1333   NaN        S\n",
              "9         1       2                Nasser, Mrs. Nicholas (Adele Achem)  female  14.0      1      0            237736  30.0708   NaN        C"
            ]
          },
          "metadata": {
            "tags": []
          },
          "execution_count": 4
        }
      ]
    },
    {
      "metadata": {
        "id": "q_zIovvkpzwk",
        "colab_type": "code",
        "outputId": "126873b2-fc14-415e-b204-9b352169dbf2",
        "colab": {
          "base_uri": "https://localhost:8080/",
          "height": 33
        }
      },
      "cell_type": "code",
      "source": [
        "df.shape"
      ],
      "execution_count": 0,
      "outputs": [
        {
          "output_type": "execute_result",
          "data": {
            "text/plain": [
              "(891, 11)"
            ]
          },
          "metadata": {
            "tags": []
          },
          "execution_count": 5
        }
      ]
    },
    {
      "metadata": {
        "id": "FI6fELLkqKuV",
        "colab_type": "code",
        "outputId": "6c7e9896-6c4f-4204-8a6f-957a9ab7b962",
        "colab": {
          "base_uri": "https://localhost:8080/",
          "height": 33
        }
      },
      "cell_type": "code",
      "source": [
        "df.columns"
      ],
      "execution_count": 0,
      "outputs": [
        {
          "output_type": "execute_result",
          "data": {
            "text/plain": [
              "Index(['survived', 'pclass', 'name', 'sex', 'age', 'sibsp', 'parch', 'ticket', 'fare', 'cabin', 'embarked'], dtype='object')"
            ]
          },
          "metadata": {
            "tags": []
          },
          "execution_count": 6
        }
      ]
    },
    {
      "metadata": {
        "id": "MWA8Hg_0qRRN",
        "colab_type": "code",
        "outputId": "e6f7149a-7d3c-4ebd-8fd9-d4bd3ce80bf0",
        "colab": {
          "base_uri": "https://localhost:8080/",
          "height": 283
        }
      },
      "cell_type": "code",
      "source": [
        "df.info()"
      ],
      "execution_count": 0,
      "outputs": [
        {
          "output_type": "stream",
          "text": [
            "<class 'pandas.core.frame.DataFrame'>\n",
            "RangeIndex: 891 entries, 0 to 890\n",
            "Data columns (total 11 columns):\n",
            "survived    891 non-null int64\n",
            "pclass      891 non-null int64\n",
            "name        891 non-null object\n",
            "sex         891 non-null object\n",
            "age         714 non-null float64\n",
            "sibsp       891 non-null int64\n",
            "parch       891 non-null int64\n",
            "ticket      891 non-null object\n",
            "fare        891 non-null float64\n",
            "cabin       204 non-null object\n",
            "embarked    889 non-null object\n",
            "dtypes: float64(2), int64(4), object(5)\n",
            "memory usage: 76.6+ KB\n"
          ],
          "name": "stdout"
        }
      ]
    },
    {
      "metadata": {
        "id": "rBKxwBMXqW4F",
        "colab_type": "code",
        "outputId": "d14f1026-ab7b-4383-903e-363df0259794",
        "colab": {
          "base_uri": "https://localhost:8080/",
          "height": 287
        }
      },
      "cell_type": "code",
      "source": [
        "df.describe()"
      ],
      "execution_count": 0,
      "outputs": [
        {
          "output_type": "execute_result",
          "data": {
            "text/html": [
              "<div>\n",
              "<style scoped>\n",
              "    .dataframe tbody tr th:only-of-type {\n",
              "        vertical-align: middle;\n",
              "    }\n",
              "\n",
              "    .dataframe tbody tr th {\n",
              "        vertical-align: top;\n",
              "    }\n",
              "\n",
              "    .dataframe thead th {\n",
              "        text-align: right;\n",
              "    }\n",
              "</style>\n",
              "<table border=\"1\" class=\"dataframe\">\n",
              "  <thead>\n",
              "    <tr style=\"text-align: right;\">\n",
              "      <th></th>\n",
              "      <th>survived</th>\n",
              "      <th>pclass</th>\n",
              "      <th>age</th>\n",
              "      <th>sibsp</th>\n",
              "      <th>parch</th>\n",
              "      <th>fare</th>\n",
              "    </tr>\n",
              "  </thead>\n",
              "  <tbody>\n",
              "    <tr>\n",
              "      <th>count</th>\n",
              "      <td>891.000000</td>\n",
              "      <td>891.000000</td>\n",
              "      <td>714.000000</td>\n",
              "      <td>891.000000</td>\n",
              "      <td>891.000000</td>\n",
              "      <td>891.000000</td>\n",
              "    </tr>\n",
              "    <tr>\n",
              "      <th>mean</th>\n",
              "      <td>0.383838</td>\n",
              "      <td>2.308642</td>\n",
              "      <td>29.699118</td>\n",
              "      <td>0.523008</td>\n",
              "      <td>0.381594</td>\n",
              "      <td>32.204208</td>\n",
              "    </tr>\n",
              "    <tr>\n",
              "      <th>std</th>\n",
              "      <td>0.486592</td>\n",
              "      <td>0.836071</td>\n",
              "      <td>14.526497</td>\n",
              "      <td>1.102743</td>\n",
              "      <td>0.806057</td>\n",
              "      <td>49.693429</td>\n",
              "    </tr>\n",
              "    <tr>\n",
              "      <th>min</th>\n",
              "      <td>0.000000</td>\n",
              "      <td>1.000000</td>\n",
              "      <td>0.420000</td>\n",
              "      <td>0.000000</td>\n",
              "      <td>0.000000</td>\n",
              "      <td>0.000000</td>\n",
              "    </tr>\n",
              "    <tr>\n",
              "      <th>25%</th>\n",
              "      <td>0.000000</td>\n",
              "      <td>2.000000</td>\n",
              "      <td>20.125000</td>\n",
              "      <td>0.000000</td>\n",
              "      <td>0.000000</td>\n",
              "      <td>7.910400</td>\n",
              "    </tr>\n",
              "    <tr>\n",
              "      <th>50%</th>\n",
              "      <td>0.000000</td>\n",
              "      <td>3.000000</td>\n",
              "      <td>28.000000</td>\n",
              "      <td>0.000000</td>\n",
              "      <td>0.000000</td>\n",
              "      <td>14.454200</td>\n",
              "    </tr>\n",
              "    <tr>\n",
              "      <th>75%</th>\n",
              "      <td>1.000000</td>\n",
              "      <td>3.000000</td>\n",
              "      <td>38.000000</td>\n",
              "      <td>1.000000</td>\n",
              "      <td>0.000000</td>\n",
              "      <td>31.000000</td>\n",
              "    </tr>\n",
              "    <tr>\n",
              "      <th>max</th>\n",
              "      <td>1.000000</td>\n",
              "      <td>3.000000</td>\n",
              "      <td>80.000000</td>\n",
              "      <td>8.000000</td>\n",
              "      <td>6.000000</td>\n",
              "      <td>512.329200</td>\n",
              "    </tr>\n",
              "  </tbody>\n",
              "</table>\n",
              "</div>"
            ],
            "text/plain": [
              "         survived      pclass         age       sibsp       parch        fare\n",
              "count  891.000000  891.000000  714.000000  891.000000  891.000000  891.000000\n",
              "mean     0.383838    2.308642   29.699118    0.523008    0.381594   32.204208\n",
              "std      0.486592    0.836071   14.526497    1.102743    0.806057   49.693429\n",
              "min      0.000000    1.000000    0.420000    0.000000    0.000000    0.000000\n",
              "25%      0.000000    2.000000   20.125000    0.000000    0.000000    7.910400\n",
              "50%      0.000000    3.000000   28.000000    0.000000    0.000000   14.454200\n",
              "75%      1.000000    3.000000   38.000000    1.000000    0.000000   31.000000\n",
              "max      1.000000    3.000000   80.000000    8.000000    6.000000  512.329200"
            ]
          },
          "metadata": {
            "tags": []
          },
          "execution_count": 8
        }
      ]
    },
    {
      "metadata": {
        "id": "s6aak5yHKw26",
        "colab_type": "text"
      },
      "cell_type": "markdown",
      "source": [
        "**Check values count**"
      ]
    },
    {
      "metadata": {
        "id": "K2BKhFezXifG",
        "colab_type": "code",
        "outputId": "20009097-e4cf-4c1c-9119-13fd91ce0c9b",
        "colab": {
          "base_uri": "https://localhost:8080/",
          "height": 66
        }
      },
      "cell_type": "code",
      "source": [
        "df.survived.value_counts(dropna=False)"
      ],
      "execution_count": 0,
      "outputs": [
        {
          "output_type": "execute_result",
          "data": {
            "text/plain": [
              "0    549\n",
              "1    342\n",
              "Name: survived, dtype: int64"
            ]
          },
          "metadata": {
            "tags": []
          },
          "execution_count": 9
        }
      ]
    },
    {
      "metadata": {
        "id": "ojct6QLFqymz",
        "colab_type": "code",
        "outputId": "f57510ec-b5b5-4983-e6ac-1d30a91af7d8",
        "colab": {
          "base_uri": "https://localhost:8080/",
          "height": 333
        }
      },
      "cell_type": "code",
      "source": [
        "print(df.sex.value_counts(dropna=False))\n",
        "print(df.sibsp.value_counts(dropna=False))\n",
        "print(df.parch.value_counts(dropna=False))"
      ],
      "execution_count": 0,
      "outputs": [
        {
          "output_type": "stream",
          "text": [
            "male      577\n",
            "female    314\n",
            "Name: sex, dtype: int64\n",
            "0    608\n",
            "1    209\n",
            "2     28\n",
            "4     18\n",
            "3     16\n",
            "8      7\n",
            "5      5\n",
            "Name: sibsp, dtype: int64\n",
            "0    678\n",
            "1    118\n",
            "2     80\n",
            "5      5\n",
            "3      5\n",
            "4      4\n",
            "6      1\n",
            "Name: parch, dtype: int64\n"
          ],
          "name": "stdout"
        }
      ]
    },
    {
      "metadata": {
        "id": "H978jL1eLWMu",
        "colab_type": "text"
      },
      "cell_type": "markdown",
      "source": [
        "### Data cleaning"
      ]
    },
    {
      "metadata": {
        "id": "_d6DjCNxfCkq",
        "colab_type": "text"
      },
      "cell_type": "markdown",
      "source": [
        "**How many missing values we have?**"
      ]
    },
    {
      "metadata": {
        "id": "xuKBLZ0rfGjf",
        "colab_type": "code",
        "outputId": "5043d287-73ed-4f46-faf0-85f3cc61283e",
        "colab": {
          "base_uri": "https://localhost:8080/",
          "height": 216
        }
      },
      "cell_type": "code",
      "source": [
        "df.isnull().sum()"
      ],
      "execution_count": 0,
      "outputs": [
        {
          "output_type": "execute_result",
          "data": {
            "text/plain": [
              "survived      0\n",
              "pclass        0\n",
              "name          0\n",
              "sex           0\n",
              "age         177\n",
              "sibsp         0\n",
              "parch         0\n",
              "ticket        0\n",
              "fare          0\n",
              "cabin       687\n",
              "embarked      2\n",
              "dtype: int64"
            ]
          },
          "metadata": {
            "tags": []
          },
          "execution_count": 11
        }
      ]
    },
    {
      "metadata": {
        "id": "Lb_GHVl9fL0u",
        "colab_type": "text"
      },
      "cell_type": "markdown",
      "source": [
        "**Fill age with mean**"
      ]
    },
    {
      "metadata": {
        "id": "GVZ2xWpjfRuX",
        "colab_type": "code",
        "colab": {}
      },
      "cell_type": "code",
      "source": [
        "mean_age = np.mean(df.age)\n",
        "df.loc[df.age.isnull(),'age'] = mean_age"
      ],
      "execution_count": 0,
      "outputs": []
    },
    {
      "metadata": {
        "id": "Aoi7fIQOfp3f",
        "colab_type": "code",
        "outputId": "53b97f1f-ab9c-4f59-b3ac-e8d96ab81b34",
        "colab": {
          "base_uri": "https://localhost:8080/",
          "height": 216
        }
      },
      "cell_type": "code",
      "source": [
        "df.isnull().sum()"
      ],
      "execution_count": 0,
      "outputs": [
        {
          "output_type": "execute_result",
          "data": {
            "text/plain": [
              "survived      0\n",
              "pclass        0\n",
              "name          0\n",
              "sex           0\n",
              "age           0\n",
              "sibsp         0\n",
              "parch         0\n",
              "ticket        0\n",
              "fare          0\n",
              "cabin       687\n",
              "embarked      2\n",
              "dtype: int64"
            ]
          },
          "metadata": {
            "tags": []
          },
          "execution_count": 13
        }
      ]
    },
    {
      "metadata": {
        "id": "OYVYKXiWwUha",
        "colab_type": "text"
      },
      "cell_type": "markdown",
      "source": [
        "**Check for kids on board without parents?**\n",
        "\n",
        "It is okay, as some kids travelled only with nanny."
      ]
    },
    {
      "metadata": {
        "id": "l762jGqXq7Rc",
        "colab_type": "code",
        "outputId": "b9d6b814-0eff-4c63-fd2f-936283e020a9",
        "colab": {
          "base_uri": "https://localhost:8080/",
          "height": 216
        }
      },
      "cell_type": "code",
      "source": [
        "print(df.loc[(df.age<16) & (df.parch==0),])"
      ],
      "execution_count": 0,
      "outputs": [
        {
          "output_type": "stream",
          "text": [
            "     survived  pclass                                     name     sex   age  sibsp  parch  ticket     fare cabin embarked\n",
            "9           1       2      Nasser, Mrs. Nicholas (Adele Achem)  female  14.0      1      0  237736  30.0708   NaN        C\n",
            "14          0       3     Vestrom, Miss. Hulda Amanda Adolfina  female  14.0      0      0  350406   7.8542   NaN        S\n",
            "22          1       3              McGowan, Miss. Anna \"Annie\"  female  15.0      0      0  330923   8.0292   NaN        Q\n",
            "39          1       3              Nicola-Yarred, Miss. Jamila  female  14.0      1      0    2651  11.2417   NaN        C\n",
            "111         0       3                     Zabour, Miss. Hileni  female  14.5      1      0    2665  14.4542   NaN        C\n",
            "125         1       3             Nicola-Yarred, Master. Elias    male  12.0      1      0    2651  11.2417   NaN        C\n",
            "731         0       3                 Hassan, Mr. Houssein G N    male  11.0      0      0    2699  18.7875   NaN        C\n",
            "777         1       3            Emanuel, Miss. Virginia Ethel  female   5.0      0      0  364516  12.4750   NaN        S\n",
            "780         1       3                     Ayoub, Miss. Banoura  female  13.0      0      0    2687   7.2292   NaN        C\n",
            "830         1       3  Yasbeck, Mrs. Antoni (Selini Alexander)  female  15.0      1      0    2659  14.4542   NaN        C\n",
            "875         1       3         Najib, Miss. Adele Kiamie \"Jane\"  female  15.0      0      0    2667   7.2250   NaN        C\n"
          ],
          "name": "stdout"
        }
      ]
    },
    {
      "metadata": {
        "id": "rR1UQkhw0MpE",
        "colab_type": "text"
      },
      "cell_type": "markdown",
      "source": [
        "**More than two parents on board?**\n",
        "\n",
        "Set this value to NaN"
      ]
    },
    {
      "metadata": {
        "id": "fyJxR1jbs1bc",
        "colab_type": "code",
        "outputId": "2e494360-6381-461d-8d70-22709654ce76",
        "colab": {
          "base_uri": "https://localhost:8080/",
          "height": 597
        }
      },
      "cell_type": "code",
      "source": [
        "df.loc[df.parch>2,]"
      ],
      "execution_count": 0,
      "outputs": [
        {
          "output_type": "execute_result",
          "data": {
            "text/html": [
              "<div>\n",
              "<style scoped>\n",
              "    .dataframe tbody tr th:only-of-type {\n",
              "        vertical-align: middle;\n",
              "    }\n",
              "\n",
              "    .dataframe tbody tr th {\n",
              "        vertical-align: top;\n",
              "    }\n",
              "\n",
              "    .dataframe thead th {\n",
              "        text-align: right;\n",
              "    }\n",
              "</style>\n",
              "<table border=\"1\" class=\"dataframe\">\n",
              "  <thead>\n",
              "    <tr style=\"text-align: right;\">\n",
              "      <th></th>\n",
              "      <th>survived</th>\n",
              "      <th>pclass</th>\n",
              "      <th>name</th>\n",
              "      <th>sex</th>\n",
              "      <th>age</th>\n",
              "      <th>sibsp</th>\n",
              "      <th>parch</th>\n",
              "      <th>ticket</th>\n",
              "      <th>fare</th>\n",
              "      <th>cabin</th>\n",
              "      <th>embarked</th>\n",
              "    </tr>\n",
              "  </thead>\n",
              "  <tbody>\n",
              "    <tr>\n",
              "      <th>13</th>\n",
              "      <td>0</td>\n",
              "      <td>3</td>\n",
              "      <td>Andersson, Mr. Anders Johan</td>\n",
              "      <td>male</td>\n",
              "      <td>39.0</td>\n",
              "      <td>1</td>\n",
              "      <td>5</td>\n",
              "      <td>347082</td>\n",
              "      <td>31.2750</td>\n",
              "      <td>NaN</td>\n",
              "      <td>S</td>\n",
              "    </tr>\n",
              "    <tr>\n",
              "      <th>25</th>\n",
              "      <td>1</td>\n",
              "      <td>3</td>\n",
              "      <td>Asplund, Mrs. Carl Oscar (Selma Augusta Emilia...</td>\n",
              "      <td>female</td>\n",
              "      <td>38.0</td>\n",
              "      <td>1</td>\n",
              "      <td>5</td>\n",
              "      <td>347077</td>\n",
              "      <td>31.3875</td>\n",
              "      <td>NaN</td>\n",
              "      <td>S</td>\n",
              "    </tr>\n",
              "    <tr>\n",
              "      <th>86</th>\n",
              "      <td>0</td>\n",
              "      <td>3</td>\n",
              "      <td>Ford, Mr. William Neal</td>\n",
              "      <td>male</td>\n",
              "      <td>16.0</td>\n",
              "      <td>1</td>\n",
              "      <td>3</td>\n",
              "      <td>W./C. 6608</td>\n",
              "      <td>34.3750</td>\n",
              "      <td>NaN</td>\n",
              "      <td>S</td>\n",
              "    </tr>\n",
              "    <tr>\n",
              "      <th>167</th>\n",
              "      <td>0</td>\n",
              "      <td>3</td>\n",
              "      <td>Skoog, Mrs. William (Anna Bernhardina Karlsson)</td>\n",
              "      <td>female</td>\n",
              "      <td>45.0</td>\n",
              "      <td>1</td>\n",
              "      <td>4</td>\n",
              "      <td>347088</td>\n",
              "      <td>27.9000</td>\n",
              "      <td>NaN</td>\n",
              "      <td>S</td>\n",
              "    </tr>\n",
              "    <tr>\n",
              "      <th>360</th>\n",
              "      <td>0</td>\n",
              "      <td>3</td>\n",
              "      <td>Skoog, Mr. Wilhelm</td>\n",
              "      <td>male</td>\n",
              "      <td>40.0</td>\n",
              "      <td>1</td>\n",
              "      <td>4</td>\n",
              "      <td>347088</td>\n",
              "      <td>27.9000</td>\n",
              "      <td>NaN</td>\n",
              "      <td>S</td>\n",
              "    </tr>\n",
              "    <tr>\n",
              "      <th>437</th>\n",
              "      <td>1</td>\n",
              "      <td>2</td>\n",
              "      <td>Richards, Mrs. Sidney (Emily Hocking)</td>\n",
              "      <td>female</td>\n",
              "      <td>24.0</td>\n",
              "      <td>2</td>\n",
              "      <td>3</td>\n",
              "      <td>29106</td>\n",
              "      <td>18.7500</td>\n",
              "      <td>NaN</td>\n",
              "      <td>S</td>\n",
              "    </tr>\n",
              "    <tr>\n",
              "      <th>438</th>\n",
              "      <td>0</td>\n",
              "      <td>1</td>\n",
              "      <td>Fortune, Mr. Mark</td>\n",
              "      <td>male</td>\n",
              "      <td>64.0</td>\n",
              "      <td>1</td>\n",
              "      <td>4</td>\n",
              "      <td>19950</td>\n",
              "      <td>263.0000</td>\n",
              "      <td>C23 C25 C27</td>\n",
              "      <td>S</td>\n",
              "    </tr>\n",
              "    <tr>\n",
              "      <th>567</th>\n",
              "      <td>0</td>\n",
              "      <td>3</td>\n",
              "      <td>Palsson, Mrs. Nils (Alma Cornelia Berglund)</td>\n",
              "      <td>female</td>\n",
              "      <td>29.0</td>\n",
              "      <td>0</td>\n",
              "      <td>4</td>\n",
              "      <td>349909</td>\n",
              "      <td>21.0750</td>\n",
              "      <td>NaN</td>\n",
              "      <td>S</td>\n",
              "    </tr>\n",
              "    <tr>\n",
              "      <th>610</th>\n",
              "      <td>0</td>\n",
              "      <td>3</td>\n",
              "      <td>Andersson, Mrs. Anders Johan (Alfrida Konstant...</td>\n",
              "      <td>female</td>\n",
              "      <td>39.0</td>\n",
              "      <td>1</td>\n",
              "      <td>5</td>\n",
              "      <td>347082</td>\n",
              "      <td>31.2750</td>\n",
              "      <td>NaN</td>\n",
              "      <td>S</td>\n",
              "    </tr>\n",
              "    <tr>\n",
              "      <th>638</th>\n",
              "      <td>0</td>\n",
              "      <td>3</td>\n",
              "      <td>Panula, Mrs. Juha (Maria Emilia Ojala)</td>\n",
              "      <td>female</td>\n",
              "      <td>41.0</td>\n",
              "      <td>0</td>\n",
              "      <td>5</td>\n",
              "      <td>3101295</td>\n",
              "      <td>39.6875</td>\n",
              "      <td>NaN</td>\n",
              "      <td>S</td>\n",
              "    </tr>\n",
              "    <tr>\n",
              "      <th>678</th>\n",
              "      <td>0</td>\n",
              "      <td>3</td>\n",
              "      <td>Goodwin, Mrs. Frederick (Augusta Tyler)</td>\n",
              "      <td>female</td>\n",
              "      <td>43.0</td>\n",
              "      <td>1</td>\n",
              "      <td>6</td>\n",
              "      <td>CA 2144</td>\n",
              "      <td>46.9000</td>\n",
              "      <td>NaN</td>\n",
              "      <td>S</td>\n",
              "    </tr>\n",
              "    <tr>\n",
              "      <th>736</th>\n",
              "      <td>0</td>\n",
              "      <td>3</td>\n",
              "      <td>Ford, Mrs. Edward (Margaret Ann Watson)</td>\n",
              "      <td>female</td>\n",
              "      <td>48.0</td>\n",
              "      <td>1</td>\n",
              "      <td>3</td>\n",
              "      <td>W./C. 6608</td>\n",
              "      <td>34.3750</td>\n",
              "      <td>NaN</td>\n",
              "      <td>S</td>\n",
              "    </tr>\n",
              "    <tr>\n",
              "      <th>774</th>\n",
              "      <td>1</td>\n",
              "      <td>2</td>\n",
              "      <td>Hocking, Mrs. Elizabeth (Eliza Needs)</td>\n",
              "      <td>female</td>\n",
              "      <td>54.0</td>\n",
              "      <td>1</td>\n",
              "      <td>3</td>\n",
              "      <td>29105</td>\n",
              "      <td>23.0000</td>\n",
              "      <td>NaN</td>\n",
              "      <td>S</td>\n",
              "    </tr>\n",
              "    <tr>\n",
              "      <th>858</th>\n",
              "      <td>1</td>\n",
              "      <td>3</td>\n",
              "      <td>Baclini, Mrs. Solomon (Latifa Qurban)</td>\n",
              "      <td>female</td>\n",
              "      <td>24.0</td>\n",
              "      <td>0</td>\n",
              "      <td>3</td>\n",
              "      <td>2666</td>\n",
              "      <td>19.2583</td>\n",
              "      <td>NaN</td>\n",
              "      <td>C</td>\n",
              "    </tr>\n",
              "    <tr>\n",
              "      <th>885</th>\n",
              "      <td>0</td>\n",
              "      <td>3</td>\n",
              "      <td>Rice, Mrs. William (Margaret Norton)</td>\n",
              "      <td>female</td>\n",
              "      <td>39.0</td>\n",
              "      <td>0</td>\n",
              "      <td>5</td>\n",
              "      <td>382652</td>\n",
              "      <td>29.1250</td>\n",
              "      <td>NaN</td>\n",
              "      <td>Q</td>\n",
              "    </tr>\n",
              "  </tbody>\n",
              "</table>\n",
              "</div>"
            ],
            "text/plain": [
              "     survived  pclass                                               name     sex   age  sibsp  parch      ticket      fare        cabin embarked\n",
              "13          0       3                        Andersson, Mr. Anders Johan    male  39.0      1      5      347082   31.2750          NaN        S\n",
              "25          1       3  Asplund, Mrs. Carl Oscar (Selma Augusta Emilia...  female  38.0      1      5      347077   31.3875          NaN        S\n",
              "86          0       3                             Ford, Mr. William Neal    male  16.0      1      3  W./C. 6608   34.3750          NaN        S\n",
              "167         0       3    Skoog, Mrs. William (Anna Bernhardina Karlsson)  female  45.0      1      4      347088   27.9000          NaN        S\n",
              "360         0       3                                 Skoog, Mr. Wilhelm    male  40.0      1      4      347088   27.9000          NaN        S\n",
              "437         1       2              Richards, Mrs. Sidney (Emily Hocking)  female  24.0      2      3       29106   18.7500          NaN        S\n",
              "438         0       1                                  Fortune, Mr. Mark    male  64.0      1      4       19950  263.0000  C23 C25 C27        S\n",
              "567         0       3        Palsson, Mrs. Nils (Alma Cornelia Berglund)  female  29.0      0      4      349909   21.0750          NaN        S\n",
              "610         0       3  Andersson, Mrs. Anders Johan (Alfrida Konstant...  female  39.0      1      5      347082   31.2750          NaN        S\n",
              "638         0       3             Panula, Mrs. Juha (Maria Emilia Ojala)  female  41.0      0      5     3101295   39.6875          NaN        S\n",
              "678         0       3            Goodwin, Mrs. Frederick (Augusta Tyler)  female  43.0      1      6     CA 2144   46.9000          NaN        S\n",
              "736         0       3            Ford, Mrs. Edward (Margaret Ann Watson)  female  48.0      1      3  W./C. 6608   34.3750          NaN        S\n",
              "774         1       2              Hocking, Mrs. Elizabeth (Eliza Needs)  female  54.0      1      3       29105   23.0000          NaN        S\n",
              "858         1       3              Baclini, Mrs. Solomon (Latifa Qurban)  female  24.0      0      3        2666   19.2583          NaN        C\n",
              "885         0       3               Rice, Mrs. William (Margaret Norton)  female  39.0      0      5      382652   29.1250          NaN        Q"
            ]
          },
          "metadata": {
            "tags": []
          },
          "execution_count": 15
        }
      ]
    },
    {
      "metadata": {
        "id": "mXi-Ki4txJEN",
        "colab_type": "code",
        "outputId": "30ed5cd4-b334-4b28-8fe7-8c3a89a50df7",
        "colab": {
          "base_uri": "https://localhost:8080/",
          "height": 66
        }
      },
      "cell_type": "code",
      "source": [
        "df.loc[df.parch>2,'parch']=np.nan\n",
        "print(df.loc[df.parch>2,])"
      ],
      "execution_count": 0,
      "outputs": [
        {
          "output_type": "stream",
          "text": [
            "Empty DataFrame\n",
            "Columns: [survived, pclass, name, sex, age, sibsp, parch, ticket, fare, cabin, embarked]\n",
            "Index: []\n"
          ],
          "name": "stdout"
        }
      ]
    },
    {
      "metadata": {
        "id": "IiUeOeF9Kp8u",
        "colab_type": "text"
      },
      "cell_type": "markdown",
      "source": [
        "**No ticket fee**"
      ]
    },
    {
      "metadata": {
        "id": "xVh0ibRp_w_Q",
        "colab_type": "code",
        "outputId": "fc113af5-c815-4d29-f828-e4cc1e3a1fd0",
        "colab": {
          "base_uri": "https://localhost:8080/",
          "height": 497
        }
      },
      "cell_type": "code",
      "source": [
        "df.loc[df.fare==0,]"
      ],
      "execution_count": 0,
      "outputs": [
        {
          "output_type": "execute_result",
          "data": {
            "text/html": [
              "<div>\n",
              "<style scoped>\n",
              "    .dataframe tbody tr th:only-of-type {\n",
              "        vertical-align: middle;\n",
              "    }\n",
              "\n",
              "    .dataframe tbody tr th {\n",
              "        vertical-align: top;\n",
              "    }\n",
              "\n",
              "    .dataframe thead th {\n",
              "        text-align: right;\n",
              "    }\n",
              "</style>\n",
              "<table border=\"1\" class=\"dataframe\">\n",
              "  <thead>\n",
              "    <tr style=\"text-align: right;\">\n",
              "      <th></th>\n",
              "      <th>survived</th>\n",
              "      <th>pclass</th>\n",
              "      <th>name</th>\n",
              "      <th>sex</th>\n",
              "      <th>age</th>\n",
              "      <th>sibsp</th>\n",
              "      <th>parch</th>\n",
              "      <th>ticket</th>\n",
              "      <th>fare</th>\n",
              "      <th>cabin</th>\n",
              "      <th>embarked</th>\n",
              "    </tr>\n",
              "  </thead>\n",
              "  <tbody>\n",
              "    <tr>\n",
              "      <th>179</th>\n",
              "      <td>0</td>\n",
              "      <td>3</td>\n",
              "      <td>Leonard, Mr. Lionel</td>\n",
              "      <td>male</td>\n",
              "      <td>36.000000</td>\n",
              "      <td>0</td>\n",
              "      <td>0.0</td>\n",
              "      <td>LINE</td>\n",
              "      <td>0.0</td>\n",
              "      <td>NaN</td>\n",
              "      <td>S</td>\n",
              "    </tr>\n",
              "    <tr>\n",
              "      <th>263</th>\n",
              "      <td>0</td>\n",
              "      <td>1</td>\n",
              "      <td>Harrison, Mr. William</td>\n",
              "      <td>male</td>\n",
              "      <td>40.000000</td>\n",
              "      <td>0</td>\n",
              "      <td>0.0</td>\n",
              "      <td>112059</td>\n",
              "      <td>0.0</td>\n",
              "      <td>B94</td>\n",
              "      <td>S</td>\n",
              "    </tr>\n",
              "    <tr>\n",
              "      <th>271</th>\n",
              "      <td>1</td>\n",
              "      <td>3</td>\n",
              "      <td>Tornquist, Mr. William Henry</td>\n",
              "      <td>male</td>\n",
              "      <td>25.000000</td>\n",
              "      <td>0</td>\n",
              "      <td>0.0</td>\n",
              "      <td>LINE</td>\n",
              "      <td>0.0</td>\n",
              "      <td>NaN</td>\n",
              "      <td>S</td>\n",
              "    </tr>\n",
              "    <tr>\n",
              "      <th>277</th>\n",
              "      <td>0</td>\n",
              "      <td>2</td>\n",
              "      <td>Parkes, Mr. Francis \"Frank\"</td>\n",
              "      <td>male</td>\n",
              "      <td>29.699118</td>\n",
              "      <td>0</td>\n",
              "      <td>0.0</td>\n",
              "      <td>239853</td>\n",
              "      <td>0.0</td>\n",
              "      <td>NaN</td>\n",
              "      <td>S</td>\n",
              "    </tr>\n",
              "    <tr>\n",
              "      <th>302</th>\n",
              "      <td>0</td>\n",
              "      <td>3</td>\n",
              "      <td>Johnson, Mr. William Cahoone Jr</td>\n",
              "      <td>male</td>\n",
              "      <td>19.000000</td>\n",
              "      <td>0</td>\n",
              "      <td>0.0</td>\n",
              "      <td>LINE</td>\n",
              "      <td>0.0</td>\n",
              "      <td>NaN</td>\n",
              "      <td>S</td>\n",
              "    </tr>\n",
              "    <tr>\n",
              "      <th>413</th>\n",
              "      <td>0</td>\n",
              "      <td>2</td>\n",
              "      <td>Cunningham, Mr. Alfred Fleming</td>\n",
              "      <td>male</td>\n",
              "      <td>29.699118</td>\n",
              "      <td>0</td>\n",
              "      <td>0.0</td>\n",
              "      <td>239853</td>\n",
              "      <td>0.0</td>\n",
              "      <td>NaN</td>\n",
              "      <td>S</td>\n",
              "    </tr>\n",
              "    <tr>\n",
              "      <th>466</th>\n",
              "      <td>0</td>\n",
              "      <td>2</td>\n",
              "      <td>Campbell, Mr. William</td>\n",
              "      <td>male</td>\n",
              "      <td>29.699118</td>\n",
              "      <td>0</td>\n",
              "      <td>0.0</td>\n",
              "      <td>239853</td>\n",
              "      <td>0.0</td>\n",
              "      <td>NaN</td>\n",
              "      <td>S</td>\n",
              "    </tr>\n",
              "    <tr>\n",
              "      <th>481</th>\n",
              "      <td>0</td>\n",
              "      <td>2</td>\n",
              "      <td>Frost, Mr. Anthony Wood \"Archie\"</td>\n",
              "      <td>male</td>\n",
              "      <td>29.699118</td>\n",
              "      <td>0</td>\n",
              "      <td>0.0</td>\n",
              "      <td>239854</td>\n",
              "      <td>0.0</td>\n",
              "      <td>NaN</td>\n",
              "      <td>S</td>\n",
              "    </tr>\n",
              "    <tr>\n",
              "      <th>597</th>\n",
              "      <td>0</td>\n",
              "      <td>3</td>\n",
              "      <td>Johnson, Mr. Alfred</td>\n",
              "      <td>male</td>\n",
              "      <td>49.000000</td>\n",
              "      <td>0</td>\n",
              "      <td>0.0</td>\n",
              "      <td>LINE</td>\n",
              "      <td>0.0</td>\n",
              "      <td>NaN</td>\n",
              "      <td>S</td>\n",
              "    </tr>\n",
              "    <tr>\n",
              "      <th>633</th>\n",
              "      <td>0</td>\n",
              "      <td>1</td>\n",
              "      <td>Parr, Mr. William Henry Marsh</td>\n",
              "      <td>male</td>\n",
              "      <td>29.699118</td>\n",
              "      <td>0</td>\n",
              "      <td>0.0</td>\n",
              "      <td>112052</td>\n",
              "      <td>0.0</td>\n",
              "      <td>NaN</td>\n",
              "      <td>S</td>\n",
              "    </tr>\n",
              "    <tr>\n",
              "      <th>674</th>\n",
              "      <td>0</td>\n",
              "      <td>2</td>\n",
              "      <td>Watson, Mr. Ennis Hastings</td>\n",
              "      <td>male</td>\n",
              "      <td>29.699118</td>\n",
              "      <td>0</td>\n",
              "      <td>0.0</td>\n",
              "      <td>239856</td>\n",
              "      <td>0.0</td>\n",
              "      <td>NaN</td>\n",
              "      <td>S</td>\n",
              "    </tr>\n",
              "    <tr>\n",
              "      <th>732</th>\n",
              "      <td>0</td>\n",
              "      <td>2</td>\n",
              "      <td>Knight, Mr. Robert J</td>\n",
              "      <td>male</td>\n",
              "      <td>29.699118</td>\n",
              "      <td>0</td>\n",
              "      <td>0.0</td>\n",
              "      <td>239855</td>\n",
              "      <td>0.0</td>\n",
              "      <td>NaN</td>\n",
              "      <td>S</td>\n",
              "    </tr>\n",
              "    <tr>\n",
              "      <th>806</th>\n",
              "      <td>0</td>\n",
              "      <td>1</td>\n",
              "      <td>Andrews, Mr. Thomas Jr</td>\n",
              "      <td>male</td>\n",
              "      <td>39.000000</td>\n",
              "      <td>0</td>\n",
              "      <td>0.0</td>\n",
              "      <td>112050</td>\n",
              "      <td>0.0</td>\n",
              "      <td>A36</td>\n",
              "      <td>S</td>\n",
              "    </tr>\n",
              "    <tr>\n",
              "      <th>815</th>\n",
              "      <td>0</td>\n",
              "      <td>1</td>\n",
              "      <td>Fry, Mr. Richard</td>\n",
              "      <td>male</td>\n",
              "      <td>29.699118</td>\n",
              "      <td>0</td>\n",
              "      <td>0.0</td>\n",
              "      <td>112058</td>\n",
              "      <td>0.0</td>\n",
              "      <td>B102</td>\n",
              "      <td>S</td>\n",
              "    </tr>\n",
              "    <tr>\n",
              "      <th>822</th>\n",
              "      <td>0</td>\n",
              "      <td>1</td>\n",
              "      <td>Reuchlin, Jonkheer. John George</td>\n",
              "      <td>male</td>\n",
              "      <td>38.000000</td>\n",
              "      <td>0</td>\n",
              "      <td>0.0</td>\n",
              "      <td>19972</td>\n",
              "      <td>0.0</td>\n",
              "      <td>NaN</td>\n",
              "      <td>S</td>\n",
              "    </tr>\n",
              "  </tbody>\n",
              "</table>\n",
              "</div>"
            ],
            "text/plain": [
              "     survived  pclass                              name   sex        age  sibsp  parch  ticket  fare cabin embarked\n",
              "179         0       3               Leonard, Mr. Lionel  male  36.000000      0    0.0    LINE   0.0   NaN        S\n",
              "263         0       1             Harrison, Mr. William  male  40.000000      0    0.0  112059   0.0   B94        S\n",
              "271         1       3      Tornquist, Mr. William Henry  male  25.000000      0    0.0    LINE   0.0   NaN        S\n",
              "277         0       2       Parkes, Mr. Francis \"Frank\"  male  29.699118      0    0.0  239853   0.0   NaN        S\n",
              "302         0       3   Johnson, Mr. William Cahoone Jr  male  19.000000      0    0.0    LINE   0.0   NaN        S\n",
              "413         0       2    Cunningham, Mr. Alfred Fleming  male  29.699118      0    0.0  239853   0.0   NaN        S\n",
              "466         0       2             Campbell, Mr. William  male  29.699118      0    0.0  239853   0.0   NaN        S\n",
              "481         0       2  Frost, Mr. Anthony Wood \"Archie\"  male  29.699118      0    0.0  239854   0.0   NaN        S\n",
              "597         0       3               Johnson, Mr. Alfred  male  49.000000      0    0.0    LINE   0.0   NaN        S\n",
              "633         0       1     Parr, Mr. William Henry Marsh  male  29.699118      0    0.0  112052   0.0   NaN        S\n",
              "674         0       2        Watson, Mr. Ennis Hastings  male  29.699118      0    0.0  239856   0.0   NaN        S\n",
              "732         0       2              Knight, Mr. Robert J  male  29.699118      0    0.0  239855   0.0   NaN        S\n",
              "806         0       1            Andrews, Mr. Thomas Jr  male  39.000000      0    0.0  112050   0.0   A36        S\n",
              "815         0       1                  Fry, Mr. Richard  male  29.699118      0    0.0  112058   0.0  B102        S\n",
              "822         0       1   Reuchlin, Jonkheer. John George  male  38.000000      0    0.0   19972   0.0   NaN        S"
            ]
          },
          "metadata": {
            "tags": []
          },
          "execution_count": 17
        }
      ]
    },
    {
      "metadata": {
        "id": "7lrD3OHyKYZH",
        "colab_type": "text"
      },
      "cell_type": "markdown",
      "source": [
        "### Exploratory data analysis"
      ]
    },
    {
      "metadata": {
        "id": "pxLieTa_JUh0",
        "colab_type": "text"
      },
      "cell_type": "markdown",
      "source": [
        "\n",
        "**Titanic by gender**"
      ]
    },
    {
      "metadata": {
        "id": "gHaXw_FhJDG1",
        "colab_type": "code",
        "outputId": "3c73efc7-0b79-40be-fd14-2ddbc7a50691",
        "colab": {
          "base_uri": "https://localhost:8080/",
          "height": 137
        }
      },
      "cell_type": "code",
      "source": [
        "df.groupby('sex').mean()"
      ],
      "execution_count": 0,
      "outputs": [
        {
          "output_type": "execute_result",
          "data": {
            "text/html": [
              "<div>\n",
              "<style scoped>\n",
              "    .dataframe tbody tr th:only-of-type {\n",
              "        vertical-align: middle;\n",
              "    }\n",
              "\n",
              "    .dataframe tbody tr th {\n",
              "        vertical-align: top;\n",
              "    }\n",
              "\n",
              "    .dataframe thead th {\n",
              "        text-align: right;\n",
              "    }\n",
              "</style>\n",
              "<table border=\"1\" class=\"dataframe\">\n",
              "  <thead>\n",
              "    <tr style=\"text-align: right;\">\n",
              "      <th></th>\n",
              "      <th>survived</th>\n",
              "      <th>pclass</th>\n",
              "      <th>age</th>\n",
              "      <th>sibsp</th>\n",
              "      <th>parch</th>\n",
              "      <th>fare</th>\n",
              "    </tr>\n",
              "    <tr>\n",
              "      <th>sex</th>\n",
              "      <th></th>\n",
              "      <th></th>\n",
              "      <th></th>\n",
              "      <th></th>\n",
              "      <th></th>\n",
              "      <th></th>\n",
              "    </tr>\n",
              "  </thead>\n",
              "  <tbody>\n",
              "    <tr>\n",
              "      <th>female</th>\n",
              "      <td>0.742038</td>\n",
              "      <td>2.159236</td>\n",
              "      <td>28.216730</td>\n",
              "      <td>0.694268</td>\n",
              "      <td>0.521452</td>\n",
              "      <td>44.479818</td>\n",
              "    </tr>\n",
              "    <tr>\n",
              "      <th>male</th>\n",
              "      <td>0.188908</td>\n",
              "      <td>2.389948</td>\n",
              "      <td>30.505824</td>\n",
              "      <td>0.429809</td>\n",
              "      <td>0.209424</td>\n",
              "      <td>25.523893</td>\n",
              "    </tr>\n",
              "  </tbody>\n",
              "</table>\n",
              "</div>"
            ],
            "text/plain": [
              "        survived    pclass        age     sibsp     parch       fare\n",
              "sex                                                                 \n",
              "female  0.742038  2.159236  28.216730  0.694268  0.521452  44.479818\n",
              "male    0.188908  2.389948  30.505824  0.429809  0.209424  25.523893"
            ]
          },
          "metadata": {
            "tags": []
          },
          "execution_count": 18
        }
      ]
    },
    {
      "metadata": {
        "id": "yqriD7fGJgJ3",
        "colab_type": "text"
      },
      "cell_type": "markdown",
      "source": [
        "\n",
        "\n",
        "*   Huge difference between survival probability \n",
        "*   Man often travelled alone and their fare was lower\n",
        "\n"
      ]
    },
    {
      "metadata": {
        "id": "-pGGmZHaJO0E",
        "colab_type": "code",
        "outputId": "d1b90546-19a9-4865-f066-b221c1408db8",
        "colab": {
          "base_uri": "https://localhost:8080/",
          "height": 302
        }
      },
      "cell_type": "code",
      "source": [
        "df.sex.value_counts().plot(kind='bar')\n",
        "#plt.axis('equal')\n",
        "plt.show()"
      ],
      "execution_count": 0,
      "outputs": [
        {
          "output_type": "display_data",
          "data": {
            "image/png": "[encoded data removed]",
            "text/plain": [
              "<Figure size 432x288 with 1 Axes>"
            ]
          },
          "metadata": {
            "tags": []
          }
        }
      ]
    },
    {
      "metadata": {
        "id": "Q1Y6RHuMhdMU",
        "colab_type": "text"
      },
      "cell_type": "markdown",
      "source": [
        "**Histogram of fare payed**"
      ]
    },
    {
      "metadata": {
        "id": "Rj6Q4dxjhhVO",
        "colab_type": "code",
        "outputId": "d098aefe-fa11-4e62-872b-ea003423c682",
        "colab": {
          "base_uri": "https://localhost:8080/",
          "height": 301
        }
      },
      "cell_type": "code",
      "source": [
        "ax = sns.distplot(df.fare)\n",
        "plt.title('Fare payed histogram')\n",
        "plt.xlabel('Fare')\n",
        "plt.show()"
      ],
      "execution_count": 0,
      "outputs": [
        {
          "output_type": "display_data",
          "data": {
            "image/png": "[encoded data removed]",
            "text/plain": [
              "<Figure size 432x288 with 1 Axes>"
            ]
          },
          "metadata": {
            "tags": []
          }
        }
      ]
    },
    {
      "metadata": {
        "id": "AOltPIpCUqWb",
        "colab_type": "text"
      },
      "cell_type": "markdown",
      "source": [
        "**How many people survived? 342 survived 549 not**\n"
      ]
    },
    {
      "metadata": {
        "id": "yFS4ziOoUuQ-",
        "colab_type": "code",
        "outputId": "0b7dd7ba-6b86-49c0-cc16-6ac836adc136",
        "colab": {
          "base_uri": "https://localhost:8080/",
          "height": 66
        }
      },
      "cell_type": "code",
      "source": [
        "print(df.survived.value_counts())"
      ],
      "execution_count": 0,
      "outputs": [
        {
          "output_type": "stream",
          "text": [
            "0    549\n",
            "1    342\n",
            "Name: survived, dtype: int64\n"
          ],
          "name": "stdout"
        }
      ]
    },
    {
      "metadata": {
        "id": "3pXzIyIRnH1f",
        "colab_type": "text"
      },
      "cell_type": "markdown",
      "source": [
        "** Survived percentage by sex**"
      ]
    },
    {
      "metadata": {
        "id": "pr_CvbrRj3uS",
        "colab_type": "code",
        "outputId": "06e17743-5e69-4425-be8a-13d97dcde2ce",
        "colab": {
          "base_uri": "https://localhost:8080/",
          "height": 374
        }
      },
      "cell_type": "code",
      "source": [
        "ax = sns.catplot(\"sex\", \"survived\", data=df, kind=\"bar\", legend=True)\n",
        "plt.title('Survived percentage')\n",
        "plt.ylabel('Survived')\n",
        "plt.show()"
      ],
      "execution_count": 0,
      "outputs": [
        {
          "output_type": "display_data",
          "data": {
            "image/png": "[encoded data removed]",
            "text/plain": [
              "<Figure size 360x360 with 1 Axes>"
            ]
          },
          "metadata": {
            "tags": []
          }
        }
      ]
    },
    {
      "metadata": {
        "id": "2REk9cF2iFDk",
        "colab_type": "text"
      },
      "cell_type": "markdown",
      "source": [
        "** Survived percentage by class**"
      ]
    },
    {
      "metadata": {
        "id": "PspzoCeEnRru",
        "colab_type": "code",
        "outputId": "d7e893e4-2098-4772-b9c2-e23474c219f3",
        "colab": {
          "base_uri": "https://localhost:8080/",
          "height": 364
        }
      },
      "cell_type": "code",
      "source": [
        "ax = sns.catplot(\"pclass\", \"survived\", data=df, kind=\"bar\", legend=True)"
      ],
      "execution_count": 0,
      "outputs": [
        {
          "output_type": "display_data",
          "data": {
            "image/png": "[encoded data removed]",
            "text/plain": [
              "<Figure size 360x360 with 1 Axes>"
            ]
          },
          "metadata": {
            "tags": []
          }
        }
      ]
    },
    {
      "metadata": {
        "id": "1wYJyWoeiMW2",
        "colab_type": "text"
      },
      "cell_type": "markdown",
      "source": [
        "** Survived percentage by sex and class**"
      ]
    },
    {
      "metadata": {
        "id": "dEbCPg7HgaDS",
        "colab_type": "code",
        "outputId": "6d2c72cf-24a0-4f6e-ac87-f0c93f15f0f6",
        "colab": {
          "base_uri": "https://localhost:8080/",
          "height": 364
        }
      },
      "cell_type": "code",
      "source": [
        "ax = sns.catplot(\"pclass\", \"survived\", \"sex\", data=df, kind=\"bar\", legend=True)"
      ],
      "execution_count": 0,
      "outputs": [
        {
          "output_type": "display_data",
          "data": {
            "image/png": "[encoded data removed]",
            "text/plain": [
              "<Figure size 437.975x360 with 1 Axes>"
            ]
          },
          "metadata": {
            "tags": []
          }
        }
      ]
    },
    {
      "metadata": {
        "id": "650gzn1Ym_vs",
        "colab_type": "text"
      },
      "cell_type": "markdown",
      "source": [
        "**Survived count by sex and class**"
      ]
    },
    {
      "metadata": {
        "id": "ruswka2tjZnG",
        "colab_type": "text"
      },
      "cell_type": "markdown",
      "source": [
        "**Passenger class**"
      ]
    },
    {
      "metadata": {
        "id": "NQ0scxSIjdrI",
        "colab_type": "code",
        "outputId": "3561012a-2a32-4e3c-ea57-c93f6dc5a4b1",
        "colab": {
          "base_uri": "https://localhost:8080/",
          "height": 291
        }
      },
      "cell_type": "code",
      "source": [
        "sns.countplot(\"pclass\", data=df, hue=\"sex\")\n",
        "plt.show()"
      ],
      "execution_count": 0,
      "outputs": [
        {
          "output_type": "display_data",
          "data": {
            "image/png": "[encoded data removed]",
            "text/plain": [
              "<Figure size 432x288 with 1 Axes>"
            ]
          },
          "metadata": {
            "tags": []
          }
        }
      ]
    },
    {
      "metadata": {
        "id": "YN-uVyDkPYXJ",
        "colab_type": "code",
        "outputId": "9b5f2ac6-d132-46f1-ca7a-86e139d13692",
        "colab": {
          "base_uri": "https://localhost:8080/",
          "height": 301
        }
      },
      "cell_type": "code",
      "source": [
        "f, ax = plt.subplots(1,2,figsize=(10,4))\n",
        "\n",
        "sns.countplot(x=\"sex\", hue=\"survived\", data=df, ax=ax[0])\n",
        "ax[0].set_title('Count of survived by sex')\n",
        "\n",
        "sns.countplot(x=\"pclass\", hue=\"survived\", data=df, ax=ax[1])\n",
        "ax[1].set_title('Count of survived by class')\n",
        "\n",
        "plt.show()"
      ],
      "execution_count": 0,
      "outputs": [
        {
          "output_type": "display_data",
          "data": {
            "image/png": "[encoded data removed]",
            "text/plain": [
              "<Figure size 720x288 with 2 Axes>"
            ]
          },
          "metadata": {
            "tags": []
          }
        }
      ]
    },
    {
      "metadata": {
        "id": "dgMaTQpQfFDG",
        "colab_type": "text"
      },
      "cell_type": "markdown",
      "source": [
        "**Check age distribution by  passenger class and sex**"
      ]
    },
    {
      "metadata": {
        "id": "OVPlXo_bfEI6",
        "colab_type": "code",
        "outputId": "6ce5e5c1-75fd-440c-b5c7-9acc0317b91a",
        "colab": {
          "base_uri": "https://localhost:8080/",
          "height": 544
        }
      },
      "cell_type": "code",
      "source": [
        "fg = sns.FacetGrid(df, row=\"pclass\", hue=\"sex\", height=2.5, aspect=2.5)\n",
        "fg.map(sns.kdeplot, \"age\", shade=True)\n",
        "fg.set(xlim=(0, 90))\n",
        "plt.legend()\n",
        "plt.show()"
      ],
      "execution_count": 0,
      "outputs": [
        {
          "output_type": "display_data",
          "data": {
            "image/png": "[encoded data removed]",
            "text/plain": [
              "<Figure size 450x540 with 3 Axes>"
            ]
          },
          "metadata": {
            "tags": []
          }
        }
      ]
    },
    {
      "metadata": {
        "id": "ZGguNYnVHaTo",
        "colab_type": "text"
      },
      "cell_type": "markdown",
      "source": [
        "## Exercises"
      ]
    },
    {
      "metadata": {
        "id": "1jAIW73VHeZr",
        "colab_type": "text"
      },
      "cell_type": "markdown",
      "source": [
        "https://github.com/rougier/numpy-100\n",
        "\n",
        "https://github.com/ajcr/100-pandas-puzzles/"
      ]
    },
    {
      "metadata": {
        "id": "QoI5XueCJfLl",
        "colab_type": "text"
      },
      "cell_type": "markdown",
      "source": [
        "- pandas &  numpy documentation"
      ]
    },
    {
      "metadata": {
        "id": "0yVDEhSXJi-e",
        "colab_type": "code",
        "colab": {}
      },
      "cell_type": "code",
      "source": [
        ""
      ],
      "execution_count": 0,
      "outputs": []
    }
  ]
}